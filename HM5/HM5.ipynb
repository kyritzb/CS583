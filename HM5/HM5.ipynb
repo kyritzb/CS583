{
  "nbformat": 4,
  "nbformat_minor": 0,
  "metadata": {
    "kernelspec": {
      "display_name": "Python 3",
      "language": "python",
      "name": "python3"
    },
    "language_info": {
      "codemirror_mode": {
        "name": "ipython",
        "version": 3
      },
      "file_extension": ".py",
      "mimetype": "text/x-python",
      "name": "python",
      "nbconvert_exporter": "python",
      "pygments_lexer": "ipython3",
      "version": "3.6.4"
    },
    "colab": {
      "name": "Copy of HM5.ipynb",
      "provenance": [],
      "collapsed_sections": [],
      "toc_visible": true
    },
    "accelerator": "GPU"
  },
  "cells": [
    {
      "cell_type": "markdown",
      "metadata": {
        "id": "0YyxRQOUQeQB"
      },
      "source": [
        "# Home 5: Build a seq2seq model for machine translation.\n",
        "\n",
        "### Name: Bryan Kyritz\n",
        "\n",
        "### Task: Translate English to Portuguese "
      ]
    },
    {
      "cell_type": "markdown",
      "metadata": {
        "id": "-ykv1sCaQeQE"
      },
      "source": [
        "## 0. You will do the following:\n",
        "\n",
        "1. Read and run my code.\n",
        "2. Complete the code in Section 1.1 and Section 4.2.\n",
        "\n",
        "    * Translation **English** to **German** is not acceptable!!! Try another pair of languages.\n",
        "    \n",
        "3. **Make improvements.** Directly modify the code in Section 3. Do at least one of the two. By doing both correctly, you will get up to 1 bonus score to the total.\n",
        "\n",
        "    * Bi-LSTM instead of LSTM.\n",
        "        \n",
        "    * Attention. (You are allowed to use existing code.)\n",
        "    \n",
        "4. Evaluate the translation using the BLEU score. \n",
        "\n",
        "    * Optional. Up to 1 bonus scores to the total.\n",
        "    \n",
        "5. Convert the notebook to .HTML file. \n",
        "\n",
        "    * The HTML file must contain the code and the output after execution.\n",
        "\n",
        "6. Put the .HTML file in your Google Drive, Dropbox, or Github repo.  (If you submit the file to Google Drive or Dropbox, you must make the file \"open-access\". The delay caused by \"deny of access\" may result in late penalty.)\n",
        "\n",
        "7. Submit the link to the HTML file to Canvas.    \n"
      ]
    },
    {
      "cell_type": "markdown",
      "metadata": {
        "id": "a387lHCzQeQF"
      },
      "source": [
        "### Hint: \n",
        "\n",
        "To implement ```Bi-LSTM```, you will need the following code to build the encoder. Do NOT use Bi-LSTM for the decoder."
      ]
    },
    {
      "cell_type": "code",
      "metadata": {
        "id": "lmrG5alLQeQF"
      },
      "source": [
        "from keras.layers import Bidirectional, Concatenate\n",
        "\n",
        "encoder_bilstm = Bidirectional(LSTM(latent_dim, return_state=True, \n",
        "                                  dropout=0.5, name='encoder_lstm'))\n",
        "_, forward_h, forward_c, backward_h, backward_c = encoder_bilstm(encoder_inputs)\n",
        "\n",
        "state_h = Concatenate()([forward_h, backward_h])\n",
        "state_c = Concatenate()([forward_c, backward_c])"
      ],
      "execution_count": 35,
      "outputs": []
    },
    {
      "cell_type": "markdown",
      "metadata": {
        "id": "5-cnHKKSQeQF"
      },
      "source": [
        "## 1. Data preparation\n",
        "\n",
        "1. Download data (e.g., \"deu-eng.zip\") from http://www.manythings.org/anki/\n",
        "2. Unzip the .ZIP file.\n",
        "3. Put the .TXT file (e.g., \"deu.txt\") in the directory \"./Data/\"."
      ]
    },
    {
      "cell_type": "markdown",
      "metadata": {
        "id": "lxbci6ykQeQF"
      },
      "source": [
        "### 1.1. Load and clean text\n"
      ]
    },
    {
      "cell_type": "code",
      "metadata": {
        "id": "WL8DpQArQeQF"
      },
      "source": [
        "import re\n",
        "import string\n",
        "from unicodedata import normalize\n",
        "import numpy\n",
        "\n",
        "# load doc into memory\n",
        "def load_doc(filename):\n",
        "    # open the file as read only\n",
        "    file = open(filename, mode='rt', encoding='utf-8')\n",
        "    # read all text\n",
        "    text = file.read()\n",
        "    # close the file\n",
        "    file.close()\n",
        "    return text\n",
        "\n",
        "\n",
        "# split a loaded document into sentences\n",
        "def to_pairs(doc):\n",
        "    lines = doc.strip().split('\\n')\n",
        "    pairs = [line.split('\\t') for line in  lines]\n",
        "    return pairs\n",
        "\n",
        "def clean_data(lines):\n",
        "    cleaned = list()\n",
        "    # prepare regex for char filtering\n",
        "    re_print = re.compile('[^%s]' % re.escape(string.printable))\n",
        "    # prepare translation table for removing punctuation\n",
        "    table = str.maketrans('', '', string.punctuation)\n",
        "    for pair in lines:\n",
        "        clean_pair = list()\n",
        "        for line in pair:\n",
        "            # normalize unicode characters\n",
        "            line = normalize('NFD', line).encode('ascii', 'ignore')\n",
        "            line = line.decode('UTF-8')\n",
        "            # tokenize on white space\n",
        "            line = line.split()\n",
        "            # convert to lowercase\n",
        "            line = [word.lower() for word in line]\n",
        "            # remove punctuation from each token\n",
        "            line = [word.translate(table) for word in line]\n",
        "            # remove non-printable chars form each token\n",
        "            line = [re_print.sub('', w) for w in line]\n",
        "            # remove tokens with numbers in them\n",
        "            line = [word for word in line if word.isalpha()]\n",
        "            # store as string\n",
        "            clean_pair.append(' '.join(line))\n",
        "        cleaned.append(clean_pair)\n",
        "    return numpy.array(cleaned)"
      ],
      "execution_count": 36,
      "outputs": []
    },
    {
      "cell_type": "markdown",
      "metadata": {
        "id": "CfAUmfTPQeQG"
      },
      "source": [
        "#### Fill the following blanks:"
      ]
    },
    {
      "cell_type": "code",
      "metadata": {
        "id": "QhoZpM3AQeQG"
      },
      "source": [
        "# e.g., filename = 'Data/deu.txt'\n",
        "filename = 'Data/por.txt'\n",
        "\n",
        "# e.g., n_train = 20000\n",
        "n_train = 20000"
      ],
      "execution_count": 37,
      "outputs": []
    },
    {
      "cell_type": "code",
      "metadata": {
        "id": "Z91RI7C_QeQG"
      },
      "source": [
        "# load dataset\n",
        "doc = load_doc(filename)\n",
        "\n",
        "# split into Language1-Language2 pairs\n",
        "pairs = to_pairs(doc)\n",
        "\n",
        "# clean sentences\n",
        "clean_pairs = clean_data(pairs)[0:n_train, :]"
      ],
      "execution_count": 38,
      "outputs": []
    },
    {
      "cell_type": "code",
      "metadata": {
        "colab": {
          "base_uri": "https://localhost:8080/"
        },
        "id": "kFTykT0dSSqZ",
        "outputId": "3df1b2af-59c6-4bc5-ea59-94ff000ac727"
      },
      "source": [
        "from google.colab import drive\n",
        "drive.mount('/content/drive')"
      ],
      "execution_count": 39,
      "outputs": [
        {
          "output_type": "stream",
          "text": [
            "Drive already mounted at /content/drive; to attempt to forcibly remount, call drive.mount(\"/content/drive\", force_remount=True).\n"
          ],
          "name": "stdout"
        }
      ]
    },
    {
      "cell_type": "code",
      "metadata": {
        "id": "FM3cDWuBQeQG",
        "colab": {
          "base_uri": "https://localhost:8080/"
        },
        "outputId": "d00f3724-472d-47bb-c992-9442a89a2847"
      },
      "source": [
        "for i in range(3000, 3010):\n",
        "    print('[' + clean_pairs[i, 0] + '] => [' + clean_pairs[i, 1] + ']')"
      ],
      "execution_count": 40,
      "outputs": [
        {
          "output_type": "stream",
          "text": [
            "[tom crashed] => [tom sofreu um acidente]\n",
            "[tom cringed] => [tom se encolheu]\n",
            "[tom decided] => [tom decidiu]\n",
            "[tom drowned] => [tom se afogou]\n",
            "[tom escaped] => [tom escapou]\n",
            "[tom exhaled] => [tom exalou]\n",
            "[tom fainted] => [tom desmaiou]\n",
            "[tom frowned] => [tom franziu a testa]\n",
            "[tom gave up] => [tom desistiu]\n",
            "[tom giggled] => [tom deu uma risadinha]\n"
          ],
          "name": "stdout"
        }
      ]
    },
    {
      "cell_type": "code",
      "metadata": {
        "id": "hHp37oMRQeQG",
        "colab": {
          "base_uri": "https://localhost:8080/"
        },
        "outputId": "424fdf24-00eb-4f98-82dd-0e0cc8e6b194"
      },
      "source": [
        "input_texts = clean_pairs[:, 0]\n",
        "target_texts = ['\\t' + text + '\\n' for text in clean_pairs[:, 1]]\n",
        "\n",
        "print('Length of input_texts:  ' + str(input_texts.shape))\n",
        "print('Length of target_texts: ' + str(input_texts.shape))"
      ],
      "execution_count": 41,
      "outputs": [
        {
          "output_type": "stream",
          "text": [
            "Length of input_texts:  (20000,)\n",
            "Length of target_texts: (20000,)\n"
          ],
          "name": "stdout"
        }
      ]
    },
    {
      "cell_type": "code",
      "metadata": {
        "id": "mqoGdTZAQeQH",
        "colab": {
          "base_uri": "https://localhost:8080/"
        },
        "outputId": "d40093fa-9111-4f3a-aa75-706617e6077a"
      },
      "source": [
        "max_encoder_seq_length = max(len(line) for line in input_texts)\n",
        "max_decoder_seq_length = max(len(line) for line in target_texts)\n",
        "\n",
        "print('max length of input  sentences: %d' % (max_encoder_seq_length))\n",
        "print('max length of target sentences: %d' % (max_decoder_seq_length))"
      ],
      "execution_count": 42,
      "outputs": [
        {
          "output_type": "stream",
          "text": [
            "max length of input  sentences: 17\n",
            "max length of target sentences: 44\n"
          ],
          "name": "stdout"
        }
      ]
    },
    {
      "cell_type": "markdown",
      "metadata": {
        "id": "apZNjyV0QeQH"
      },
      "source": [
        "**Remark:** To this end, you have two lists of sentences: input_texts and target_texts"
      ]
    },
    {
      "cell_type": "markdown",
      "metadata": {
        "id": "TBGGdpFAQeQH"
      },
      "source": [
        "## 2. Text processing\n",
        "\n",
        "### 2.1. Convert texts to sequences\n",
        "\n",
        "- Input: A list of $n$ sentences (with max length $t$).\n",
        "- It is represented by a $n\\times t$ matrix after the tokenization and zero-padding."
      ]
    },
    {
      "cell_type": "code",
      "metadata": {
        "id": "cQ_cFtTSQeQH",
        "colab": {
          "base_uri": "https://localhost:8080/"
        },
        "outputId": "9c22d72d-88d4-4cab-fb29-8e07e6152d2a"
      },
      "source": [
        "from keras.preprocessing.text import Tokenizer\n",
        "from keras.preprocessing.sequence import pad_sequences\n",
        "\n",
        "# encode and pad sequences\n",
        "def text2sequences(max_len, lines):\n",
        "    tokenizer = Tokenizer(char_level=True, filters='')\n",
        "    tokenizer.fit_on_texts(lines)\n",
        "    seqs = tokenizer.texts_to_sequences(lines)\n",
        "    seqs_pad = pad_sequences(seqs, maxlen=max_len, padding='post')\n",
        "    return seqs_pad, tokenizer.word_index\n",
        "\n",
        "\n",
        "encoder_input_seq, input_token_index = text2sequences(max_encoder_seq_length, \n",
        "                                                      input_texts)\n",
        "decoder_input_seq, target_token_index = text2sequences(max_decoder_seq_length, \n",
        "                                                       target_texts)\n",
        "\n",
        "print('shape of encoder_input_seq: ' + str(encoder_input_seq.shape))\n",
        "print('shape of input_token_index: ' + str(len(input_token_index)))\n",
        "print('shape of decoder_input_seq: ' + str(decoder_input_seq.shape))\n",
        "print('shape of target_token_index: ' + str(len(target_token_index)))"
      ],
      "execution_count": 43,
      "outputs": [
        {
          "output_type": "stream",
          "text": [
            "shape of encoder_input_seq: (20000, 17)\n",
            "shape of input_token_index: 27\n",
            "shape of decoder_input_seq: (20000, 44)\n",
            "shape of target_token_index: 29\n"
          ],
          "name": "stdout"
        }
      ]
    },
    {
      "cell_type": "code",
      "metadata": {
        "id": "ideXmVe0QeQH",
        "colab": {
          "base_uri": "https://localhost:8080/"
        },
        "outputId": "ff4f2112-59f2-473b-b4e2-d7dc24a37f5f"
      },
      "source": [
        "num_encoder_tokens = len(input_token_index) + 1\n",
        "num_decoder_tokens = len(target_token_index) + 1\n",
        "\n",
        "print('num_encoder_tokens: ' + str(num_encoder_tokens))\n",
        "print('num_decoder_tokens: ' + str(num_decoder_tokens))"
      ],
      "execution_count": 44,
      "outputs": [
        {
          "output_type": "stream",
          "text": [
            "num_encoder_tokens: 28\n",
            "num_decoder_tokens: 30\n"
          ],
          "name": "stdout"
        }
      ]
    },
    {
      "cell_type": "markdown",
      "metadata": {
        "id": "QK3FM7YxQeQH"
      },
      "source": [
        "**Remark:** To this end, the input language and target language texts are converted to 2 matrices. \n",
        "\n",
        "- Their number of rows are both n_train.\n",
        "- Their number of columns are respective max_encoder_seq_length and max_decoder_seq_length."
      ]
    },
    {
      "cell_type": "markdown",
      "metadata": {
        "id": "rDTl7_oLQeQI"
      },
      "source": [
        "The followings print a sentence and its representation as a sequence."
      ]
    },
    {
      "cell_type": "code",
      "metadata": {
        "id": "wt-_T4abQeQI",
        "colab": {
          "base_uri": "https://localhost:8080/",
          "height": 35
        },
        "outputId": "7650b705-5936-401b-878d-a98e9508b97d"
      },
      "source": [
        "target_texts[100]"
      ],
      "execution_count": 45,
      "outputs": [
        {
          "output_type": "execute_result",
          "data": {
            "application/vnd.google.colaboratory.intrinsic+json": {
              "type": "string"
            },
            "text/plain": [
              "'\\tde jeito nenhum\\n'"
            ]
          },
          "metadata": {
            "tags": []
          },
          "execution_count": 45
        }
      ]
    },
    {
      "cell_type": "code",
      "metadata": {
        "id": "-sPcN7bOQeQI",
        "colab": {
          "base_uri": "https://localhost:8080/"
        },
        "outputId": "90a52be0-c1d6-422d-9d4f-76814b79b8bc"
      },
      "source": [
        "decoder_input_seq[100, :]"
      ],
      "execution_count": 46,
      "outputs": [
        {
          "output_type": "execute_result",
          "data": {
            "text/plain": [
              "array([ 6, 15,  2,  1, 24,  2, 11,  8,  3,  1, 13,  2, 13, 20, 10,  9,  7,\n",
              "        0,  0,  0,  0,  0,  0,  0,  0,  0,  0,  0,  0,  0,  0,  0,  0,  0,\n",
              "        0,  0,  0,  0,  0,  0,  0,  0,  0,  0], dtype=int32)"
            ]
          },
          "metadata": {
            "tags": []
          },
          "execution_count": 46
        }
      ]
    },
    {
      "cell_type": "markdown",
      "metadata": {
        "id": "C9ATonrLQeQI"
      },
      "source": [
        "## 2.2. One-hot encode\n",
        "\n",
        "- Input: A list of $n$ sentences (with max length $t$).\n",
        "- It is represented by a $n\\times t$ matrix after the tokenization and zero-padding.\n",
        "- It is represented by a $n\\times t \\times v$ tensor ($t$ is the number of unique chars) after the one-hot encoding."
      ]
    },
    {
      "cell_type": "code",
      "metadata": {
        "id": "NwfHSHvzQeQI",
        "colab": {
          "base_uri": "https://localhost:8080/"
        },
        "outputId": "2cf3936c-bb0b-473e-cb88-01188ccc8625"
      },
      "source": [
        "from keras.utils import to_categorical\n",
        "\n",
        "# one hot encode target sequence\n",
        "def onehot_encode(sequences, max_len, vocab_size):\n",
        "    n = len(sequences)\n",
        "    data = numpy.zeros((n, max_len, vocab_size))\n",
        "    for i in range(n):\n",
        "        data[i, :, :] = to_categorical(sequences[i], num_classes=vocab_size)\n",
        "    return data\n",
        "\n",
        "encoder_input_data = onehot_encode(encoder_input_seq, max_encoder_seq_length, num_encoder_tokens)\n",
        "decoder_input_data = onehot_encode(decoder_input_seq, max_decoder_seq_length, num_decoder_tokens)\n",
        "\n",
        "decoder_target_seq = numpy.zeros(decoder_input_seq.shape)\n",
        "decoder_target_seq[:, 0:-1] = decoder_input_seq[:, 1:]\n",
        "decoder_target_data = onehot_encode(decoder_target_seq, \n",
        "                                    max_decoder_seq_length, \n",
        "                                    num_decoder_tokens)\n",
        "\n",
        "print(encoder_input_data.shape)\n",
        "print(decoder_input_data.shape)"
      ],
      "execution_count": 47,
      "outputs": [
        {
          "output_type": "stream",
          "text": [
            "(20000, 17, 28)\n",
            "(20000, 44, 30)\n"
          ],
          "name": "stdout"
        }
      ]
    },
    {
      "cell_type": "markdown",
      "metadata": {
        "id": "dr9JllBxQeQI"
      },
      "source": [
        "## 3. Build the networks (for training)\n",
        "\n",
        "- Build encoder, decoder, and connect the two modules to get \"model\". \n",
        "\n",
        "- Fit the model on the bilingual data to train the parameters in the encoder and decoder."
      ]
    },
    {
      "cell_type": "markdown",
      "metadata": {
        "id": "wGh3jXUfQeQI"
      },
      "source": [
        "### 3.1. Encoder network\n",
        "\n",
        "- Input:  one-hot encode of the input language\n",
        "\n",
        "- Return: \n",
        "\n",
        "    -- output (all the hidden states   $h_1, \\cdots , h_t$) are always discarded\n",
        "    \n",
        "    -- the final hidden state  $h_t$\n",
        "    \n",
        "    -- the final conveyor belt $c_t$"
      ]
    },
    {
      "cell_type": "code",
      "metadata": {
        "id": "cxoatxjVQeQI"
      },
      "source": [
        "from keras.layers import Input, LSTM\n",
        "from keras.models import Model\n",
        "\n",
        "latent_dim = 256\n",
        "\n",
        "# inputs of the encoder network\n",
        "encoder_inputs = Input(shape=(None, num_encoder_tokens), \n",
        "                       name='encoder_inputs')\n",
        "\n",
        "# set the LSTM layer\n",
        "encoder_lstm = LSTM(latent_dim, return_state=True, \n",
        "                    dropout=0.5, name='encoder_lstm')\n",
        "_, state_h, state_c = encoder_lstm(encoder_inputs)\n",
        "\n",
        "# build the encoder network model\n",
        "encoder_model = Model(inputs=encoder_inputs, \n",
        "                      outputs=[state_h, state_c],\n",
        "                      name='encoder')"
      ],
      "execution_count": 48,
      "outputs": []
    },
    {
      "cell_type": "markdown",
      "metadata": {
        "id": "NOrw3AyUQeQJ"
      },
      "source": [
        "Print a summary and save the encoder network structure to \"./encoder.pdf\""
      ]
    },
    {
      "cell_type": "code",
      "metadata": {
        "id": "HwYE8ajqQeQJ",
        "colab": {
          "base_uri": "https://localhost:8080/"
        },
        "outputId": "ae068f56-1750-409e-cd3d-613c7629d50b"
      },
      "source": [
        "from IPython.display import SVG\n",
        "from keras.utils.vis_utils import model_to_dot, plot_model\n",
        "\n",
        "SVG(model_to_dot(encoder_model, show_shapes=False).create(prog='dot', format='svg'))\n",
        "\n",
        "plot_model(\n",
        "    model=encoder_model, show_shapes=False,\n",
        "    to_file='encoder.pdf'\n",
        ")\n",
        "\n",
        "encoder_model.summary()"
      ],
      "execution_count": 49,
      "outputs": [
        {
          "output_type": "stream",
          "text": [
            "Model: \"encoder\"\n",
            "_________________________________________________________________\n",
            "Layer (type)                 Output Shape              Param #   \n",
            "=================================================================\n",
            "encoder_inputs (InputLayer)  [(None, None, 28)]        0         \n",
            "_________________________________________________________________\n",
            "encoder_lstm (LSTM)          [(None, 256), (None, 256) 291840    \n",
            "=================================================================\n",
            "Total params: 291,840\n",
            "Trainable params: 291,840\n",
            "Non-trainable params: 0\n",
            "_________________________________________________________________\n"
          ],
          "name": "stdout"
        }
      ]
    },
    {
      "cell_type": "markdown",
      "metadata": {
        "id": "DCabbneLQeQJ"
      },
      "source": [
        "### 3.2. Decoder network\n",
        "\n",
        "- Inputs:  \n",
        "\n",
        "    -- one-hot encode of the target language\n",
        "    \n",
        "    -- The initial hidden state $h_t$ \n",
        "    \n",
        "    -- The initial conveyor belt $c_t$ \n",
        "\n",
        "- Return: \n",
        "\n",
        "    -- output (all the hidden states) $h_1, \\cdots , h_t$\n",
        "\n",
        "    -- the final hidden state  $h_t$ (discarded in the training and used in the prediction)\n",
        "    \n",
        "    -- the final conveyor belt $c_t$ (discarded in the training and used in the prediction)"
      ]
    },
    {
      "cell_type": "code",
      "metadata": {
        "id": "keMQUwaMQeQJ"
      },
      "source": [
        "from keras.layers import Input, LSTM, Dense\n",
        "from keras.models import Model\n",
        "\n",
        "# inputs of the decoder network\n",
        "decoder_input_h = Input(shape=(latent_dim,), name='decoder_input_h')\n",
        "decoder_input_c = Input(shape=(latent_dim,), name='decoder_input_c')\n",
        "decoder_input_x = Input(shape=(None, num_decoder_tokens), name='decoder_input_x')\n",
        "\n",
        "# set the LSTM layer\n",
        "decoder_lstm = LSTM(latent_dim, return_sequences=True, \n",
        "                    return_state=True, dropout=0.5, name='decoder_lstm')\n",
        "decoder_lstm_outputs, state_h, state_c = decoder_lstm(decoder_input_x, \n",
        "                                                      initial_state=[decoder_input_h, decoder_input_c])\n",
        "\n",
        "# set the dense layer\n",
        "decoder_dense = Dense(num_decoder_tokens, activation='softmax', name='decoder_dense')\n",
        "decoder_outputs = decoder_dense(decoder_lstm_outputs)\n",
        "\n",
        "# build the decoder network model\n",
        "decoder_model = Model(inputs=[decoder_input_x, decoder_input_h, decoder_input_c],\n",
        "                      outputs=[decoder_outputs, state_h, state_c],\n",
        "                      name='decoder')"
      ],
      "execution_count": 50,
      "outputs": []
    },
    {
      "cell_type": "markdown",
      "metadata": {
        "id": "Xd7NXUCfQeQJ"
      },
      "source": [
        "Print a summary and save the encoder network structure to \"./decoder.pdf\""
      ]
    },
    {
      "cell_type": "code",
      "metadata": {
        "id": "YDYMqD6dQeQJ",
        "colab": {
          "base_uri": "https://localhost:8080/"
        },
        "outputId": "b45605f7-9059-4ff7-a19f-96877cc7c738"
      },
      "source": [
        "from IPython.display import SVG\n",
        "from keras.utils.vis_utils import model_to_dot, plot_model\n",
        "\n",
        "SVG(model_to_dot(decoder_model, show_shapes=False).create(prog='dot', format='svg'))\n",
        "\n",
        "plot_model(\n",
        "    model=decoder_model, show_shapes=False,\n",
        "    to_file='decoder.pdf'\n",
        ")\n",
        "\n",
        "decoder_model.summary()"
      ],
      "execution_count": 51,
      "outputs": [
        {
          "output_type": "stream",
          "text": [
            "Model: \"decoder\"\n",
            "__________________________________________________________________________________________________\n",
            "Layer (type)                    Output Shape         Param #     Connected to                     \n",
            "==================================================================================================\n",
            "decoder_input_x (InputLayer)    [(None, None, 30)]   0                                            \n",
            "__________________________________________________________________________________________________\n",
            "decoder_input_h (InputLayer)    [(None, 256)]        0                                            \n",
            "__________________________________________________________________________________________________\n",
            "decoder_input_c (InputLayer)    [(None, 256)]        0                                            \n",
            "__________________________________________________________________________________________________\n",
            "decoder_lstm (LSTM)             [(None, None, 256),  293888      decoder_input_x[0][0]            \n",
            "                                                                 decoder_input_h[0][0]            \n",
            "                                                                 decoder_input_c[0][0]            \n",
            "__________________________________________________________________________________________________\n",
            "decoder_dense (Dense)           (None, None, 30)     7710        decoder_lstm[0][0]               \n",
            "==================================================================================================\n",
            "Total params: 301,598\n",
            "Trainable params: 301,598\n",
            "Non-trainable params: 0\n",
            "__________________________________________________________________________________________________\n"
          ],
          "name": "stdout"
        }
      ]
    },
    {
      "cell_type": "markdown",
      "metadata": {
        "id": "Zl10fRaDQeQK"
      },
      "source": [
        "### 3.3. Connect the encoder and decoder"
      ]
    },
    {
      "cell_type": "code",
      "metadata": {
        "id": "juDOW3CyQeQK"
      },
      "source": [
        "# input layers\n",
        "encoder_input_x = Input(shape=(None, num_encoder_tokens), name='encoder_input_x')\n",
        "decoder_input_x = Input(shape=(None, num_decoder_tokens), name='decoder_input_x')\n",
        "\n",
        "# connect encoder to decoder\n",
        "encoder_final_states = encoder_model([encoder_input_x])\n",
        "decoder_lstm_output, _, _ = decoder_lstm(decoder_input_x, initial_state=encoder_final_states)\n",
        "decoder_pred = decoder_dense(decoder_lstm_output)\n",
        "\n",
        "model = Model(inputs=[encoder_input_x, decoder_input_x], \n",
        "              outputs=decoder_pred, \n",
        "              name='model_training')"
      ],
      "execution_count": 52,
      "outputs": []
    },
    {
      "cell_type": "code",
      "metadata": {
        "id": "YPyeQ3-xQeQK",
        "colab": {
          "base_uri": "https://localhost:8080/"
        },
        "outputId": "82ea2014-c008-4444-fd2b-de6e2f4cb62b"
      },
      "source": [
        "print(state_h)\n",
        "print(decoder_input_h)"
      ],
      "execution_count": 53,
      "outputs": [
        {
          "output_type": "stream",
          "text": [
            "KerasTensor(type_spec=TensorSpec(shape=(None, 256), dtype=tf.float32, name=None), name='decoder_lstm/PartitionedCall:2', description=\"created by layer 'decoder_lstm'\")\n",
            "KerasTensor(type_spec=TensorSpec(shape=(None, 256), dtype=tf.float32, name='decoder_input_h'), name='decoder_input_h', description=\"created by layer 'decoder_input_h'\")\n"
          ],
          "name": "stdout"
        }
      ]
    },
    {
      "cell_type": "code",
      "metadata": {
        "id": "W4YInIklQeQK",
        "colab": {
          "base_uri": "https://localhost:8080/"
        },
        "outputId": "49c6a8b0-acb4-4585-9e91-1e28908f2e6c"
      },
      "source": [
        "from IPython.display import SVG\n",
        "from keras.utils.vis_utils import model_to_dot, plot_model\n",
        "\n",
        "SVG(model_to_dot(model, show_shapes=False).create(prog='dot', format='svg'))\n",
        "\n",
        "plot_model(\n",
        "    model=model, show_shapes=False,\n",
        "    to_file='model_training.pdf'\n",
        ")\n",
        "\n",
        "model.summary()"
      ],
      "execution_count": 54,
      "outputs": [
        {
          "output_type": "stream",
          "text": [
            "Model: \"model_training\"\n",
            "__________________________________________________________________________________________________\n",
            "Layer (type)                    Output Shape         Param #     Connected to                     \n",
            "==================================================================================================\n",
            "encoder_input_x (InputLayer)    [(None, None, 28)]   0                                            \n",
            "__________________________________________________________________________________________________\n",
            "decoder_input_x (InputLayer)    [(None, None, 30)]   0                                            \n",
            "__________________________________________________________________________________________________\n",
            "encoder (Functional)            [(None, 256), (None, 291840      encoder_input_x[0][0]            \n",
            "__________________________________________________________________________________________________\n",
            "decoder_lstm (LSTM)             [(None, None, 256),  293888      decoder_input_x[0][0]            \n",
            "                                                                 encoder[0][0]                    \n",
            "                                                                 encoder[0][1]                    \n",
            "__________________________________________________________________________________________________\n",
            "decoder_dense (Dense)           (None, None, 30)     7710        decoder_lstm[1][0]               \n",
            "==================================================================================================\n",
            "Total params: 593,438\n",
            "Trainable params: 593,438\n",
            "Non-trainable params: 0\n",
            "__________________________________________________________________________________________________\n"
          ],
          "name": "stdout"
        }
      ]
    },
    {
      "cell_type": "markdown",
      "metadata": {
        "id": "A8m-k7gcQeQK"
      },
      "source": [
        "### 3.5. Fit the model on the bilingual dataset\n",
        "\n",
        "- encoder_input_data: one-hot encode of the input language\n",
        "\n",
        "- decoder_input_data: one-hot encode of the input language\n",
        "\n",
        "- decoder_target_data: labels (left shift of decoder_input_data)\n",
        "\n",
        "- tune the hyper-parameters\n",
        "\n",
        "- stop when the validation loss stop decreasing."
      ]
    },
    {
      "cell_type": "code",
      "metadata": {
        "id": "tq_EhIB1QeQK",
        "colab": {
          "base_uri": "https://localhost:8080/"
        },
        "outputId": "8ce38efd-76fd-4b74-d0ec-a2f5979bf17b"
      },
      "source": [
        "print('shape of encoder_input_data' + str(encoder_input_data.shape))\n",
        "print('shape of decoder_input_data' + str(decoder_input_data.shape))\n",
        "print('shape of decoder_target_data' + str(decoder_target_data.shape))"
      ],
      "execution_count": 55,
      "outputs": [
        {
          "output_type": "stream",
          "text": [
            "shape of encoder_input_data(20000, 17, 28)\n",
            "shape of decoder_input_data(20000, 44, 30)\n",
            "shape of decoder_target_data(20000, 44, 30)\n"
          ],
          "name": "stdout"
        }
      ]
    },
    {
      "cell_type": "code",
      "metadata": {
        "id": "XKivS_ZyQeQK",
        "colab": {
          "base_uri": "https://localhost:8080/"
        },
        "outputId": "dbfc9a15-2ad1-41e3-e5aa-e1a66f8dc0ae"
      },
      "source": [
        "model.compile(optimizer='rmsprop', loss='categorical_crossentropy')\n",
        "\n",
        "model.fit([encoder_input_data, decoder_input_data],  # training data\n",
        "          decoder_target_data,                       # labels (left shift of the target sequences)\n",
        "          batch_size=64, epochs=50, validation_split=0.2)\n",
        "\n",
        "model.save('seq2seq.h5')"
      ],
      "execution_count": 56,
      "outputs": [
        {
          "output_type": "stream",
          "text": [
            "Epoch 1/50\n",
            "250/250 [==============================] - 5s 13ms/step - loss: 1.3572 - val_loss: 1.0510\n",
            "Epoch 2/50\n",
            "250/250 [==============================] - 2s 9ms/step - loss: 0.9237 - val_loss: 0.9033\n",
            "Epoch 3/50\n",
            "250/250 [==============================] - 2s 10ms/step - loss: 0.8634 - val_loss: 0.8317\n",
            "Epoch 4/50\n",
            "250/250 [==============================] - 2s 9ms/step - loss: 0.8269 - val_loss: 0.7972\n",
            "Epoch 5/50\n",
            "250/250 [==============================] - 2s 10ms/step - loss: 0.7913 - val_loss: 0.7527\n",
            "Epoch 6/50\n",
            "250/250 [==============================] - 2s 9ms/step - loss: 0.7781 - val_loss: 0.7339\n",
            "Epoch 7/50\n",
            "250/250 [==============================] - 2s 10ms/step - loss: 0.7575 - val_loss: 0.7103\n",
            "Epoch 8/50\n",
            "250/250 [==============================] - 2s 9ms/step - loss: 0.7464 - val_loss: 0.6941\n",
            "Epoch 9/50\n",
            "250/250 [==============================] - 2s 9ms/step - loss: 0.7321 - val_loss: 0.6778\n",
            "Epoch 10/50\n",
            "250/250 [==============================] - 2s 10ms/step - loss: 0.7263 - val_loss: 0.6624\n",
            "Epoch 11/50\n",
            "250/250 [==============================] - 2s 10ms/step - loss: 0.7153 - val_loss: 0.6551\n",
            "Epoch 12/50\n",
            "250/250 [==============================] - 2s 10ms/step - loss: 0.7010 - val_loss: 0.6500\n",
            "Epoch 13/50\n",
            "250/250 [==============================] - 2s 10ms/step - loss: 0.6995 - val_loss: 0.6371\n",
            "Epoch 14/50\n",
            "250/250 [==============================] - 2s 10ms/step - loss: 0.6886 - val_loss: 0.6306\n",
            "Epoch 15/50\n",
            "250/250 [==============================] - 2s 10ms/step - loss: 0.6824 - val_loss: 0.6226\n",
            "Epoch 16/50\n",
            "250/250 [==============================] - 2s 9ms/step - loss: 0.6766 - val_loss: 0.6143\n",
            "Epoch 17/50\n",
            "250/250 [==============================] - 2s 9ms/step - loss: 0.6689 - val_loss: 0.6090\n",
            "Epoch 18/50\n",
            "250/250 [==============================] - 2s 9ms/step - loss: 0.6602 - val_loss: 0.6047\n",
            "Epoch 19/50\n",
            "250/250 [==============================] - 2s 10ms/step - loss: 0.6604 - val_loss: 0.5986\n",
            "Epoch 20/50\n",
            "250/250 [==============================] - 2s 9ms/step - loss: 0.6561 - val_loss: 0.5942\n",
            "Epoch 21/50\n",
            "250/250 [==============================] - 2s 10ms/step - loss: 0.6499 - val_loss: 0.5895\n",
            "Epoch 22/50\n",
            "250/250 [==============================] - 2s 9ms/step - loss: 0.6456 - val_loss: 0.5845\n",
            "Epoch 23/50\n",
            "250/250 [==============================] - 2s 9ms/step - loss: 0.6435 - val_loss: 0.5834\n",
            "Epoch 24/50\n",
            "250/250 [==============================] - 2s 9ms/step - loss: 0.6348 - val_loss: 0.5783\n",
            "Epoch 25/50\n",
            "250/250 [==============================] - 2s 9ms/step - loss: 0.6358 - val_loss: 0.5759\n",
            "Epoch 26/50\n",
            "250/250 [==============================] - 2s 9ms/step - loss: 0.6307 - val_loss: 0.5724\n",
            "Epoch 27/50\n",
            "250/250 [==============================] - 2s 10ms/step - loss: 0.6254 - val_loss: 0.5714\n",
            "Epoch 28/50\n",
            "250/250 [==============================] - 2s 10ms/step - loss: 0.6206 - val_loss: 0.5680\n",
            "Epoch 29/50\n",
            "250/250 [==============================] - 2s 10ms/step - loss: 0.6194 - val_loss: 0.5622\n",
            "Epoch 30/50\n",
            "250/250 [==============================] - 2s 9ms/step - loss: 0.6107 - val_loss: 0.5606\n",
            "Epoch 31/50\n",
            "250/250 [==============================] - 2s 9ms/step - loss: 0.6108 - val_loss: 0.5559\n",
            "Epoch 32/50\n",
            "250/250 [==============================] - 2s 9ms/step - loss: 0.6020 - val_loss: 0.5542\n",
            "Epoch 33/50\n",
            "250/250 [==============================] - 2s 9ms/step - loss: 0.6053 - val_loss: 0.5518\n",
            "Epoch 34/50\n",
            "250/250 [==============================] - 2s 9ms/step - loss: 0.6034 - val_loss: 0.5479\n",
            "Epoch 35/50\n",
            "250/250 [==============================] - 2s 10ms/step - loss: 0.5996 - val_loss: 0.5494\n",
            "Epoch 36/50\n",
            "250/250 [==============================] - 2s 9ms/step - loss: 0.5978 - val_loss: 0.5471\n",
            "Epoch 37/50\n",
            "250/250 [==============================] - 2s 10ms/step - loss: 0.5924 - val_loss: 0.5454\n",
            "Epoch 38/50\n",
            "250/250 [==============================] - 2s 9ms/step - loss: 0.5919 - val_loss: 0.5451\n",
            "Epoch 39/50\n",
            "250/250 [==============================] - 2s 10ms/step - loss: 0.5876 - val_loss: 0.5436\n",
            "Epoch 40/50\n",
            "250/250 [==============================] - 2s 10ms/step - loss: 0.5889 - val_loss: 0.5388\n",
            "Epoch 41/50\n",
            "250/250 [==============================] - 2s 9ms/step - loss: 0.5820 - val_loss: 0.5402\n",
            "Epoch 42/50\n",
            "250/250 [==============================] - 2s 10ms/step - loss: 0.5794 - val_loss: 0.5369\n",
            "Epoch 43/50\n",
            "250/250 [==============================] - 2s 9ms/step - loss: 0.5773 - val_loss: 0.5359\n",
            "Epoch 44/50\n",
            "250/250 [==============================] - 2s 9ms/step - loss: 0.5783 - val_loss: 0.5359\n",
            "Epoch 45/50\n",
            "250/250 [==============================] - 2s 10ms/step - loss: 0.5775 - val_loss: 0.5322\n",
            "Epoch 46/50\n",
            "250/250 [==============================] - 2s 9ms/step - loss: 0.5712 - val_loss: 0.5304\n",
            "Epoch 47/50\n",
            "250/250 [==============================] - 2s 10ms/step - loss: 0.5722 - val_loss: 0.5282\n",
            "Epoch 48/50\n",
            "250/250 [==============================] - 2s 9ms/step - loss: 0.5738 - val_loss: 0.5304\n",
            "Epoch 49/50\n",
            "250/250 [==============================] - 2s 9ms/step - loss: 0.5726 - val_loss: 0.5301\n",
            "Epoch 50/50\n",
            "250/250 [==============================] - 2s 10ms/step - loss: 0.5644 - val_loss: 0.5266\n"
          ],
          "name": "stdout"
        }
      ]
    },
    {
      "cell_type": "markdown",
      "metadata": {
        "id": "9dknc4JlQeQK"
      },
      "source": [
        "## 4. Make predictions\n",
        "\n",
        "\n",
        "### 4.1. Translate English to XXX\n",
        "\n",
        "1. Encoder read a sentence (source language) and output its final states, $h_t$ and $c_t$.\n",
        "2. Take the [star] sign \"\\t\" and the final state $h_t$ and $c_t$ as input and run the decoder.\n",
        "3. Get the new states and predicted probability distribution.\n",
        "4. sample a char from the predicted probability distribution\n",
        "5. take the sampled char and the new states as input and repeat the process (stop if reach the [stop] sign \"\\n\")."
      ]
    },
    {
      "cell_type": "code",
      "metadata": {
        "id": "aHIJK7snQeQK"
      },
      "source": [
        "# Reverse-lookup token index to decode sequences back to something readable.\n",
        "reverse_input_char_index = dict((i, char) for char, i in input_token_index.items())\n",
        "reverse_target_char_index = dict((i, char) for char, i in target_token_index.items())"
      ],
      "execution_count": 57,
      "outputs": []
    },
    {
      "cell_type": "code",
      "metadata": {
        "id": "TAuUyQ7FQeQL"
      },
      "source": [
        "def decode_sequence(input_seq):\n",
        "    states_value = encoder_model.predict(input_seq)\n",
        "\n",
        "    target_seq = numpy.zeros((1, 1, num_decoder_tokens))\n",
        "    target_seq[0, 0, target_token_index['\\t']] = 1.\n",
        "\n",
        "    stop_condition = False\n",
        "    decoded_sentence = ''\n",
        "    while not stop_condition:\n",
        "        output_tokens, h, c = decoder_model.predict([target_seq] + states_value)\n",
        "\n",
        "        # this line of code is greedy selection\n",
        "        # try to use multinomial sampling instead (with temperature)\n",
        "        sampled_token_index = numpy.argmax(output_tokens[0, -1, :])\n",
        "        \n",
        "        sampled_char = reverse_target_char_index[sampled_token_index]\n",
        "        decoded_sentence += sampled_char\n",
        "\n",
        "        if (sampled_char == '\\n' or\n",
        "           len(decoded_sentence) > max_decoder_seq_length):\n",
        "            stop_condition = True\n",
        "\n",
        "        target_seq = numpy.zeros((1, 1, num_decoder_tokens))\n",
        "        target_seq[0, 0, sampled_token_index] = 1.\n",
        "\n",
        "        states_value = [h, c]\n",
        "\n",
        "    return decoded_sentence\n"
      ],
      "execution_count": 58,
      "outputs": []
    },
    {
      "cell_type": "code",
      "metadata": {
        "id": "vS1TtiQlQeQL",
        "colab": {
          "base_uri": "https://localhost:8080/"
        },
        "outputId": "2ed01fd7-29dc-4643-be61-6b4171bc6b4f"
      },
      "source": [
        "for seq_index in range(2100, 2120):\n",
        "    # Take one sequence (part of the training set)\n",
        "    # for trying out decoding.\n",
        "    input_seq = encoder_input_data[seq_index: seq_index + 1]\n",
        "    decoded_sentence = decode_sequence(input_seq)\n",
        "    print('-')\n",
        "    print('English:       ', input_texts[seq_index])\n",
        "    print('German (true): ', target_texts[seq_index][1:-1])\n",
        "    print('German (pred): ', decoded_sentence[0:-1])\n"
      ],
      "execution_count": 59,
      "outputs": [
        {
          "output_type": "stream",
          "text": [
            "-\n",
            "English:        ask anybody\n",
            "German (true):  pergunta a alguem\n",
            "German (pred):  tenta um pouco\n",
            "-\n",
            "English:        be creative\n",
            "German (true):  seja criativo\n",
            "German (pred):  seja colitivo\n",
            "-\n",
            "English:        be creative\n",
            "German (true):  seja criativa\n",
            "German (pred):  seja colitivo\n",
            "-\n",
            "English:        be creative\n",
            "German (true):  sejam criativos\n",
            "German (pred):  seja colitivo\n",
            "-\n",
            "English:        be creative\n",
            "German (true):  sejam criativas\n",
            "German (pred):  seja colitivo\n",
            "-\n",
            "English:        be creative\n",
            "German (true):  se criativo\n",
            "German (pred):  seja colitivo\n",
            "-\n",
            "English:        be creative\n",
            "German (true):  se criativa\n",
            "German (pred):  seja colitivo\n",
            "-\n",
            "English:        be creative\n",
            "German (true):  sede criativos\n",
            "German (pred):  seja colitivo\n",
            "-\n",
            "English:        be creative\n",
            "German (true):  sede criativas\n",
            "German (pred):  seja colitivo\n",
            "-\n",
            "English:        be discreet\n",
            "German (true):  seja discreto\n",
            "German (pred):  seja confivel\n",
            "-\n",
            "English:        be discreet\n",
            "German (true):  seja discreta\n",
            "German (pred):  seja confivel\n",
            "-\n",
            "English:        be discreet\n",
            "German (true):  sejam discretos\n",
            "German (pred):  seja confivel\n",
            "-\n",
            "English:        be discreet\n",
            "German (true):  sejam discretas\n",
            "German (pred):  seja confivel\n",
            "-\n",
            "English:        be discreet\n",
            "German (true):  se discreto\n",
            "German (pred):  seja confivel\n",
            "-\n",
            "English:        be discreet\n",
            "German (true):  se discreta\n",
            "German (pred):  seja confivel\n",
            "-\n",
            "English:        be discreet\n",
            "German (true):  sede discretos\n",
            "German (pred):  seja confivel\n",
            "-\n",
            "English:        be discreet\n",
            "German (true):  sede discretas\n",
            "German (pred):  seja confivel\n",
            "-\n",
            "English:        be friendly\n",
            "German (true):  seja amigavel\n",
            "German (pred):  seja confivel\n",
            "-\n",
            "English:        be friendly\n",
            "German (true):  sejam amigaveis\n",
            "German (pred):  seja confivel\n",
            "-\n",
            "English:        be friendly\n",
            "German (true):  se amigavel\n",
            "German (pred):  seja confivel\n"
          ],
          "name": "stdout"
        }
      ]
    },
    {
      "cell_type": "markdown",
      "metadata": {
        "id": "OQ4T6dPNQeQL"
      },
      "source": [
        "### 4.2. Translate an English sentence to the target language\n",
        "\n",
        "1. Tokenization\n",
        "2. One-hot encode\n",
        "3. Translate"
      ]
    },
    {
      "cell_type": "code",
      "metadata": {
        "id": "4HrCNHPBQeQL",
        "colab": {
          "base_uri": "https://localhost:8080/"
        },
        "outputId": "86c380e9-b212-4f0b-e3b0-594484cdeb6e"
      },
      "source": [
        "import numpy as np\n",
        "\n",
        "input_sentence = 'I love you'\n",
        "\n",
        "arr = np.array([input_sentence])\n",
        "\n",
        "input_sequence, input_token_index = text2sequences(17, \n",
        "                                                      arr)\n",
        "input_x = onehot_encode(input_sequence,17,28)\n",
        "\n",
        "translated_sentence = decode_sequence(input_x)\n",
        "\n",
        "print('source sentence is: ' + input_sentence)\n",
        "print('translated sentence is: ' + translated_sentence)"
      ],
      "execution_count": 60,
      "outputs": [
        {
          "output_type": "stream",
          "text": [
            "source sentence is: I love you\n",
            "translated sentence is: esta com fome\n",
            "\n"
          ],
          "name": "stdout"
        }
      ]
    },
    {
      "cell_type": "markdown",
      "metadata": {
        "id": "yihpqgqbQeQL"
      },
      "source": [
        "## 5. Evaluate the translation using BLEU score\n",
        "\n",
        "Reference: \n",
        "- https://machinelearningmastery.com/calculate-bleu-score-for-text-python/\n",
        "- https://en.wikipedia.org/wiki/BLEU\n",
        "\n",
        "\n",
        "**Hint:** \n",
        "\n",
        "- Randomly partition the dataset to training, validation, and test. \n",
        "\n",
        "- Evaluate the BLEU score using the test set. Report the average.\n",
        "\n",
        "- A reasonable BLEU score should be 0.1 ~ 0.5."
      ]
    },
    {
      "cell_type": "code",
      "metadata": {
        "id": "_XBl0stMQeQL",
        "colab": {
          "base_uri": "https://localhost:8080/"
        },
        "outputId": "085c73a8-84d4-4561-8d62-24afaa2de32f"
      },
      "source": [
        "from nltk.translate.bleu_score import corpus_bleu\n",
        "from keras.preprocessing.text import text_to_word_sequence\n",
        "from keras.preprocessing.text import one_hot\n",
        "\n",
        "amount_of_translations = 100\n",
        "total_scores = 0\n",
        "\n",
        "for seq_index in range(0, amount_of_translations):\n",
        "    input_seq = encoder_input_data[seq_index: seq_index + 1]\n",
        "    decoded_sentence = decode_sequence(input_seq)\n",
        "\n",
        "\n",
        "    english = input_texts[seq_index]\n",
        "    translated_true = target_texts[seq_index][1:-1]\n",
        "    translated_predicted = decoded_sentence[0:-1]\n",
        "\n",
        "    print(\"-\")\n",
        "    print(translated_true)\n",
        "    print(translated_predicted)\n",
        "\n",
        "    references = text_to_word_sequence(translated_true)\n",
        "    candidates = text_to_word_sequence(translated_predicted)\n",
        "\n",
        "    score = corpus_bleu([references], [candidates])\n",
        "\n",
        "    print(score)\n",
        "    \n",
        "    total_scores+=score\n",
        "\n",
        "\n",
        "final_score = total_scores / amount_of_translations\n",
        "print(\"final_score\")\n",
        "print(final_score)"
      ],
      "execution_count": 61,
      "outputs": [
        {
          "output_type": "stream",
          "text": [
            "-\n",
            "vai\n",
            "va\n",
            "0\n",
            "-\n",
            "va\n",
            "va\n",
            "0\n",
            "-\n",
            "oi\n",
            "sou\n",
            "0\n",
            "-\n",
            "corre\n",
            "corra\n",
            "0\n",
            "-\n",
            "corra\n",
            "corra\n",
            "0\n",
            "-\n",
            "corram\n",
            "corra\n",
            "0\n",
            "-\n",
            "corre\n",
            "corra\n",
            "0\n",
            "-\n",
            "corra\n",
            "corra\n",
            "0\n",
            "-\n",
            "corram\n",
            "corra\n",
            "0\n",
            "-\n",
            "quem\n",
            "quem e tom\n",
            "0.5444460596606694\n"
          ],
          "name": "stdout"
        },
        {
          "output_type": "stream",
          "text": [
            "/usr/local/lib/python3.7/dist-packages/nltk/translate/bleu_score.py:490: UserWarning: \n",
            "Corpus/Sentence contains 0 counts of 2-gram overlaps.\n",
            "BLEU scores might be undesirable; use SmoothingFunction().\n",
            "  warnings.warn(_msg)\n"
          ],
          "name": "stderr"
        },
        {
          "output_type": "stream",
          "text": [
            "-\n",
            "que\n",
            "quem e tom\n",
            "0.7598356856515925\n",
            "-\n",
            "uau\n",
            "quem\n",
            "0\n",
            "-\n",
            "nossa\n",
            "quem\n",
            "0\n",
            "-\n",
            "wow\n",
            "quem\n",
            "0\n",
            "-\n",
            "fogo\n",
            "escueca\n",
            "0\n",
            "-\n",
            "incendio\n",
            "escueca\n",
            "0\n",
            "-\n",
            "chama\n",
            "escueca\n",
            "0\n",
            "-\n",
            "ajuda\n",
            "ajude\n",
            "0\n",
            "-\n",
            "socorro\n",
            "ajude\n",
            "0\n",
            "-\n",
            "pule\n",
            "pula\n",
            "0\n",
            "-\n",
            "pula\n",
            "pula\n",
            "0\n",
            "-\n",
            "pulem\n",
            "pula\n",
            "0\n",
            "-\n",
            "pule\n",
            "pula\n",
            "0\n",
            "-\n",
            "pulam\n",
            "pula\n",
            "0\n",
            "-\n",
            "pare\n",
            "pare\n",
            "0\n",
            "-\n",
            "parem\n",
            "pare\n",
            "0\n",
            "-\n",
            "parada\n",
            "pare\n",
            "0\n",
            "-\n",
            "ponto\n",
            "pare\n",
            "0\n",
            "-\n",
            "para\n",
            "pare\n",
            "0\n",
            "-\n",
            "espere\n",
            "esperem\n",
            "0\n",
            "-\n",
            "aguarde\n",
            "esperem\n",
            "0\n",
            "-\n",
            "espere\n",
            "esperem\n",
            "0\n",
            "-\n",
            "esperem\n",
            "esperem\n",
            "0\n",
            "-\n",
            "siga em frente\n",
            "acara\n",
            "0\n",
            "-\n",
            "va\n",
            "acara\n",
            "0\n",
            "-\n",
            "continue\n",
            "acara\n",
            "0\n",
            "-\n",
            "siga adiante\n",
            "acara\n",
            "0\n",
            "-\n",
            "oi\n",
            "ajude\n",
            "0\n",
            "-\n",
            "alo\n",
            "ajude\n",
            "0\n",
            "-\n",
            "ola\n",
            "ajude\n",
            "0\n",
            "-\n",
            "alo\n",
            "ajude\n",
            "0\n",
            "-\n",
            "eu corri\n",
            "eu estou dentro\n",
            "0\n",
            "-\n",
            "eu sei\n",
            "eu estou com fome\n",
            "0\n",
            "-\n",
            "eu entendo\n",
            "eu estou com fome\n",
            "0\n",
            "-\n",
            "estou vendo\n",
            "eu estou com fome\n",
            "0\n",
            "-\n",
            "eu vejo\n",
            "eu estou com fome\n",
            "0\n",
            "-\n",
            "eu assisto\n",
            "eu estou com fome\n",
            "0\n",
            "-\n",
            "eu tento\n",
            "eu estou com fome\n",
            "0\n",
            "-\n",
            "tento\n",
            "eu estou com fome\n",
            "0\n",
            "-\n",
            "ganhei\n",
            "eu estou dentro\n",
            "0\n",
            "-\n",
            "eu venci\n",
            "eu estou dentro\n",
            "0\n",
            "-\n",
            "ah nao\n",
            "acara\n",
            "0\n",
            "-\n",
            "relaxe\n",
            "levante\n",
            "0\n",
            "-\n",
            "relaxa\n",
            "levante\n",
            "0\n",
            "-\n",
            "relaxe\n",
            "levante\n",
            "0\n",
            "-\n",
            "tiro\n",
            "pare cara casa\n",
            "0\n",
            "-\n",
            "sorria\n",
            "eu venho\n",
            "0\n",
            "-\n",
            "sorriam\n",
            "eu venho\n",
            "0\n",
            "-\n",
            "atacar\n",
            "aguarde\n",
            "0\n",
            "-\n",
            "ataquem\n",
            "aguarde\n",
            "0\n",
            "-\n",
            "ataque\n",
            "aguarde\n",
            "0\n",
            "-\n",
            "saude\n",
            "siga\n",
            "0\n",
            "-\n",
            "parado\n",
            "escueca\n",
            "0\n",
            "-\n",
            "levantese\n",
            "livantese\n",
            "0\n",
            "-\n",
            "levantemse\n",
            "livantese\n",
            "0\n",
            "-\n",
            "levantate\n",
            "livantese\n",
            "0\n",
            "-\n",
            "levantese\n",
            "livantese\n",
            "0\n",
            "-\n",
            "levantate\n",
            "livantese\n",
            "0\n",
            "-\n",
            "va agora\n",
            "acara\n",
            "0\n",
            "-\n",
            "entendi\n",
            "carem\n",
            "0\n",
            "-\n",
            "eu entendi\n",
            "carem\n",
            "0\n",
            "-\n",
            "saquei\n",
            "carem\n",
            "0\n",
            "-\n",
            "entendeu\n",
            "carem\n",
            "0\n",
            "-\n",
            "ele correu\n",
            "ele correu\n",
            "0\n",
            "-\n",
            "ele corria\n",
            "ele correu\n",
            "0\n",
            "-\n",
            "sobe ai\n",
            "ajudem\n",
            "0\n",
            "-\n",
            "entra ai\n",
            "ajudem\n",
            "0\n",
            "-\n",
            "me abrace\n",
            "peram\n",
            "0\n",
            "-\n",
            "eu cai\n",
            "eu estou com fome\n",
            "0\n",
            "-\n",
            "eu tricoto\n",
            "eu consigo ver\n",
            "0\n",
            "-\n",
            "eu sei\n",
            "eu conheco\n",
            "0\n",
            "-\n",
            "sei\n",
            "eu conheco\n",
            "0\n",
            "-\n",
            "eu sai\n",
            "eu estou com fome\n",
            "0\n",
            "-\n",
            "eu menti\n",
            "eu estou dentro\n",
            "0\n",
            "-\n",
            "eu paguei\n",
            "eu estou com fome\n",
            "0\n",
            "-\n",
            "eu me demito\n",
            "eu estou com fome\n",
            "0\n",
            "-\n",
            "eu estou trabalhando\n",
            "eu estou com fome\n",
            "0\n",
            "-\n",
            "estou bem\n",
            "eu sou cera\n",
            "0\n",
            "-\n",
            "eu vou bem\n",
            "eu sou cera\n",
            "0\n",
            "-\n",
            "estou acordado\n",
            "eu sou cera\n",
            "0\n",
            "-\n",
            "escute\n",
            "escute\n",
            "0\n",
            "-\n",
            "oucame\n",
            "escute\n",
            "0\n",
            "-\n",
            "escuta\n",
            "escute\n",
            "0\n",
            "-\n",
            "escutem\n",
            "escute\n",
            "0\n",
            "-\n",
            "ouca isso\n",
            "escute\n",
            "0\n",
            "-\n",
            "escutemme\n",
            "escute\n",
            "0\n",
            "-\n",
            "escute\n",
            "escute\n",
            "0\n",
            "-\n",
            "escuta\n",
            "escute\n",
            "0\n",
            "-\n",
            "escutem\n",
            "escute\n",
            "0\n",
            "-\n",
            "escutai\n",
            "escute\n",
            "0\n",
            "final_score\n",
            "0.01304281745312262\n"
          ],
          "name": "stdout"
        }
      ]
    }
  ]
}