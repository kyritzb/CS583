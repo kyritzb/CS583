{
 "cells": [
  {
   "cell_type": "markdown",
   "metadata": {},
   "source": [
    "# HM2: Numerical Optimization for Logistic Regression.\n",
    "\n",
    "### Name: Bryan Kyritz\n"
   ]
  },
  {
   "cell_type": "markdown",
   "metadata": {},
   "source": [
    "## 0. You will do the following:\n",
    "\n",
    "1. Read the lecture note: [click here](https://github.com/wangshusen/DeepLearning/blob/master/LectureNotes/Logistic/paper/logistic.pdf)\n",
    "\n",
    "2. Read, complete, and run my code.\n",
    "\n",
    "3. **Implement mini-batch SGD** and evaluate the performance.\n",
    "\n",
    "4. Convert the .IPYNB file to .HTML file.\n",
    "\n",
    "    * The HTML file must contain **the code** and **the output after execution**.\n",
    "    \n",
    "    * Missing **the output after execution** will not be graded.\n",
    "    \n",
    "5. Upload this .HTML file to your Google Drive, Dropbox, or your Github repo.  (If you submit the file to Google Drive or Dropbox, you must make the file \"open-access\". The delay caused by \"deny of access\" may result in late penalty.)\n",
    "\n",
    "6. Submit the link to this .HTML file to Canvas.\n",
    "\n",
    "    * Example: https://github.com/wangshusen/CS583-2020S/blob/master/homework/HM2/HM2.html\n",
    "\n",
    "\n",
    "## Grading criteria:\n",
    "\n",
    "1. When computing the ```gradient``` and ```objective function value``` using a batch of samples, use **matrix-vector multiplication** rather than a FOR LOOP of **vector-vector multiplications**.\n",
    "\n",
    "2. Plot ```objective function value``` against ```epochs```. In the plot, compare GD, SGD, and MB-SGD (with $b=8$ and $b=64$). The plot must look reasonable."
   ]
  },
  {
   "cell_type": "code",
   "execution_count": 332,
   "metadata": {},
   "outputs": [
    {
     "output_type": "execute_result",
     "data": {
      "text/plain": [
       "'3.8.5 (default, Jan 27 2021, 15:41:15) \\n[GCC 9.3.0]'"
      ]
     },
     "metadata": {},
     "execution_count": 332
    }
   ],
   "source": [
    "import sys\n",
    "sys.version"
   ]
  },
  {
   "cell_type": "markdown",
   "metadata": {},
   "source": [
    "# 1. Data processing\n",
    "\n",
    "- Download the Diabete dataset from https://www.csie.ntu.edu.tw/~cjlin/libsvmtools/datasets/binary/diabetes\n",
    "- Load the data using sklearn.\n",
    "- Preprocess the data."
   ]
  },
  {
   "cell_type": "markdown",
   "metadata": {},
   "source": [
    "## 1.1. Load the data"
   ]
  },
  {
   "cell_type": "code",
   "execution_count": 333,
   "metadata": {},
   "outputs": [
    {
     "output_type": "stream",
     "name": "stdout",
     "text": [
      "Shape of x: (768, 8)\nShape of y: (768,)\n"
     ]
    }
   ],
   "source": [
    "from sklearn import datasets\n",
    "import numpy\n",
    "\n",
    "x_sparse, y = datasets.load_svmlight_file('diabetes')\n",
    "x = x_sparse.todense()\n",
    "\n",
    "print('Shape of x: ' + str(x.shape))\n",
    "print('Shape of y: ' + str(y.shape))"
   ]
  },
  {
   "cell_type": "markdown",
   "metadata": {},
   "source": [
    "## 1.2. Partition to training and test sets"
   ]
  },
  {
   "cell_type": "code",
   "execution_count": 334,
   "metadata": {},
   "outputs": [
    {
     "output_type": "stream",
     "name": "stdout",
     "text": [
      "Shape of x_train: (640, 8)\nShape of x_test: (128, 8)\nShape of y_train: (640, 1)\nShape of y_test: (128, 1)\n"
     ]
    }
   ],
   "source": [
    "# partition the data to training and test sets\n",
    "n = x.shape[0]\n",
    "n_train = 640\n",
    "n_test = n - n_train\n",
    "\n",
    "rand_indices = numpy.random.permutation(n)\n",
    "train_indices = rand_indices[0:n_train]\n",
    "test_indices = rand_indices[n_train:n]\n",
    "\n",
    "x_train = x[train_indices, :]\n",
    "x_test = x[test_indices, :]\n",
    "y_train = y[train_indices].reshape(n_train, 1)\n",
    "y_test = y[test_indices].reshape(n_test, 1)\n",
    "\n",
    "print('Shape of x_train: ' + str(x_train.shape))\n",
    "print('Shape of x_test: ' + str(x_test.shape))\n",
    "print('Shape of y_train: ' + str(y_train.shape))\n",
    "print('Shape of y_test: ' + str(y_test.shape))"
   ]
  },
  {
   "cell_type": "markdown",
   "metadata": {},
   "source": [
    "## 1.3. Feature scaling"
   ]
  },
  {
   "cell_type": "markdown",
   "metadata": {},
   "source": [
    "Use the standardization to trainsform both training and test features"
   ]
  },
  {
   "cell_type": "code",
   "execution_count": 335,
   "metadata": {},
   "outputs": [
    {
     "output_type": "stream",
     "name": "stdout",
     "text": [
      "test mean = \n[[-0.15652347 -0.03908045 -0.0766916  -0.01905308 -0.09153073 -0.12834374\n  -0.01967107 -0.19356487]]\ntest std = \n[[0.88474899 0.89230762 0.98747999 0.94962367 0.79209874 1.24386262\n  1.03063039 0.902556  ]]\n"
     ]
    }
   ],
   "source": [
    "# Standardization\n",
    "import numpy\n",
    "\n",
    "# calculate mu and sig using the training set\n",
    "d = x_train.shape[1]\n",
    "mu = numpy.mean(x_train, axis=0).reshape(1, d)\n",
    "sig = numpy.std(x_train, axis=0).reshape(1, d)\n",
    "\n",
    "# transform the training features\n",
    "x_train = (x_train - mu) / (sig + 1E-6)\n",
    "\n",
    "# transform the test features\n",
    "x_test = (x_test - mu) / (sig + 1E-6)\n",
    "\n",
    "print('test mean = ')\n",
    "print(numpy.mean(x_test, axis=0))\n",
    "\n",
    "print('test std = ')\n",
    "print(numpy.std(x_test, axis=0))"
   ]
  },
  {
   "cell_type": "markdown",
   "metadata": {},
   "source": [
    "## 1.4. Add a dimension of all ones"
   ]
  },
  {
   "cell_type": "code",
   "execution_count": 336,
   "metadata": {},
   "outputs": [
    {
     "output_type": "stream",
     "name": "stdout",
     "text": [
      "Shape of x_train: (640, 9)\nShape of x_test: (128, 9)\n"
     ]
    }
   ],
   "source": [
    "n_train, d = x_train.shape\n",
    "x_train = numpy.concatenate((x_train, numpy.ones((n_train, 1))), axis=1)\n",
    "\n",
    "n_test, d = x_test.shape\n",
    "x_test = numpy.concatenate((x_test, numpy.ones((n_test, 1))), axis=1)\n",
    "\n",
    "print('Shape of x_train: ' + str(x_train.shape))\n",
    "print('Shape of x_test: ' + str(x_test.shape))"
   ]
  },
  {
   "cell_type": "markdown",
   "metadata": {},
   "source": [
    "# 2. Logistic regression model\n",
    "\n",
    "The objective function is $Q (w; X, y) = \\frac{1}{n} \\sum_{i=1}^n \\log \\Big( 1 + \\exp \\big( - y_i x_i^T w \\big) \\Big) + \\frac{\\lambda}{2} \\| w \\|_2^2 $."
   ]
  },
  {
   "cell_type": "code",
   "execution_count": 337,
   "metadata": {},
   "outputs": [],
   "source": [
    "# Calculate the objective function value\n",
    "# Inputs:\n",
    "#     w: d-by-1 matrix\n",
    "#     x: n-by-d matrix\n",
    "#     y: n-by-1 matrix\n",
    "#     lam: scalar, the regularization parameter\n",
    "# Return:\n",
    "#     objective function value (scalar)\n",
    "def objective(w, x, y, lam):\n",
    "    n, d = x.shape\n",
    "    yx = numpy.multiply(y, x) # n-by-d matrix\n",
    "    yxw = numpy.dot(yx, w) # n-by-1 matrix\n",
    "    vec1 = numpy.exp(-yxw) # n-by-1 matrix\n",
    "    vec2 = numpy.log(1 + vec1) # n-by-1 matrix\n",
    "    loss = numpy.mean(vec2) # scalar\n",
    "    reg = lam / 2 * numpy.sum(w * w) # scalar\n",
    "    return loss + reg\n",
    "    "
   ]
  },
  {
   "cell_type": "code",
   "execution_count": 338,
   "metadata": {},
   "outputs": [
    {
     "output_type": "stream",
     "name": "stdout",
     "text": [
      "Initial objective function value = 0.6931471805599453\n"
     ]
    }
   ],
   "source": [
    "# initialize w\n",
    "d = x_train.shape[1]\n",
    "w = numpy.zeros((d, 1))\n",
    "\n",
    "# evaluate the objective function value at w\n",
    "lam = 1E-6\n",
    "objval0 = objective(w, x_train, y_train, lam)\n",
    "print('Initial objective function value = ' + str(objval0))"
   ]
  },
  {
   "cell_type": "markdown",
   "metadata": {},
   "source": [
    "# 3. Numerical optimization"
   ]
  },
  {
   "cell_type": "markdown",
   "metadata": {},
   "source": [
    "## 3.1. Gradient descent\n"
   ]
  },
  {
   "cell_type": "markdown",
   "metadata": {},
   "source": [
    "The gradient at $w$ is $g = - \\frac{1}{n} \\sum_{i=1}^n \\frac{y_i x_i }{1 + \\exp ( y_i x_i^T w)} + \\lambda w$"
   ]
  },
  {
   "cell_type": "code",
   "execution_count": 339,
   "metadata": {},
   "outputs": [],
   "source": [
    "# Calculate the gradient\n",
    "# Inputs:\n",
    "#     w: d-by-1 matrix\n",
    "#     x: n-by-d matrix\n",
    "#     y: n-by-1 matrix\n",
    "#     lam: scalar, the regularization parameter\n",
    "# Return:\n",
    "#     g: g: d-by-1 matrix, full gradient\n",
    "def gradient(w, x, y, lam):\n",
    "    n, d = x.shape\n",
    "    yx = numpy.multiply(y, x) # n-by-d matrix\n",
    "    yxw = numpy.dot(yx, w) # n-by-1 matrix\n",
    "    vec1 = numpy.exp(yxw) # n-by-1 matrix\n",
    "    vec2 = numpy.divide(yx, 1+vec1) # n-by-d matrix\n",
    "    vec3 = -numpy.mean(vec2, axis=0).reshape(d, 1) # d-by-1 matrix\n",
    "    g = vec3 + lam * w\n",
    "    return g"
   ]
  },
  {
   "cell_type": "code",
   "execution_count": 340,
   "metadata": {},
   "outputs": [],
   "source": [
    "# Gradient descent for solving logistic regression\n",
    "# Inputs:\n",
    "#     x: n-by-d matrix\n",
    "#     y: n-by-1 matrix\n",
    "#     lam: scalar, the regularization parameter\n",
    "#     stepsize: scalar\n",
    "#     max_iter: integer, the maximal iterations\n",
    "#     w: d-by-1 matrix, initialization of w\n",
    "# Return:\n",
    "#     w: d-by-1 matrix, the solution\n",
    "#     objvals: a record of each iteration's objective value\n",
    "def grad_descent(x, y, lam, stepsize, max_iter=100, w=None):\n",
    "    n, d = x.shape\n",
    "    objvals = numpy.zeros(max_iter) # store the objective values\n",
    "    if w is None:\n",
    "        w = numpy.zeros((d, 1)) # zero initialization\n",
    "    \n",
    "    for t in range(max_iter):\n",
    "        objval = objective(w, x, y, lam)\n",
    "        objvals[t] = objval\n",
    "        print('Objective value at t=' + str(t) + ' is ' + str(objval))\n",
    "        g = gradient(w, x, y, lam)\n",
    "        w -= stepsize * g\n",
    "    \n",
    "    return w, objvals"
   ]
  },
  {
   "cell_type": "markdown",
   "metadata": {},
   "source": [
    "Run gradient descent."
   ]
  },
  {
   "source": [
    "lam = 1E-6\n",
    "stepsize = 1.0\n",
    "w, objvals_gd = grad_descent(x_train, y_train, lam, stepsize)"
   ],
   "cell_type": "code",
   "metadata": {
    "tags": []
   },
   "execution_count": 341,
   "outputs": [
    {
     "output_type": "stream",
     "name": "stdout",
     "text": [
      "Objective value at t=0 is 0.6931471805599453\n",
      "Objective value at t=1 is 0.5885892028769656\n",
      "Objective value at t=2 is 0.5467912231980413\n",
      "Objective value at t=3 is 0.5241871069174012\n",
      "Objective value at t=4 is 0.5099252597265476\n",
      "Objective value at t=5 is 0.5001516373316806\n",
      "Objective value at t=6 is 0.4931113846572414\n",
      "Objective value at t=7 is 0.48786901103299934\n",
      "Objective value at t=8 is 0.4838711262039258\n",
      "Objective value at t=9 is 0.48076627925746923\n",
      "Objective value at t=10 is 0.47831976116020286\n",
      "Objective value at t=11 is 0.4763688984287469\n",
      "Objective value at t=12 is 0.4747976694400736\n",
      "Objective value at t=13 is 0.47352140238331863\n",
      "Objective value at t=14 is 0.4724771167671795\n",
      "Objective value at t=15 is 0.47161720340613017\n",
      "Objective value at t=16 is 0.47090516709572955\n",
      "Objective value at t=17 is 0.47031268883261823\n",
      "Objective value at t=18 is 0.4698175565318479\n",
      "Objective value at t=19 is 0.4694021811797214\n",
      "Objective value at t=20 is 0.4690525158007129\n",
      "Objective value at t=21 is 0.4687572566265535\n",
      "Objective value at t=22 is 0.4685072451782282\n",
      "Objective value at t=23 is 0.4682950154839395\n",
      "Objective value at t=24 is 0.4681144475408481\n",
      "Objective value at t=25 is 0.46796049950219754\n",
      "Objective value at t=26 is 0.46782899885589246\n",
      "Objective value at t=27 is 0.46771647826646906\n",
      "Objective value at t=28 is 0.4676200455570951\n",
      "Objective value at t=29 is 0.4675372800195663\n",
      "Objective value at t=30 is 0.4674661491949366\n",
      "Objective value at t=31 is 0.4674049416920085\n",
      "Objective value at t=32 is 0.46735221265975146\n",
      "Objective value at t=33 is 0.46730673930936345\n",
      "Objective value at t=34 is 0.46726748446642646\n",
      "Objective value at t=35 is 0.4672335665759108\n",
      "Objective value at t=36 is 0.4672042349199946\n",
      "Objective value at t=37 is 0.4671788490676971\n",
      "Objective value at t=38 is 0.4671568617757084\n",
      "Objective value at t=39 is 0.46713780471583943\n",
      "Objective value at t=40 is 0.467121276526801\n",
      "Objective value at t=41 is 0.4671069327844093\n",
      "Objective value at t=42 is 0.4670944775607212\n",
      "Objective value at t=43 is 0.46708365630348786\n",
      "Objective value at t=44 is 0.4670742498160747\n",
      "Objective value at t=45 is 0.46706606915722326\n",
      "Objective value at t=46 is 0.4670589513117394\n",
      "Objective value at t=47 is 0.46705275550891723\n",
      "Objective value at t=48 is 0.4670473600864815\n",
      "Objective value at t=49 is 0.46704265981496884\n",
      "Objective value at t=50 is 0.4670385636115489\n",
      "Objective value at t=51 is 0.46703499258387404\n",
      "Objective value at t=52 is 0.46703187835411797\n",
      "Objective value at t=53 is 0.46702916162130725\n",
      "Objective value at t=54 is 0.46702679092663324\n",
      "Objective value at t=55 is 0.46702472159193315\n",
      "Objective value at t=56 is 0.4670229148061196\n",
      "Objective value at t=57 is 0.4670213368381776\n",
      "Objective value at t=58 is 0.4670199583585776\n",
      "Objective value at t=59 is 0.46701875385367064\n",
      "Objective value at t=60 is 0.4670177011199118\n",
      "Objective value at t=61 is 0.46701678082669906\n",
      "Objective value at t=62 is 0.46701597613824464\n",
      "Objective value at t=63 is 0.46701527238628454\n",
      "Objective value at t=64 is 0.4670146567866075\n",
      "Objective value at t=65 is 0.467014118193386\n",
      "Objective value at t=66 is 0.46701364688614583\n",
      "Objective value at t=67 is 0.4670132343849348\n",
      "Objective value at t=68 is 0.4670128732898748\n",
      "Objective value at t=69 is 0.46701255714181106\n",
      "Objective value at t=70 is 0.4670122803012275\n",
      "Objective value at t=71 is 0.46701203784298606\n",
      "Objective value at t=72 is 0.46701182546478404\n",
      "Objective value at t=73 is 0.4670116394075074\n",
      "Objective value at t=74 is 0.4670114763859087\n",
      "Objective value at t=75 is 0.4670113335282479\n",
      "Objective value at t=76 is 0.46701120832371973\n",
      "Objective value at t=77 is 0.46701109857664536\n",
      "Objective value at t=78 is 0.4670110023665474\n",
      "Objective value at t=79 is 0.467010918013341\n",
      "Objective value at t=80 is 0.467010844046975\n",
      "Objective value at t=81 is 0.4670107791809492\n",
      "Objective value at t=82 is 0.4670107222892043\n",
      "Objective value at t=83 is 0.46701067238595073\n",
      "Objective value at t=84 is 0.4670106286080581\n",
      "Objective value at t=85 is 0.467010590199676\n",
      "Objective value at t=86 is 0.4670105564988005\n",
      "Objective value at t=87 is 0.4670105269255384\n",
      "Objective value at t=88 is 0.4670105009718502\n",
      "Objective value at t=89 is 0.4670104781925861\n",
      "Objective value at t=90 is 0.46701045819764886\n",
      "Objective value at t=91 is 0.46701044064514113\n",
      "Objective value at t=92 is 0.467010425235372\n",
      "Objective value at t=93 is 0.4670104117056146\n",
      "Objective value at t=94 is 0.4670103998255191\n",
      "Objective value at t=95 is 0.46701038939309997\n",
      "Objective value at t=96 is 0.46701038023122227\n",
      "Objective value at t=97 is 0.4670103721845283\n",
      "Objective value at t=98 is 0.46701036511674415\n",
      "Objective value at t=99 is 0.4670103589083245\n"
     ]
    }
   ]
  },
  {
   "cell_type": "markdown",
   "metadata": {},
   "source": [
    "## 3.2. Stochastic gradient descent (SGD)\n",
    "\n",
    "Define $Q_i (w) = \\log \\Big( 1 + \\exp \\big( - y_i x_i^T w \\big) \\Big) + \\frac{\\lambda}{2} \\| w \\|_2^2 $.\n",
    "\n",
    "The stochastic gradient at $w$ is $g_i = \\frac{\\partial Q_i }{ \\partial w} = -\\frac{y_i x_i }{1 + \\exp ( y_i x_i^T w)} + \\lambda w$."
   ]
  },
  {
   "cell_type": "code",
   "execution_count": 342,
   "metadata": {},
   "outputs": [],
   "source": [
    "# Calculate the objective Q_i and the gradient of Q_i\n",
    "# Inputs:\n",
    "#     w: d-by-1 matrix\n",
    "#     xi: 1-by-d matrix\n",
    "#     yi: scalar\n",
    "#     lam: scalar, the regularization parameter\n",
    "# Return:\n",
    "#     obj: scalar, the objective Q_i\n",
    "#     g: d-by-1 matrix, gradient of Q_i\n",
    "def stochastic_objective_gradient(w, xi, yi, lam):\n",
    "    d = xi.shape[0]\n",
    "    yx = yi * xi # 1-by-d matrix\n",
    "    yxw = float(numpy.dot(yx, w)) # scalar\n",
    "    \n",
    "    # calculate objective function Q_i\n",
    "    loss = numpy.log(1 + numpy.exp(-yxw)) # scalar\n",
    "    reg = lam / 2 * numpy.sum(w * w) # scalar\n",
    "    obj = loss + reg\n",
    "    \n",
    "    # calculate stochastic gradient\n",
    "    g_loss = -yx.T / (1 + numpy.exp(yxw)) # d-by-1 matrix\n",
    "    g = g_loss + lam * w # d-by-1 matrix\n",
    "    \n",
    "    return obj, g"
   ]
  },
  {
   "cell_type": "code",
   "execution_count": 343,
   "metadata": {},
   "outputs": [],
   "source": [
    "# SGD for solving logistic regression\n",
    "# Inputs:\n",
    "#     x: n-by-d matrix\n",
    "#     y: n-by-1 matrix\n",
    "#     lam: scalar, the regularization parameter\n",
    "#     stepsize: scalar\n",
    "#     max_epoch: integer, the maximal epochs\n",
    "#     w: d-by-1 matrix, initialization of w\n",
    "# Return:\n",
    "#     w: the solution\n",
    "#     objvals: record of each iteration's objective value\n",
    "def sgd(x, y, lam, stepsize, max_epoch=100, w=None):\n",
    "    n, d = x.shape\n",
    "    objvals = numpy.zeros(max_epoch) # store the objective values\n",
    "    if w is None:\n",
    "        w = numpy.zeros((d, 1)) # zero initialization\n",
    "    \n",
    "    for t in range(max_epoch):\n",
    "        # randomly shuffle the samples\n",
    "        rand_indices = numpy.random.permutation(n)\n",
    "        x_rand = x[rand_indices, :]\n",
    "        y_rand = y[rand_indices, :]\n",
    "        \n",
    "        objval = 0 # accumulate the objective values\n",
    "        for i in range(n):\n",
    "            xi = x_rand[i, :] # 1-by-d matrix\n",
    "            yi = float(y_rand[i, :]) # scalar\n",
    "            obj, g = stochastic_objective_gradient(w, xi, yi, lam)\n",
    "            objval += obj\n",
    "            w -= stepsize * g\n",
    "        \n",
    "        stepsize *= 0.9 # decrease step size\n",
    "        objval /= n\n",
    "        objvals[t] = objval\n",
    "        print('Objective value at epoch t=' + str(t) + ' is ' + str(objval))\n",
    "    \n",
    "    return w, objvals"
   ]
  },
  {
   "cell_type": "code",
   "execution_count": 344,
   "metadata": {},
   "outputs": [
    {
     "output_type": "stream",
     "name": "stdout",
     "text": [
      "Objective value at epoch t=0 is 0.5194402732828655\n",
      "Objective value at epoch t=1 is 0.5165954086705714\n",
      "Objective value at epoch t=2 is 0.49602921421132634\n",
      "Objective value at epoch t=3 is 0.505204659698921\n",
      "Objective value at epoch t=4 is 0.5003529258474233\n",
      "Objective value at epoch t=5 is 0.4996433967694557\n",
      "Objective value at epoch t=6 is 0.49633876357733175\n",
      "Objective value at epoch t=7 is 0.4918475831676229\n",
      "Objective value at epoch t=8 is 0.49034290040797845\n",
      "Objective value at epoch t=9 is 0.4880625014707866\n",
      "Objective value at epoch t=10 is 0.4897539115699825\n",
      "Objective value at epoch t=11 is 0.48267481981094784\n",
      "Objective value at epoch t=12 is 0.4851376880422517\n",
      "Objective value at epoch t=13 is 0.4819818435893559\n",
      "Objective value at epoch t=14 is 0.48239220640027397\n",
      "Objective value at epoch t=15 is 0.4780323764783401\n",
      "Objective value at epoch t=16 is 0.47884133409968416\n",
      "Objective value at epoch t=17 is 0.47544345400918714\n",
      "Objective value at epoch t=18 is 0.47664426522608067\n",
      "Objective value at epoch t=19 is 0.47557683230260245\n",
      "Objective value at epoch t=20 is 0.47490938740974836\n",
      "Objective value at epoch t=21 is 0.4735947167735719\n",
      "Objective value at epoch t=22 is 0.4730460149808069\n",
      "Objective value at epoch t=23 is 0.4733038628963954\n",
      "Objective value at epoch t=24 is 0.4725480650215804\n",
      "Objective value at epoch t=25 is 0.4710493207240322\n",
      "Objective value at epoch t=26 is 0.47123375739013945\n",
      "Objective value at epoch t=27 is 0.47088356559880423\n",
      "Objective value at epoch t=28 is 0.47041152616952664\n",
      "Objective value at epoch t=29 is 0.4701996294828056\n",
      "Objective value at epoch t=30 is 0.4700562477899787\n",
      "Objective value at epoch t=31 is 0.4695141000708684\n",
      "Objective value at epoch t=32 is 0.4689760375943057\n",
      "Objective value at epoch t=33 is 0.46928625779298405\n",
      "Objective value at epoch t=34 is 0.4690152954370618\n",
      "Objective value at epoch t=35 is 0.4687661664006037\n",
      "Objective value at epoch t=36 is 0.4685969179956507\n",
      "Objective value at epoch t=37 is 0.4684532662193579\n",
      "Objective value at epoch t=38 is 0.4683206450544123\n",
      "Objective value at epoch t=39 is 0.4681784111408357\n",
      "Objective value at epoch t=40 is 0.46804567905403305\n",
      "Objective value at epoch t=41 is 0.46794026532568955\n",
      "Objective value at epoch t=42 is 0.46787475648404087\n",
      "Objective value at epoch t=43 is 0.46778030478972477\n",
      "Objective value at epoch t=44 is 0.46769003361654055\n",
      "Objective value at epoch t=45 is 0.46763675893432016\n",
      "Objective value at epoch t=46 is 0.4675735692081714\n",
      "Objective value at epoch t=47 is 0.46751734150693663\n",
      "Objective value at epoch t=48 is 0.46747005940589376\n",
      "Objective value at epoch t=49 is 0.46742151998107656\n",
      "Objective value at epoch t=50 is 0.4673820022995209\n",
      "Objective value at epoch t=51 is 0.46734522776803117\n",
      "Objective value at epoch t=52 is 0.4673119465641612\n",
      "Objective value at epoch t=53 is 0.4672825156491142\n",
      "Objective value at epoch t=54 is 0.4672553792469508\n",
      "Objective value at epoch t=55 is 0.4672302538898623\n",
      "Objective value at epoch t=56 is 0.46720831755898945\n",
      "Objective value at epoch t=57 is 0.46718838873483337\n",
      "Objective value at epoch t=58 is 0.4671708023975585\n",
      "Objective value at epoch t=59 is 0.46715475578215376\n",
      "Objective value at epoch t=60 is 0.46714056202055965\n",
      "Objective value at epoch t=61 is 0.4671275465189069\n",
      "Objective value at epoch t=62 is 0.4671159055189958\n",
      "Objective value at epoch t=63 is 0.46710548041756494\n",
      "Objective value at epoch t=64 is 0.46709597881446446\n",
      "Objective value at epoch t=65 is 0.46708739116058934\n",
      "Objective value at epoch t=66 is 0.46707965115587846\n",
      "Objective value at epoch t=67 is 0.4670727904095135\n",
      "Objective value at epoch t=68 is 0.46706649177032905\n",
      "Objective value at epoch t=69 is 0.4670608915317926\n",
      "Objective value at epoch t=70 is 0.46705581484232067\n",
      "Objective value at epoch t=71 is 0.46705134592724795\n",
      "Objective value at epoch t=72 is 0.46704723425689443\n",
      "Objective value at epoch t=73 is 0.46704356419879794\n",
      "Objective value at epoch t=74 is 0.4670402472758412\n",
      "Objective value at epoch t=75 is 0.46703725787851935\n",
      "Objective value at epoch t=76 is 0.4670345649437917\n",
      "Objective value at epoch t=77 is 0.4670321510247243\n",
      "Objective value at epoch t=78 is 0.4670299725390842\n",
      "Objective value at epoch t=79 is 0.46702801641346037\n",
      "Objective value at epoch t=80 is 0.4670262577460459\n",
      "Objective value at epoch t=81 is 0.467024673213431\n",
      "Objective value at epoch t=82 is 0.46702324295839304\n",
      "Objective value at epoch t=83 is 0.46702195529871043\n",
      "Objective value at epoch t=84 is 0.4670207995811772\n",
      "Objective value at epoch t=85 is 0.46701975809233465\n",
      "Objective value at epoch t=86 is 0.4670188219763346\n",
      "Objective value at epoch t=87 is 0.4670179786149438\n",
      "Objective value at epoch t=88 is 0.4670172189276528\n",
      "Objective value at epoch t=89 is 0.4670165360944498\n",
      "Objective value at epoch t=90 is 0.4670159205571755\n",
      "Objective value at epoch t=91 is 0.46701536710327085\n",
      "Objective value at epoch t=92 is 0.46701486896036554\n",
      "Objective value at epoch t=93 is 0.46701442074033767\n",
      "Objective value at epoch t=94 is 0.4670140172287368\n",
      "Objective value at epoch t=95 is 0.4670136540792\n",
      "Objective value at epoch t=96 is 0.4670133272106338\n",
      "Objective value at epoch t=97 is 0.4670130329013218\n",
      "Objective value at epoch t=98 is 0.4670127682638222\n",
      "Objective value at epoch t=99 is 0.46701252993970827\n"
     ]
    }
   ],
   "source": [
    "lam = 1E-6\n",
    "stepsize = 0.1\n",
    "w, objvals_sgd = sgd(x_train, y_train, lam, stepsize)"
   ]
  },
  {
   "cell_type": "code",
   "execution_count": 345,
   "metadata": {
    "tags": []
   },
   "outputs": [
    {
     "output_type": "stream",
     "name": "stdout",
     "text": [
      "Objective value at epoch t=0 is 0.5399442465959858\n",
      "Objective value at epoch t=1 is 0.4858455924544767\n",
      "Objective value at epoch t=2 is 0.4771582467274588\n",
      "Objective value at epoch t=3 is 0.47471970243750106\n",
      "Objective value at epoch t=4 is 0.4733905774921368\n",
      "Objective value at epoch t=5 is 0.4714497355709245\n",
      "Objective value at epoch t=6 is 0.4717568418274432\n",
      "Objective value at epoch t=7 is 0.471085256399275\n",
      "Objective value at epoch t=8 is 0.47049294895540267\n",
      "Objective value at epoch t=9 is 0.47027952892682034\n",
      "Objective value at epoch t=10 is 0.4696838570575704\n",
      "Objective value at epoch t=11 is 0.4695180160656894\n",
      "Objective value at epoch t=12 is 0.46957886321603964\n",
      "Objective value at epoch t=13 is 0.4691132325838249\n",
      "Objective value at epoch t=14 is 0.46899600550271564\n",
      "Objective value at epoch t=15 is 0.4689060213243218\n",
      "Objective value at epoch t=16 is 0.4686443550749363\n",
      "Objective value at epoch t=17 is 0.4685962024696032\n",
      "Objective value at epoch t=18 is 0.46838432462193486\n",
      "Objective value at epoch t=19 is 0.4681620209429368\n",
      "Objective value at epoch t=20 is 0.46810798583236507\n",
      "Objective value at epoch t=21 is 0.4680238769051884\n",
      "Objective value at epoch t=22 is 0.4678388938985947\n",
      "Objective value at epoch t=23 is 0.46781483436159366\n",
      "Objective value at epoch t=24 is 0.46772963803319845\n",
      "Objective value at epoch t=25 is 0.4675722524574385\n",
      "Objective value at epoch t=26 is 0.46762090931773564\n",
      "Objective value at epoch t=27 is 0.4674609458391151\n",
      "Objective value at epoch t=28 is 0.46743367164154204\n",
      "Objective value at epoch t=29 is 0.46741046196413033\n",
      "Objective value at epoch t=30 is 0.4674304544064478\n",
      "Objective value at epoch t=31 is 0.467342657150042\n",
      "Objective value at epoch t=32 is 0.4673094608314514\n",
      "Objective value at epoch t=33 is 0.46729561681909537\n",
      "Objective value at epoch t=34 is 0.46726475818042135\n",
      "Objective value at epoch t=35 is 0.4672301422518455\n",
      "Objective value at epoch t=36 is 0.46722655638121413\n",
      "Objective value at epoch t=37 is 0.4671825758595565\n",
      "Objective value at epoch t=38 is 0.46717792351579635\n",
      "Objective value at epoch t=39 is 0.46716575226419454\n",
      "Objective value at epoch t=40 is 0.46713658469221464\n",
      "Objective value at epoch t=41 is 0.46712300082357927\n",
      "Objective value at epoch t=42 is 0.4671078329643173\n",
      "Objective value at epoch t=43 is 0.46711533057812354\n",
      "Objective value at epoch t=44 is 0.46708805417462224\n",
      "Objective value at epoch t=45 is 0.4670868608263204\n",
      "Objective value at epoch t=46 is 0.4670830066737034\n",
      "Objective value at epoch t=47 is 0.4670755398059182\n",
      "Objective value at epoch t=48 is 0.46706892797166255\n",
      "Objective value at epoch t=49 is 0.4670646749548264\n",
      "Objective value at epoch t=50 is 0.4670599918208859\n",
      "Objective value at epoch t=51 is 0.4670569126136252\n",
      "Objective value at epoch t=52 is 0.46704782924687366\n",
      "Objective value at epoch t=53 is 0.4670464217497072\n",
      "Objective value at epoch t=54 is 0.46704227775736884\n",
      "Objective value at epoch t=55 is 0.4670389271486731\n",
      "Objective value at epoch t=56 is 0.4670332533484176\n",
      "Objective value at epoch t=57 is 0.4670334965752502\n",
      "Objective value at epoch t=58 is 0.46703268758012123\n",
      "Objective value at epoch t=59 is 0.46702788368935566\n",
      "Objective value at epoch t=60 is 0.46702572265692305\n",
      "Objective value at epoch t=61 is 0.4670244703159073\n",
      "Objective value at epoch t=62 is 0.46702485358594525\n",
      "Objective value at epoch t=63 is 0.467021835235223\n",
      "Objective value at epoch t=64 is 0.46702141199474234\n",
      "Objective value at epoch t=65 is 0.4670206584804294\n",
      "Objective value at epoch t=66 is 0.4670196630690799\n",
      "Objective value at epoch t=67 is 0.46701856385517776\n",
      "Objective value at epoch t=68 is 0.4670185067762406\n",
      "Objective value at epoch t=69 is 0.4670173424256828\n",
      "Objective value at epoch t=70 is 0.4670164039428544\n",
      "Objective value at epoch t=71 is 0.4670164314341445\n",
      "Objective value at epoch t=72 is 0.46701533790442323\n",
      "Objective value at epoch t=73 is 0.4670151100820631\n",
      "Objective value at epoch t=74 is 0.46701426501899795\n",
      "Objective value at epoch t=75 is 0.4670143442461242\n",
      "Objective value at epoch t=76 is 0.46701425432549976\n",
      "Objective value at epoch t=77 is 0.4670139868935041\n",
      "Objective value at epoch t=78 is 0.4670132067389571\n",
      "Objective value at epoch t=79 is 0.46701328064541786\n",
      "Objective value at epoch t=80 is 0.4670129479734815\n",
      "Objective value at epoch t=81 is 0.46701286806183157\n",
      "Objective value at epoch t=82 is 0.4670128351661065\n",
      "Objective value at epoch t=83 is 0.46701256434893573\n",
      "Objective value at epoch t=84 is 0.46701245932879426\n",
      "Objective value at epoch t=85 is 0.4670123583050151\n",
      "Objective value at epoch t=86 is 0.4670121984414107\n",
      "Objective value at epoch t=87 is 0.4670119430198434\n",
      "Objective value at epoch t=88 is 0.4670119143388556\n",
      "Objective value at epoch t=89 is 0.46701182470220937\n",
      "Objective value at epoch t=90 is 0.4670117442848132\n",
      "Objective value at epoch t=91 is 0.46701163606540874\n",
      "Objective value at epoch t=92 is 0.4670115946579096\n",
      "Objective value at epoch t=93 is 0.46701157988082154\n",
      "Objective value at epoch t=94 is 0.4670114810540863\n",
      "Objective value at epoch t=95 is 0.4670114580263859\n",
      "Objective value at epoch t=96 is 0.4670114515724693\n",
      "Objective value at epoch t=97 is 0.46701140604927904\n",
      "Objective value at epoch t=98 is 0.4670113607036052\n",
      "Objective value at epoch t=99 is 0.46701134026515045\n"
     ]
    }
   ],
   "source": [
    "# MB-SGD with batch size b=8\n",
    "lam = 1E-6 # do not change\n",
    "b = 8 # do not change\n",
    "stepsize = 0.1 # you must tune this parameter\n",
    "\n",
    "w, objvals_mbsgd8 = mb_sgd(x_train, y_train, lam, b, stepsize)"
   ]
  },
  {
   "cell_type": "markdown",
   "metadata": {},
   "source": [
    "# 4. Compare GD with SGD\n",
    "\n",
    "Plot objective function values against epochs."
   ]
  },
  {
   "cell_type": "code",
   "execution_count": 346,
   "metadata": {},
   "outputs": [
    {
     "output_type": "stream",
     "name": "stderr",
     "text": [
      "<ipython-input-346-9b8d8f4cdfb5>:9: MatplotlibDeprecationWarning: Case-insensitive properties were deprecated in 3.3 and support will be removed two minor releases later\n  line0, = plt.plot(epochs_gd, objvals_gd, '--b', LineWidth=4)\n<ipython-input-346-9b8d8f4cdfb5>:10: MatplotlibDeprecationWarning: Case-insensitive properties were deprecated in 3.3 and support will be removed two minor releases later\n  line1, = plt.plot(epochs_sgd, objvals_sgd, '-r', LineWidth=2)\n<ipython-input-346-9b8d8f4cdfb5>:11: MatplotlibDeprecationWarning: Case-insensitive properties were deprecated in 3.3 and support will be removed two minor releases later\n  plt.xlabel('Epochs', FontSize=20)\n<ipython-input-346-9b8d8f4cdfb5>:12: MatplotlibDeprecationWarning: Case-insensitive properties were deprecated in 3.3 and support will be removed two minor releases later\n  plt.ylabel('Objective Value', FontSize=20)\n<ipython-input-346-9b8d8f4cdfb5>:13: MatplotlibDeprecationWarning: Case-insensitive properties were deprecated in 3.3 and support will be removed two minor releases later\n  plt.xticks(FontSize=16)\n<ipython-input-346-9b8d8f4cdfb5>:14: MatplotlibDeprecationWarning: Case-insensitive properties were deprecated in 3.3 and support will be removed two minor releases later\n  plt.yticks(FontSize=16)\n"
     ]
    },
    {
     "output_type": "display_data",
     "data": {
      "text/plain": "<Figure size 432x288 with 1 Axes>",
      "image/svg+xml": "<?xml version=\"1.0\" encoding=\"utf-8\" standalone=\"no\"?>\n<!DOCTYPE svg PUBLIC \"-//W3C//DTD SVG 1.1//EN\"\n  \"http://www.w3.org/Graphics/SVG/1.1/DTD/svg11.dtd\">\n<!-- Created with matplotlib (https://matplotlib.org/) -->\n<svg height=\"281.686814pt\" version=\"1.1\" viewBox=\"0 0 425.047572 281.686814\" width=\"425.047572pt\" xmlns=\"http://www.w3.org/2000/svg\" xmlns:xlink=\"http://www.w3.org/1999/xlink\">\n <metadata>\n  <rdf:RDF xmlns:cc=\"http://creativecommons.org/ns#\" xmlns:dc=\"http://purl.org/dc/elements/1.1/\" xmlns:rdf=\"http://www.w3.org/1999/02/22-rdf-syntax-ns#\">\n   <cc:Work>\n    <dc:type rdf:resource=\"http://purl.org/dc/dcmitype/StillImage\"/>\n    <dc:date>2021-03-07T14:17:50.688873</dc:date>\n    <dc:format>image/svg+xml</dc:format>\n    <dc:creator>\n     <cc:Agent>\n      <dc:title>Matplotlib v3.3.4, https://matplotlib.org/</dc:title>\n     </cc:Agent>\n    </dc:creator>\n   </cc:Work>\n  </rdf:RDF>\n </metadata>\n <defs>\n  <style type=\"text/css\">*{stroke-linecap:butt;stroke-linejoin:round;}</style>\n </defs>\n <g id=\"figure_1\">\n  <g id=\"patch_1\">\n   <path d=\"M 0 281.686814 \nL 425.047572 281.686814 \nL 425.047572 0 \nL 0 0 \nz\n\" style=\"fill:none;\"/>\n  </g>\n  <g id=\"axes_1\">\n   <g id=\"patch_2\">\n    <path d=\"M 73.18125 228.645564 \nL 414.975052 228.645564 \nL 414.975052 9.352175 \nL 73.18125 9.352175 \nz\n\" style=\"fill:#ffffff;\"/>\n   </g>\n   <g id=\"matplotlib.axis_1\">\n    <g id=\"xtick_1\">\n     <g id=\"line2d_1\">\n      <defs>\n       <path d=\"M 0 0 \nL 0 3.5 \n\" id=\"m032f08b2ee\" style=\"stroke:#000000;stroke-width:0.8;\"/>\n      </defs>\n      <g>\n       <use style=\"stroke:#000000;stroke-width:0.8;\" x=\"88.717332\" xlink:href=\"#m032f08b2ee\" y=\"228.645564\"/>\n      </g>\n     </g>\n     <g id=\"text_1\">\n      <!-- 0 -->\n      <g transform=\"translate(83.627332 247.803064)scale(0.16 -0.16)\">\n       <defs>\n        <path d=\"M 31.78125 66.40625 \nQ 24.171875 66.40625 20.328125 58.90625 \nQ 16.5 51.421875 16.5 36.375 \nQ 16.5 21.390625 20.328125 13.890625 \nQ 24.171875 6.390625 31.78125 6.390625 \nQ 39.453125 6.390625 43.28125 13.890625 \nQ 47.125 21.390625 47.125 36.375 \nQ 47.125 51.421875 43.28125 58.90625 \nQ 39.453125 66.40625 31.78125 66.40625 \nz\nM 31.78125 74.21875 \nQ 44.046875 74.21875 50.515625 64.515625 \nQ 56.984375 54.828125 56.984375 36.375 \nQ 56.984375 17.96875 50.515625 8.265625 \nQ 44.046875 -1.421875 31.78125 -1.421875 \nQ 19.53125 -1.421875 13.0625 8.265625 \nQ 6.59375 17.96875 6.59375 36.375 \nQ 6.59375 54.828125 13.0625 64.515625 \nQ 19.53125 74.21875 31.78125 74.21875 \nz\n\" id=\"DejaVuSans-48\"/>\n       </defs>\n       <use xlink:href=\"#DejaVuSans-48\"/>\n      </g>\n     </g>\n    </g>\n    <g id=\"xtick_2\">\n     <g id=\"line2d_2\">\n      <g>\n       <use style=\"stroke:#000000;stroke-width:0.8;\" x=\"151.48938\" xlink:href=\"#m032f08b2ee\" y=\"228.645564\"/>\n      </g>\n     </g>\n     <g id=\"text_2\">\n      <!-- 20 -->\n      <g transform=\"translate(141.30938 247.803064)scale(0.16 -0.16)\">\n       <defs>\n        <path d=\"M 19.1875 8.296875 \nL 53.609375 8.296875 \nL 53.609375 0 \nL 7.328125 0 \nL 7.328125 8.296875 \nQ 12.9375 14.109375 22.625 23.890625 \nQ 32.328125 33.6875 34.8125 36.53125 \nQ 39.546875 41.84375 41.421875 45.53125 \nQ 43.3125 49.21875 43.3125 52.78125 \nQ 43.3125 58.59375 39.234375 62.25 \nQ 35.15625 65.921875 28.609375 65.921875 \nQ 23.96875 65.921875 18.8125 64.3125 \nQ 13.671875 62.703125 7.8125 59.421875 \nL 7.8125 69.390625 \nQ 13.765625 71.78125 18.9375 73 \nQ 24.125 74.21875 28.421875 74.21875 \nQ 39.75 74.21875 46.484375 68.546875 \nQ 53.21875 62.890625 53.21875 53.421875 \nQ 53.21875 48.921875 51.53125 44.890625 \nQ 49.859375 40.875 45.40625 35.40625 \nQ 44.1875 33.984375 37.640625 27.21875 \nQ 31.109375 20.453125 19.1875 8.296875 \nz\n\" id=\"DejaVuSans-50\"/>\n       </defs>\n       <use xlink:href=\"#DejaVuSans-50\"/>\n       <use x=\"63.623047\" xlink:href=\"#DejaVuSans-48\"/>\n      </g>\n     </g>\n    </g>\n    <g id=\"xtick_3\">\n     <g id=\"line2d_3\">\n      <g>\n       <use style=\"stroke:#000000;stroke-width:0.8;\" x=\"214.261428\" xlink:href=\"#m032f08b2ee\" y=\"228.645564\"/>\n      </g>\n     </g>\n     <g id=\"text_3\">\n      <!-- 40 -->\n      <g transform=\"translate(204.081428 247.803064)scale(0.16 -0.16)\">\n       <defs>\n        <path d=\"M 37.796875 64.3125 \nL 12.890625 25.390625 \nL 37.796875 25.390625 \nz\nM 35.203125 72.90625 \nL 47.609375 72.90625 \nL 47.609375 25.390625 \nL 58.015625 25.390625 \nL 58.015625 17.1875 \nL 47.609375 17.1875 \nL 47.609375 0 \nL 37.796875 0 \nL 37.796875 17.1875 \nL 4.890625 17.1875 \nL 4.890625 26.703125 \nz\n\" id=\"DejaVuSans-52\"/>\n       </defs>\n       <use xlink:href=\"#DejaVuSans-52\"/>\n       <use x=\"63.623047\" xlink:href=\"#DejaVuSans-48\"/>\n      </g>\n     </g>\n    </g>\n    <g id=\"xtick_4\">\n     <g id=\"line2d_4\">\n      <g>\n       <use style=\"stroke:#000000;stroke-width:0.8;\" x=\"277.033476\" xlink:href=\"#m032f08b2ee\" y=\"228.645564\"/>\n      </g>\n     </g>\n     <g id=\"text_4\">\n      <!-- 60 -->\n      <g transform=\"translate(266.853476 247.803064)scale(0.16 -0.16)\">\n       <defs>\n        <path d=\"M 33.015625 40.375 \nQ 26.375 40.375 22.484375 35.828125 \nQ 18.609375 31.296875 18.609375 23.390625 \nQ 18.609375 15.53125 22.484375 10.953125 \nQ 26.375 6.390625 33.015625 6.390625 \nQ 39.65625 6.390625 43.53125 10.953125 \nQ 47.40625 15.53125 47.40625 23.390625 \nQ 47.40625 31.296875 43.53125 35.828125 \nQ 39.65625 40.375 33.015625 40.375 \nz\nM 52.59375 71.296875 \nL 52.59375 62.3125 \nQ 48.875 64.0625 45.09375 64.984375 \nQ 41.3125 65.921875 37.59375 65.921875 \nQ 27.828125 65.921875 22.671875 59.328125 \nQ 17.53125 52.734375 16.796875 39.40625 \nQ 19.671875 43.65625 24.015625 45.921875 \nQ 28.375 48.1875 33.59375 48.1875 \nQ 44.578125 48.1875 50.953125 41.515625 \nQ 57.328125 34.859375 57.328125 23.390625 \nQ 57.328125 12.15625 50.6875 5.359375 \nQ 44.046875 -1.421875 33.015625 -1.421875 \nQ 20.359375 -1.421875 13.671875 8.265625 \nQ 6.984375 17.96875 6.984375 36.375 \nQ 6.984375 53.65625 15.1875 63.9375 \nQ 23.390625 74.21875 37.203125 74.21875 \nQ 40.921875 74.21875 44.703125 73.484375 \nQ 48.484375 72.75 52.59375 71.296875 \nz\n\" id=\"DejaVuSans-54\"/>\n       </defs>\n       <use xlink:href=\"#DejaVuSans-54\"/>\n       <use x=\"63.623047\" xlink:href=\"#DejaVuSans-48\"/>\n      </g>\n     </g>\n    </g>\n    <g id=\"xtick_5\">\n     <g id=\"line2d_5\">\n      <g>\n       <use style=\"stroke:#000000;stroke-width:0.8;\" x=\"339.805524\" xlink:href=\"#m032f08b2ee\" y=\"228.645564\"/>\n      </g>\n     </g>\n     <g id=\"text_5\">\n      <!-- 80 -->\n      <g transform=\"translate(329.625524 247.803064)scale(0.16 -0.16)\">\n       <defs>\n        <path d=\"M 31.78125 34.625 \nQ 24.75 34.625 20.71875 30.859375 \nQ 16.703125 27.09375 16.703125 20.515625 \nQ 16.703125 13.921875 20.71875 10.15625 \nQ 24.75 6.390625 31.78125 6.390625 \nQ 38.8125 6.390625 42.859375 10.171875 \nQ 46.921875 13.96875 46.921875 20.515625 \nQ 46.921875 27.09375 42.890625 30.859375 \nQ 38.875 34.625 31.78125 34.625 \nz\nM 21.921875 38.8125 \nQ 15.578125 40.375 12.03125 44.71875 \nQ 8.5 49.078125 8.5 55.328125 \nQ 8.5 64.0625 14.71875 69.140625 \nQ 20.953125 74.21875 31.78125 74.21875 \nQ 42.671875 74.21875 48.875 69.140625 \nQ 55.078125 64.0625 55.078125 55.328125 \nQ 55.078125 49.078125 51.53125 44.71875 \nQ 48 40.375 41.703125 38.8125 \nQ 48.828125 37.15625 52.796875 32.3125 \nQ 56.78125 27.484375 56.78125 20.515625 \nQ 56.78125 9.90625 50.3125 4.234375 \nQ 43.84375 -1.421875 31.78125 -1.421875 \nQ 19.734375 -1.421875 13.25 4.234375 \nQ 6.78125 9.90625 6.78125 20.515625 \nQ 6.78125 27.484375 10.78125 32.3125 \nQ 14.796875 37.15625 21.921875 38.8125 \nz\nM 18.3125 54.390625 \nQ 18.3125 48.734375 21.84375 45.5625 \nQ 25.390625 42.390625 31.78125 42.390625 \nQ 38.140625 42.390625 41.71875 45.5625 \nQ 45.3125 48.734375 45.3125 54.390625 \nQ 45.3125 60.0625 41.71875 63.234375 \nQ 38.140625 66.40625 31.78125 66.40625 \nQ 25.390625 66.40625 21.84375 63.234375 \nQ 18.3125 60.0625 18.3125 54.390625 \nz\n\" id=\"DejaVuSans-56\"/>\n       </defs>\n       <use xlink:href=\"#DejaVuSans-56\"/>\n       <use x=\"63.623047\" xlink:href=\"#DejaVuSans-48\"/>\n      </g>\n     </g>\n    </g>\n    <g id=\"xtick_6\">\n     <g id=\"line2d_6\">\n      <g>\n       <use style=\"stroke:#000000;stroke-width:0.8;\" x=\"402.577572\" xlink:href=\"#m032f08b2ee\" y=\"228.645564\"/>\n      </g>\n     </g>\n     <g id=\"text_6\">\n      <!-- 100 -->\n      <g transform=\"translate(387.307572 247.803064)scale(0.16 -0.16)\">\n       <defs>\n        <path d=\"M 12.40625 8.296875 \nL 28.515625 8.296875 \nL 28.515625 63.921875 \nL 10.984375 60.40625 \nL 10.984375 69.390625 \nL 28.421875 72.90625 \nL 38.28125 72.90625 \nL 38.28125 8.296875 \nL 54.390625 8.296875 \nL 54.390625 0 \nL 12.40625 0 \nz\n\" id=\"DejaVuSans-49\"/>\n       </defs>\n       <use xlink:href=\"#DejaVuSans-49\"/>\n       <use x=\"63.623047\" xlink:href=\"#DejaVuSans-48\"/>\n       <use x=\"127.246094\" xlink:href=\"#DejaVuSans-48\"/>\n      </g>\n     </g>\n    </g>\n    <g id=\"text_7\">\n     <!-- Epochs -->\n     <g transform=\"translate(208.246901 270.327439)scale(0.2 -0.2)\">\n      <defs>\n       <path d=\"M 9.8125 72.90625 \nL 55.90625 72.90625 \nL 55.90625 64.59375 \nL 19.671875 64.59375 \nL 19.671875 43.015625 \nL 54.390625 43.015625 \nL 54.390625 34.71875 \nL 19.671875 34.71875 \nL 19.671875 8.296875 \nL 56.78125 8.296875 \nL 56.78125 0 \nL 9.8125 0 \nz\n\" id=\"DejaVuSans-69\"/>\n       <path d=\"M 18.109375 8.203125 \nL 18.109375 -20.796875 \nL 9.078125 -20.796875 \nL 9.078125 54.6875 \nL 18.109375 54.6875 \nL 18.109375 46.390625 \nQ 20.953125 51.265625 25.265625 53.625 \nQ 29.59375 56 35.59375 56 \nQ 45.5625 56 51.78125 48.09375 \nQ 58.015625 40.1875 58.015625 27.296875 \nQ 58.015625 14.40625 51.78125 6.484375 \nQ 45.5625 -1.421875 35.59375 -1.421875 \nQ 29.59375 -1.421875 25.265625 0.953125 \nQ 20.953125 3.328125 18.109375 8.203125 \nz\nM 48.6875 27.296875 \nQ 48.6875 37.203125 44.609375 42.84375 \nQ 40.53125 48.484375 33.40625 48.484375 \nQ 26.265625 48.484375 22.1875 42.84375 \nQ 18.109375 37.203125 18.109375 27.296875 \nQ 18.109375 17.390625 22.1875 11.75 \nQ 26.265625 6.109375 33.40625 6.109375 \nQ 40.53125 6.109375 44.609375 11.75 \nQ 48.6875 17.390625 48.6875 27.296875 \nz\n\" id=\"DejaVuSans-112\"/>\n       <path d=\"M 30.609375 48.390625 \nQ 23.390625 48.390625 19.1875 42.75 \nQ 14.984375 37.109375 14.984375 27.296875 \nQ 14.984375 17.484375 19.15625 11.84375 \nQ 23.34375 6.203125 30.609375 6.203125 \nQ 37.796875 6.203125 41.984375 11.859375 \nQ 46.1875 17.53125 46.1875 27.296875 \nQ 46.1875 37.015625 41.984375 42.703125 \nQ 37.796875 48.390625 30.609375 48.390625 \nz\nM 30.609375 56 \nQ 42.328125 56 49.015625 48.375 \nQ 55.71875 40.765625 55.71875 27.296875 \nQ 55.71875 13.875 49.015625 6.21875 \nQ 42.328125 -1.421875 30.609375 -1.421875 \nQ 18.84375 -1.421875 12.171875 6.21875 \nQ 5.515625 13.875 5.515625 27.296875 \nQ 5.515625 40.765625 12.171875 48.375 \nQ 18.84375 56 30.609375 56 \nz\n\" id=\"DejaVuSans-111\"/>\n       <path d=\"M 48.78125 52.59375 \nL 48.78125 44.1875 \nQ 44.96875 46.296875 41.140625 47.34375 \nQ 37.3125 48.390625 33.40625 48.390625 \nQ 24.65625 48.390625 19.8125 42.84375 \nQ 14.984375 37.3125 14.984375 27.296875 \nQ 14.984375 17.28125 19.8125 11.734375 \nQ 24.65625 6.203125 33.40625 6.203125 \nQ 37.3125 6.203125 41.140625 7.25 \nQ 44.96875 8.296875 48.78125 10.40625 \nL 48.78125 2.09375 \nQ 45.015625 0.34375 40.984375 -0.53125 \nQ 36.96875 -1.421875 32.421875 -1.421875 \nQ 20.0625 -1.421875 12.78125 6.34375 \nQ 5.515625 14.109375 5.515625 27.296875 \nQ 5.515625 40.671875 12.859375 48.328125 \nQ 20.21875 56 33.015625 56 \nQ 37.15625 56 41.109375 55.140625 \nQ 45.0625 54.296875 48.78125 52.59375 \nz\n\" id=\"DejaVuSans-99\"/>\n       <path d=\"M 54.890625 33.015625 \nL 54.890625 0 \nL 45.90625 0 \nL 45.90625 32.71875 \nQ 45.90625 40.484375 42.875 44.328125 \nQ 39.84375 48.1875 33.796875 48.1875 \nQ 26.515625 48.1875 22.3125 43.546875 \nQ 18.109375 38.921875 18.109375 30.90625 \nL 18.109375 0 \nL 9.078125 0 \nL 9.078125 75.984375 \nL 18.109375 75.984375 \nL 18.109375 46.1875 \nQ 21.34375 51.125 25.703125 53.5625 \nQ 30.078125 56 35.796875 56 \nQ 45.21875 56 50.046875 50.171875 \nQ 54.890625 44.34375 54.890625 33.015625 \nz\n\" id=\"DejaVuSans-104\"/>\n       <path d=\"M 44.28125 53.078125 \nL 44.28125 44.578125 \nQ 40.484375 46.53125 36.375 47.5 \nQ 32.28125 48.484375 27.875 48.484375 \nQ 21.1875 48.484375 17.84375 46.4375 \nQ 14.5 44.390625 14.5 40.28125 \nQ 14.5 37.15625 16.890625 35.375 \nQ 19.28125 33.59375 26.515625 31.984375 \nL 29.59375 31.296875 \nQ 39.15625 29.25 43.1875 25.515625 \nQ 47.21875 21.78125 47.21875 15.09375 \nQ 47.21875 7.46875 41.1875 3.015625 \nQ 35.15625 -1.421875 24.609375 -1.421875 \nQ 20.21875 -1.421875 15.453125 -0.5625 \nQ 10.6875 0.296875 5.421875 2 \nL 5.421875 11.28125 \nQ 10.40625 8.6875 15.234375 7.390625 \nQ 20.0625 6.109375 24.8125 6.109375 \nQ 31.15625 6.109375 34.5625 8.28125 \nQ 37.984375 10.453125 37.984375 14.40625 \nQ 37.984375 18.0625 35.515625 20.015625 \nQ 33.0625 21.96875 24.703125 23.78125 \nL 21.578125 24.515625 \nQ 13.234375 26.265625 9.515625 29.90625 \nQ 5.8125 33.546875 5.8125 39.890625 \nQ 5.8125 47.609375 11.28125 51.796875 \nQ 16.75 56 26.8125 56 \nQ 31.78125 56 36.171875 55.265625 \nQ 40.578125 54.546875 44.28125 53.078125 \nz\n\" id=\"DejaVuSans-115\"/>\n      </defs>\n      <use xlink:href=\"#DejaVuSans-69\"/>\n      <use x=\"63.183594\" xlink:href=\"#DejaVuSans-112\"/>\n      <use x=\"126.660156\" xlink:href=\"#DejaVuSans-111\"/>\n      <use x=\"187.841797\" xlink:href=\"#DejaVuSans-99\"/>\n      <use x=\"242.822266\" xlink:href=\"#DejaVuSans-104\"/>\n      <use x=\"306.201172\" xlink:href=\"#DejaVuSans-115\"/>\n     </g>\n    </g>\n   </g>\n   <g id=\"matplotlib.axis_2\">\n    <g id=\"ytick_1\">\n     <g id=\"line2d_7\">\n      <defs>\n       <path d=\"M 0 0 \nL -3.5 0 \n\" id=\"m76adbe9645\" style=\"stroke:#000000;stroke-width:0.8;\"/>\n      </defs>\n      <g>\n       <use style=\"stroke:#000000;stroke-width:0.8;\" x=\"73.18125\" xlink:href=\"#m76adbe9645\" y=\"189.594686\"/>\n      </g>\n     </g>\n     <g id=\"text_8\">\n      <!-- 0.50 -->\n      <g transform=\"translate(30.55625 195.673436)scale(0.16 -0.16)\">\n       <defs>\n        <path d=\"M 10.6875 12.40625 \nL 21 12.40625 \nL 21 0 \nL 10.6875 0 \nz\n\" id=\"DejaVuSans-46\"/>\n        <path d=\"M 10.796875 72.90625 \nL 49.515625 72.90625 \nL 49.515625 64.59375 \nL 19.828125 64.59375 \nL 19.828125 46.734375 \nQ 21.96875 47.46875 24.109375 47.828125 \nQ 26.265625 48.1875 28.421875 48.1875 \nQ 40.625 48.1875 47.75 41.5 \nQ 54.890625 34.8125 54.890625 23.390625 \nQ 54.890625 11.625 47.5625 5.09375 \nQ 40.234375 -1.421875 26.90625 -1.421875 \nQ 22.3125 -1.421875 17.546875 -0.640625 \nQ 12.796875 0.140625 7.71875 1.703125 \nL 7.71875 11.625 \nQ 12.109375 9.234375 16.796875 8.0625 \nQ 21.484375 6.890625 26.703125 6.890625 \nQ 35.15625 6.890625 40.078125 11.328125 \nQ 45.015625 15.765625 45.015625 23.390625 \nQ 45.015625 31 40.078125 35.4375 \nQ 35.15625 39.890625 26.703125 39.890625 \nQ 22.75 39.890625 18.8125 39.015625 \nQ 14.890625 38.140625 10.796875 36.28125 \nz\n\" id=\"DejaVuSans-53\"/>\n       </defs>\n       <use xlink:href=\"#DejaVuSans-48\"/>\n       <use x=\"63.623047\" xlink:href=\"#DejaVuSans-46\"/>\n       <use x=\"95.410156\" xlink:href=\"#DejaVuSans-53\"/>\n       <use x=\"159.033203\" xlink:href=\"#DejaVuSans-48\"/>\n      </g>\n     </g>\n    </g>\n    <g id=\"ytick_2\">\n     <g id=\"line2d_8\">\n      <g>\n       <use style=\"stroke:#000000;stroke-width:0.8;\" x=\"73.18125\" xlink:href=\"#m76adbe9645\" y=\"145.515702\"/>\n      </g>\n     </g>\n     <g id=\"text_9\">\n      <!-- 0.55 -->\n      <g transform=\"translate(30.55625 151.594452)scale(0.16 -0.16)\">\n       <use xlink:href=\"#DejaVuSans-48\"/>\n       <use x=\"63.623047\" xlink:href=\"#DejaVuSans-46\"/>\n       <use x=\"95.410156\" xlink:href=\"#DejaVuSans-53\"/>\n       <use x=\"159.033203\" xlink:href=\"#DejaVuSans-53\"/>\n      </g>\n     </g>\n    </g>\n    <g id=\"ytick_3\">\n     <g id=\"line2d_9\">\n      <g>\n       <use style=\"stroke:#000000;stroke-width:0.8;\" x=\"73.18125\" xlink:href=\"#m76adbe9645\" y=\"101.436718\"/>\n      </g>\n     </g>\n     <g id=\"text_10\">\n      <!-- 0.60 -->\n      <g transform=\"translate(30.55625 107.515468)scale(0.16 -0.16)\">\n       <use xlink:href=\"#DejaVuSans-48\"/>\n       <use x=\"63.623047\" xlink:href=\"#DejaVuSans-46\"/>\n       <use x=\"95.410156\" xlink:href=\"#DejaVuSans-54\"/>\n       <use x=\"159.033203\" xlink:href=\"#DejaVuSans-48\"/>\n      </g>\n     </g>\n    </g>\n    <g id=\"ytick_4\">\n     <g id=\"line2d_10\">\n      <g>\n       <use style=\"stroke:#000000;stroke-width:0.8;\" x=\"73.18125\" xlink:href=\"#m76adbe9645\" y=\"57.357734\"/>\n      </g>\n     </g>\n     <g id=\"text_11\">\n      <!-- 0.65 -->\n      <g transform=\"translate(30.55625 63.436484)scale(0.16 -0.16)\">\n       <use xlink:href=\"#DejaVuSans-48\"/>\n       <use x=\"63.623047\" xlink:href=\"#DejaVuSans-46\"/>\n       <use x=\"95.410156\" xlink:href=\"#DejaVuSans-54\"/>\n       <use x=\"159.033203\" xlink:href=\"#DejaVuSans-53\"/>\n      </g>\n     </g>\n    </g>\n    <g id=\"ytick_5\">\n     <g id=\"line2d_11\">\n      <g>\n       <use style=\"stroke:#000000;stroke-width:0.8;\" x=\"73.18125\" xlink:href=\"#m76adbe9645\" y=\"13.27875\"/>\n      </g>\n     </g>\n     <g id=\"text_12\">\n      <!-- 0.70 -->\n      <g transform=\"translate(30.55625 19.3575)scale(0.16 -0.16)\">\n       <defs>\n        <path d=\"M 8.203125 72.90625 \nL 55.078125 72.90625 \nL 55.078125 68.703125 \nL 28.609375 0 \nL 18.3125 0 \nL 43.21875 64.59375 \nL 8.203125 64.59375 \nz\n\" id=\"DejaVuSans-55\"/>\n       </defs>\n       <use xlink:href=\"#DejaVuSans-48\"/>\n       <use x=\"63.623047\" xlink:href=\"#DejaVuSans-46\"/>\n       <use x=\"95.410156\" xlink:href=\"#DejaVuSans-55\"/>\n       <use x=\"159.033203\" xlink:href=\"#DejaVuSans-48\"/>\n      </g>\n     </g>\n    </g>\n    <g id=\"text_13\">\n     <!-- Objective Value -->\n     <g transform=\"translate(22.396875 197.059807)rotate(-90)scale(0.2 -0.2)\">\n      <defs>\n       <path d=\"M 39.40625 66.21875 \nQ 28.65625 66.21875 22.328125 58.203125 \nQ 16.015625 50.203125 16.015625 36.375 \nQ 16.015625 22.609375 22.328125 14.59375 \nQ 28.65625 6.59375 39.40625 6.59375 \nQ 50.140625 6.59375 56.421875 14.59375 \nQ 62.703125 22.609375 62.703125 36.375 \nQ 62.703125 50.203125 56.421875 58.203125 \nQ 50.140625 66.21875 39.40625 66.21875 \nz\nM 39.40625 74.21875 \nQ 54.734375 74.21875 63.90625 63.9375 \nQ 73.09375 53.65625 73.09375 36.375 \nQ 73.09375 19.140625 63.90625 8.859375 \nQ 54.734375 -1.421875 39.40625 -1.421875 \nQ 24.03125 -1.421875 14.8125 8.828125 \nQ 5.609375 19.09375 5.609375 36.375 \nQ 5.609375 53.65625 14.8125 63.9375 \nQ 24.03125 74.21875 39.40625 74.21875 \nz\n\" id=\"DejaVuSans-79\"/>\n       <path d=\"M 48.6875 27.296875 \nQ 48.6875 37.203125 44.609375 42.84375 \nQ 40.53125 48.484375 33.40625 48.484375 \nQ 26.265625 48.484375 22.1875 42.84375 \nQ 18.109375 37.203125 18.109375 27.296875 \nQ 18.109375 17.390625 22.1875 11.75 \nQ 26.265625 6.109375 33.40625 6.109375 \nQ 40.53125 6.109375 44.609375 11.75 \nQ 48.6875 17.390625 48.6875 27.296875 \nz\nM 18.109375 46.390625 \nQ 20.953125 51.265625 25.265625 53.625 \nQ 29.59375 56 35.59375 56 \nQ 45.5625 56 51.78125 48.09375 \nQ 58.015625 40.1875 58.015625 27.296875 \nQ 58.015625 14.40625 51.78125 6.484375 \nQ 45.5625 -1.421875 35.59375 -1.421875 \nQ 29.59375 -1.421875 25.265625 0.953125 \nQ 20.953125 3.328125 18.109375 8.203125 \nL 18.109375 0 \nL 9.078125 0 \nL 9.078125 75.984375 \nL 18.109375 75.984375 \nz\n\" id=\"DejaVuSans-98\"/>\n       <path d=\"M 9.421875 54.6875 \nL 18.40625 54.6875 \nL 18.40625 -0.984375 \nQ 18.40625 -11.421875 14.421875 -16.109375 \nQ 10.453125 -20.796875 1.609375 -20.796875 \nL -1.8125 -20.796875 \nL -1.8125 -13.1875 \nL 0.59375 -13.1875 \nQ 5.71875 -13.1875 7.5625 -10.8125 \nQ 9.421875 -8.453125 9.421875 -0.984375 \nz\nM 9.421875 75.984375 \nL 18.40625 75.984375 \nL 18.40625 64.59375 \nL 9.421875 64.59375 \nz\n\" id=\"DejaVuSans-106\"/>\n       <path d=\"M 56.203125 29.59375 \nL 56.203125 25.203125 \nL 14.890625 25.203125 \nQ 15.484375 15.921875 20.484375 11.0625 \nQ 25.484375 6.203125 34.421875 6.203125 \nQ 39.59375 6.203125 44.453125 7.46875 \nQ 49.3125 8.734375 54.109375 11.28125 \nL 54.109375 2.78125 \nQ 49.265625 0.734375 44.1875 -0.34375 \nQ 39.109375 -1.421875 33.890625 -1.421875 \nQ 20.796875 -1.421875 13.15625 6.1875 \nQ 5.515625 13.8125 5.515625 26.8125 \nQ 5.515625 40.234375 12.765625 48.109375 \nQ 20.015625 56 32.328125 56 \nQ 43.359375 56 49.78125 48.890625 \nQ 56.203125 41.796875 56.203125 29.59375 \nz\nM 47.21875 32.234375 \nQ 47.125 39.59375 43.09375 43.984375 \nQ 39.0625 48.390625 32.421875 48.390625 \nQ 24.90625 48.390625 20.390625 44.140625 \nQ 15.875 39.890625 15.1875 32.171875 \nz\n\" id=\"DejaVuSans-101\"/>\n       <path d=\"M 18.3125 70.21875 \nL 18.3125 54.6875 \nL 36.8125 54.6875 \nL 36.8125 47.703125 \nL 18.3125 47.703125 \nL 18.3125 18.015625 \nQ 18.3125 11.328125 20.140625 9.421875 \nQ 21.96875 7.515625 27.59375 7.515625 \nL 36.8125 7.515625 \nL 36.8125 0 \nL 27.59375 0 \nQ 17.1875 0 13.234375 3.875 \nQ 9.28125 7.765625 9.28125 18.015625 \nL 9.28125 47.703125 \nL 2.6875 47.703125 \nL 2.6875 54.6875 \nL 9.28125 54.6875 \nL 9.28125 70.21875 \nz\n\" id=\"DejaVuSans-116\"/>\n       <path d=\"M 9.421875 54.6875 \nL 18.40625 54.6875 \nL 18.40625 0 \nL 9.421875 0 \nz\nM 9.421875 75.984375 \nL 18.40625 75.984375 \nL 18.40625 64.59375 \nL 9.421875 64.59375 \nz\n\" id=\"DejaVuSans-105\"/>\n       <path d=\"M 2.984375 54.6875 \nL 12.5 54.6875 \nL 29.59375 8.796875 \nL 46.6875 54.6875 \nL 56.203125 54.6875 \nL 35.6875 0 \nL 23.484375 0 \nz\n\" id=\"DejaVuSans-118\"/>\n       <path id=\"DejaVuSans-32\"/>\n       <path d=\"M 28.609375 0 \nL 0.78125 72.90625 \nL 11.078125 72.90625 \nL 34.1875 11.53125 \nL 57.328125 72.90625 \nL 67.578125 72.90625 \nL 39.796875 0 \nz\n\" id=\"DejaVuSans-86\"/>\n       <path d=\"M 34.28125 27.484375 \nQ 23.390625 27.484375 19.1875 25 \nQ 14.984375 22.515625 14.984375 16.5 \nQ 14.984375 11.71875 18.140625 8.90625 \nQ 21.296875 6.109375 26.703125 6.109375 \nQ 34.1875 6.109375 38.703125 11.40625 \nQ 43.21875 16.703125 43.21875 25.484375 \nL 43.21875 27.484375 \nz\nM 52.203125 31.203125 \nL 52.203125 0 \nL 43.21875 0 \nL 43.21875 8.296875 \nQ 40.140625 3.328125 35.546875 0.953125 \nQ 30.953125 -1.421875 24.3125 -1.421875 \nQ 15.921875 -1.421875 10.953125 3.296875 \nQ 6 8.015625 6 15.921875 \nQ 6 25.140625 12.171875 29.828125 \nQ 18.359375 34.515625 30.609375 34.515625 \nL 43.21875 34.515625 \nL 43.21875 35.40625 \nQ 43.21875 41.609375 39.140625 45 \nQ 35.0625 48.390625 27.6875 48.390625 \nQ 23 48.390625 18.546875 47.265625 \nQ 14.109375 46.140625 10.015625 43.890625 \nL 10.015625 52.203125 \nQ 14.9375 54.109375 19.578125 55.046875 \nQ 24.21875 56 28.609375 56 \nQ 40.484375 56 46.34375 49.84375 \nQ 52.203125 43.703125 52.203125 31.203125 \nz\n\" id=\"DejaVuSans-97\"/>\n       <path d=\"M 9.421875 75.984375 \nL 18.40625 75.984375 \nL 18.40625 0 \nL 9.421875 0 \nz\n\" id=\"DejaVuSans-108\"/>\n       <path d=\"M 8.5 21.578125 \nL 8.5 54.6875 \nL 17.484375 54.6875 \nL 17.484375 21.921875 \nQ 17.484375 14.15625 20.5 10.265625 \nQ 23.53125 6.390625 29.59375 6.390625 \nQ 36.859375 6.390625 41.078125 11.03125 \nQ 45.3125 15.671875 45.3125 23.6875 \nL 45.3125 54.6875 \nL 54.296875 54.6875 \nL 54.296875 0 \nL 45.3125 0 \nL 45.3125 8.40625 \nQ 42.046875 3.421875 37.71875 1 \nQ 33.40625 -1.421875 27.6875 -1.421875 \nQ 18.265625 -1.421875 13.375 4.4375 \nQ 8.5 10.296875 8.5 21.578125 \nz\nM 31.109375 56 \nz\n\" id=\"DejaVuSans-117\"/>\n      </defs>\n      <use xlink:href=\"#DejaVuSans-79\"/>\n      <use x=\"78.710938\" xlink:href=\"#DejaVuSans-98\"/>\n      <use x=\"142.1875\" xlink:href=\"#DejaVuSans-106\"/>\n      <use x=\"169.970703\" xlink:href=\"#DejaVuSans-101\"/>\n      <use x=\"231.494141\" xlink:href=\"#DejaVuSans-99\"/>\n      <use x=\"286.474609\" xlink:href=\"#DejaVuSans-116\"/>\n      <use x=\"325.683594\" xlink:href=\"#DejaVuSans-105\"/>\n      <use x=\"353.466797\" xlink:href=\"#DejaVuSans-118\"/>\n      <use x=\"412.646484\" xlink:href=\"#DejaVuSans-101\"/>\n      <use x=\"474.169922\" xlink:href=\"#DejaVuSans-32\"/>\n      <use x=\"505.957031\" xlink:href=\"#DejaVuSans-86\"/>\n      <use x=\"566.615234\" xlink:href=\"#DejaVuSans-97\"/>\n      <use x=\"627.894531\" xlink:href=\"#DejaVuSans-108\"/>\n      <use x=\"655.677734\" xlink:href=\"#DejaVuSans-117\"/>\n      <use x=\"719.056641\" xlink:href=\"#DejaVuSans-101\"/>\n     </g>\n    </g>\n   </g>\n   <g id=\"line2d_12\">\n    <path clip-path=\"url(#p68b3103b5a)\" d=\"M 88.717332 19.320056 \nL 91.855934 111.496245 \nL 94.994537 148.344494 \nL 98.133139 168.271824 \nL 101.271742 180.844778 \nL 104.410344 189.461005 \nL 107.548946 195.667549 \nL 110.687549 200.289119 \nL 113.826151 203.813573 \nL 116.964754 206.550743 \nL 120.103356 208.707543 \nL 123.241958 210.427384 \nL 126.380561 211.812548 \nL 129.519163 212.937679 \nL 132.657766 213.8583 \nL 135.796368 214.616382 \nL 138.93497 215.244099 \nL 142.073573 215.766416 \nL 145.212175 216.202914 \nL 148.350778 216.569101 \nL 151.48938 216.877359 \nL 154.627982 217.137653 \nL 157.766585 217.358058 \nL 160.905187 217.545156 \nL 164.04379 217.704341 \nL 167.182392 217.840058 \nL 170.320994 217.955986 \nL 173.459597 218.055182 \nL 176.598199 218.140195 \nL 179.736802 218.21316 \nL 182.875404 218.275867 \nL 186.014006 218.329827 \nL 189.152609 218.376311 \nL 192.291211 218.4164 \nL 195.429814 218.451006 \nL 198.568416 218.480907 \nL 201.707018 218.506766 \nL 204.845621 218.529145 \nL 207.984223 218.548529 \nL 211.122826 218.565329 \nL 214.261428 218.5799 \nL 217.40003 218.592545 \nL 220.538633 218.603525 \nL 223.677235 218.613065 \nL 226.815838 218.621358 \nL 229.95444 218.62857 \nL 233.093042 218.634845 \nL 236.231645 218.640307 \nL 239.370247 218.645063 \nL 242.50885 218.649207 \nL 245.647452 218.652818 \nL 248.786054 218.655966 \nL 251.924657 218.658712 \nL 255.063259 218.661107 \nL 258.201862 218.663197 \nL 261.340464 218.665021 \nL 264.479066 218.666614 \nL 267.617669 218.668005 \nL 270.756271 218.66922 \nL 273.894874 218.670282 \nL 277.033476 218.67121 \nL 280.172078 218.672021 \nL 283.310681 218.672731 \nL 286.449283 218.673351 \nL 289.587886 218.673894 \nL 292.726488 218.674369 \nL 295.86509 218.674784 \nL 299.003693 218.675148 \nL 302.142295 218.675466 \nL 305.280898 218.675745 \nL 308.4195 218.675989 \nL 311.558102 218.676203 \nL 314.696705 218.67639 \nL 317.835307 218.676554 \nL 320.97391 218.676698 \nL 324.112512 218.676823 \nL 327.251114 218.676934 \nL 330.389717 218.677031 \nL 333.528319 218.677115 \nL 336.666922 218.67719 \nL 339.805524 218.677255 \nL 342.944127 218.677312 \nL 346.082729 218.677362 \nL 349.221331 218.677406 \nL 352.359934 218.677445 \nL 355.498536 218.677479 \nL 358.637139 218.677508 \nL 361.775741 218.677535 \nL 364.914343 218.677557 \nL 368.052946 218.677578 \nL 371.191548 218.677595 \nL 374.330151 218.677611 \nL 377.468753 218.677624 \nL 380.607355 218.677636 \nL 383.745958 218.677647 \nL 386.88456 218.677656 \nL 390.023163 218.677664 \nL 393.161765 218.677671 \nL 396.300367 218.677677 \nL 399.43897 218.677683 \n\" style=\"fill:none;stroke:#0000ff;stroke-dasharray:14.8,6.4;stroke-dashoffset:0;stroke-width:4;\"/>\n   </g>\n   <g id=\"line2d_13\">\n    <path clip-path=\"url(#p68b3103b5a)\" d=\"M 88.717332 172.456536 \nL 91.855934 174.96451 \nL 94.994537 193.09525 \nL 98.133139 185.006363 \nL 101.271742 189.283553 \nL 104.410344 189.90906 \nL 107.548946 192.822357 \nL 110.687549 196.781691 \nL 113.826151 198.108188 \nL 116.964754 200.118542 \nL 120.103356 198.627429 \nL 123.241958 204.868212 \nL 126.380561 202.696998 \nL 129.519163 205.479126 \nL 132.657766 205.117359 \nL 135.796368 208.960896 \nL 138.93497 208.247735 \nL 142.073573 211.243237 \nL 145.212175 210.184627 \nL 148.350778 211.125654 \nL 151.48938 211.71406 \nL 154.627982 212.873047 \nL 157.766585 213.356771 \nL 160.905187 213.129457 \nL 164.04379 213.795754 \nL 167.182392 215.117016 \nL 170.320994 214.95442 \nL 173.459597 215.263142 \nL 176.598199 215.679283 \nL 179.736802 215.866087 \nL 182.875404 215.992489 \nL 186.014006 216.470435 \nL 189.152609 216.94478 \nL 192.291211 216.671296 \nL 195.429814 216.910171 \nL 198.568416 217.129798 \nL 201.707018 217.279004 \nL 204.845621 217.405645 \nL 207.984223 217.522561 \nL 211.122826 217.647952 \nL 214.261428 217.764965 \nL 217.40003 217.857896 \nL 220.538633 217.915647 \nL 223.677235 217.998914 \nL 226.815838 218.078495 \nL 229.95444 218.125461 \nL 233.093042 218.181168 \nL 236.231645 218.230737 \nL 239.370247 218.27242 \nL 242.50885 218.315211 \nL 245.647452 218.350049 \nL 248.786054 218.382469 \nL 251.924657 218.411809 \nL 255.063259 218.437755 \nL 258.201862 218.461678 \nL 261.340464 218.483828 \nL 264.479066 218.503166 \nL 267.617669 218.520735 \nL 270.756271 218.536239 \nL 273.894874 218.550385 \nL 277.033476 218.562898 \nL 280.172078 218.574372 \nL 283.310681 218.584635 \nL 286.449283 218.593825 \nL 289.587886 218.602202 \nL 292.726488 218.609773 \nL 295.86509 218.616596 \nL 299.003693 218.622644 \nL 302.142295 218.628197 \nL 305.280898 218.633134 \nL 308.4195 218.63761 \nL 311.558102 218.641549 \nL 314.696705 218.645174 \nL 317.835307 218.64841 \nL 320.97391 218.651334 \nL 324.112512 218.653969 \nL 327.251114 218.656343 \nL 330.389717 218.658471 \nL 333.528319 218.660392 \nL 336.666922 218.662116 \nL 339.805524 218.663667 \nL 342.944127 218.665063 \nL 346.082729 218.666324 \nL 349.221331 218.66746 \nL 352.359934 218.668478 \nL 355.498536 218.669397 \nL 358.637139 218.670222 \nL 361.775741 218.670965 \nL 364.914343 218.671635 \nL 368.052946 218.672237 \nL 371.191548 218.67278 \nL 374.330151 218.673268 \nL 377.468753 218.673707 \nL 380.607355 218.674102 \nL 383.745958 218.674458 \nL 386.88456 218.674778 \nL 390.023163 218.675066 \nL 393.161765 218.675325 \nL 396.300367 218.675559 \nL 399.43897 218.675769 \n\" style=\"fill:none;stroke:#ff0000;stroke-linecap:square;stroke-width:2;\"/>\n   </g>\n   <g id=\"patch_3\">\n    <path d=\"M 73.18125 228.645564 \nL 73.18125 9.352175 \n\" style=\"fill:none;stroke:#000000;stroke-linecap:square;stroke-linejoin:miter;stroke-width:0.8;\"/>\n   </g>\n   <g id=\"patch_4\">\n    <path d=\"M 414.975052 228.645564 \nL 414.975052 9.352175 \n\" style=\"fill:none;stroke:#000000;stroke-linecap:square;stroke-linejoin:miter;stroke-width:0.8;\"/>\n   </g>\n   <g id=\"patch_5\">\n    <path d=\"M 73.18125 228.645564 \nL 414.975052 228.645564 \n\" style=\"fill:none;stroke:#000000;stroke-linecap:square;stroke-linejoin:miter;stroke-width:0.8;\"/>\n   </g>\n   <g id=\"patch_6\">\n    <path d=\"M 73.18125 9.352175 \nL 414.975052 9.352175 \n\" style=\"fill:none;stroke:#000000;stroke-linecap:square;stroke-linejoin:miter;stroke-width:0.8;\"/>\n   </g>\n   <g id=\"legend_1\">\n    <g id=\"patch_7\">\n     <path d=\"M 293.381302 84.064675 \nL 400.975052 84.064675 \nQ 404.975052 84.064675 404.975052 80.064675 \nL 404.975052 23.352175 \nQ 404.975052 19.352175 400.975052 19.352175 \nL 293.381302 19.352175 \nQ 289.381302 19.352175 289.381302 23.352175 \nL 289.381302 80.064675 \nQ 289.381302 84.064675 293.381302 84.064675 \nz\n\" style=\"fill:#ffffff;opacity:0.8;stroke:#cccccc;stroke-linejoin:miter;\"/>\n    </g>\n    <g id=\"line2d_14\">\n     <path d=\"M 297.381302 35.54905 \nL 337.381302 35.54905 \n\" style=\"fill:none;stroke:#0000ff;stroke-dasharray:14.8,6.4;stroke-dashoffset:0;stroke-width:4;\"/>\n    </g>\n    <g id=\"line2d_15\"/>\n    <g id=\"text_14\">\n     <!-- GD -->\n     <g transform=\"translate(353.381302 42.54905)scale(0.2 -0.2)\">\n      <defs>\n       <path d=\"M 59.515625 10.40625 \nL 59.515625 29.984375 \nL 43.40625 29.984375 \nL 43.40625 38.09375 \nL 69.28125 38.09375 \nL 69.28125 6.78125 \nQ 63.578125 2.734375 56.6875 0.65625 \nQ 49.8125 -1.421875 42 -1.421875 \nQ 24.90625 -1.421875 15.25 8.5625 \nQ 5.609375 18.5625 5.609375 36.375 \nQ 5.609375 54.25 15.25 64.234375 \nQ 24.90625 74.21875 42 74.21875 \nQ 49.125 74.21875 55.546875 72.453125 \nQ 61.96875 70.703125 67.390625 67.28125 \nL 67.390625 56.78125 \nQ 61.921875 61.421875 55.765625 63.765625 \nQ 49.609375 66.109375 42.828125 66.109375 \nQ 29.4375 66.109375 22.71875 58.640625 \nQ 16.015625 51.171875 16.015625 36.375 \nQ 16.015625 21.625 22.71875 14.15625 \nQ 29.4375 6.6875 42.828125 6.6875 \nQ 48.046875 6.6875 52.140625 7.59375 \nQ 56.25 8.5 59.515625 10.40625 \nz\n\" id=\"DejaVuSans-71\"/>\n       <path d=\"M 19.671875 64.796875 \nL 19.671875 8.109375 \nL 31.59375 8.109375 \nQ 46.6875 8.109375 53.6875 14.9375 \nQ 60.6875 21.78125 60.6875 36.53125 \nQ 60.6875 51.171875 53.6875 57.984375 \nQ 46.6875 64.796875 31.59375 64.796875 \nz\nM 9.8125 72.90625 \nL 30.078125 72.90625 \nQ 51.265625 72.90625 61.171875 64.09375 \nQ 71.09375 55.28125 71.09375 36.53125 \nQ 71.09375 17.671875 61.125 8.828125 \nQ 51.171875 0 30.078125 0 \nL 9.8125 0 \nz\n\" id=\"DejaVuSans-68\"/>\n      </defs>\n      <use xlink:href=\"#DejaVuSans-71\"/>\n      <use x=\"77.490234\" xlink:href=\"#DejaVuSans-68\"/>\n     </g>\n    </g>\n    <g id=\"line2d_16\">\n     <path d=\"M 297.381302 64.9053 \nL 337.381302 64.9053 \n\" style=\"fill:none;stroke:#ff0000;stroke-linecap:square;stroke-width:2;\"/>\n    </g>\n    <g id=\"line2d_17\"/>\n    <g id=\"text_15\">\n     <!-- SGD -->\n     <g transform=\"translate(353.381302 71.9053)scale(0.2 -0.2)\">\n      <defs>\n       <path d=\"M 53.515625 70.515625 \nL 53.515625 60.890625 \nQ 47.90625 63.578125 42.921875 64.890625 \nQ 37.9375 66.21875 33.296875 66.21875 \nQ 25.25 66.21875 20.875 63.09375 \nQ 16.5 59.96875 16.5 54.203125 \nQ 16.5 49.359375 19.40625 46.890625 \nQ 22.3125 44.4375 30.421875 42.921875 \nL 36.375 41.703125 \nQ 47.40625 39.59375 52.65625 34.296875 \nQ 57.90625 29 57.90625 20.125 \nQ 57.90625 9.515625 50.796875 4.046875 \nQ 43.703125 -1.421875 29.984375 -1.421875 \nQ 24.8125 -1.421875 18.96875 -0.25 \nQ 13.140625 0.921875 6.890625 3.21875 \nL 6.890625 13.375 \nQ 12.890625 10.015625 18.65625 8.296875 \nQ 24.421875 6.59375 29.984375 6.59375 \nQ 38.421875 6.59375 43.015625 9.90625 \nQ 47.609375 13.234375 47.609375 19.390625 \nQ 47.609375 24.75 44.3125 27.78125 \nQ 41.015625 30.8125 33.5 32.328125 \nL 27.484375 33.5 \nQ 16.453125 35.6875 11.515625 40.375 \nQ 6.59375 45.0625 6.59375 53.421875 \nQ 6.59375 63.09375 13.40625 68.65625 \nQ 20.21875 74.21875 32.171875 74.21875 \nQ 37.3125 74.21875 42.625 73.28125 \nQ 47.953125 72.359375 53.515625 70.515625 \nz\n\" id=\"DejaVuSans-83\"/>\n      </defs>\n      <use xlink:href=\"#DejaVuSans-83\"/>\n      <use x=\"63.476562\" xlink:href=\"#DejaVuSans-71\"/>\n      <use x=\"140.966797\" xlink:href=\"#DejaVuSans-68\"/>\n     </g>\n    </g>\n   </g>\n  </g>\n </g>\n <defs>\n  <clipPath id=\"p68b3103b5a\">\n   <rect height=\"219.293389\" width=\"341.793802\" x=\"73.18125\" y=\"9.352175\"/>\n  </clipPath>\n </defs>\n</svg>\n",
      "image/png": "[encoded data removed]"
     },
     "metadata": {
      "needs_background": "light"
     }
    }
   ],
   "source": [
    "import matplotlib.pyplot as plt\n",
    "%matplotlib inline\n",
    "\n",
    "fig = plt.figure(figsize=(6, 4))\n",
    "\n",
    "epochs_gd = range(len(objvals_gd))\n",
    "epochs_sgd = range(len(objvals_sgd))\n",
    "\n",
    "line0, = plt.plot(epochs_gd, objvals_gd, '--b', LineWidth=4)\n",
    "line1, = plt.plot(epochs_sgd, objvals_sgd, '-r', LineWidth=2)\n",
    "plt.xlabel('Epochs', FontSize=20)\n",
    "plt.ylabel('Objective Value', FontSize=20)\n",
    "plt.xticks(FontSize=16)\n",
    "plt.yticks(FontSize=16)\n",
    "plt.legend([line0, line1], ['GD', 'SGD'], fontsize=20)\n",
    "plt.tight_layout()\n",
    "plt.show()\n",
    "fig.savefig('compare_gd_sgd.pdf', format='pdf', dpi=1200)"
   ]
  },
  {
   "cell_type": "markdown",
   "metadata": {},
   "source": [
    "# 5. Prediction"
   ]
  },
  {
   "cell_type": "code",
   "execution_count": 347,
   "metadata": {},
   "outputs": [],
   "source": [
    "# Predict class label\n",
    "# Inputs:\n",
    "#     w: d-by-1 matrix\n",
    "#     X: m-by-d matrix\n",
    "# Return:\n",
    "#     f: m-by-1 matrix, the predictions\n",
    "def predict(w, X):\n",
    "    xw = numpy.dot(X, w)\n",
    "    f = numpy.sign(xw)\n",
    "    return f"
   ]
  },
  {
   "cell_type": "code",
   "execution_count": 348,
   "metadata": {},
   "outputs": [
    {
     "output_type": "stream",
     "name": "stdout",
     "text": [
      "Training classification error is 0.215625\n"
     ]
    }
   ],
   "source": [
    "# evaluate training error\n",
    "f_train = predict(w, x_train)\n",
    "diff = numpy.abs(f_train - y_train) / 2\n",
    "error_train = numpy.mean(diff)\n",
    "print('Training classification error is ' + str(error_train))"
   ]
  },
  {
   "cell_type": "code",
   "execution_count": 349,
   "metadata": {},
   "outputs": [
    {
     "output_type": "stream",
     "name": "stdout",
     "text": [
      "Test classification error is 0.234375\n"
     ]
    }
   ],
   "source": [
    "# evaluate test error\n",
    "f_test = predict(w, x_test)\n",
    "diff = numpy.abs(f_test - y_test) / 2\n",
    "error_test = numpy.mean(diff)\n",
    "print('Test classification error is ' + str(error_test))"
   ]
  },
  {
   "cell_type": "markdown",
   "metadata": {},
   "source": [
    "# 6. Mini-batch SGD (fill the code)\n",
    "\n"
   ]
  },
  {
   "cell_type": "markdown",
   "metadata": {},
   "source": [
    "## 6.1. Compute the objective $Q_I$ and its gradient using a batch of samples\n",
    "\n",
    "Define $Q_I (w) = \\frac{1}{b} \\sum_{i \\in I} \\log \\Big( 1 + \\exp \\big( - y_i x_i^T w \\big) \\Big) + \\frac{\\lambda}{2} \\| w \\|_2^2 $, where $I$ is a set containing $b$ indices randomly drawn from $\\{ 1, \\cdots , n \\}$ without replacement.\n",
    "\n",
    "The stochastic gradient at $w$ is $g_I = \\frac{\\partial Q_I }{ \\partial w} = \\frac{1}{b} \\sum_{i \\in I} \\frac{- y_i x_i }{1 + \\exp ( y_i x_i^T w)} + \\lambda w$."
   ]
  },
  {
   "cell_type": "code",
   "execution_count": 350,
   "metadata": {},
   "outputs": [],
   "source": [
    "# Calculate the objective Q_I and the gradient of Q_I\n",
    "# Inputs:\n",
    "#     w: d-by-1 matrix\n",
    "#     xi: b-by-d matrix\n",
    "#     yi: b-by-1 matrix\n",
    "#     lam: scalar, the regularization parameter\n",
    "#     b: integer, the batch size\n",
    "# Return:\n",
    "#     obj: scalar, the objective Q_i\n",
    "#     g: d-by-1 matrix, gradient of Q_i\n",
    "def mb_stochastic_objective_gradient(w, xi, yi, lam, b):\n",
    "    # Fill the function\n",
    "    # Follow the implementation of stochastic_objective_gradient\n",
    "    # Use matrix-vector multiplication; do not use FOR LOOP of vector-vector multiplications\n",
    "    b, d = xi.shape\n",
    "    yx = numpy.multiply(yi, xi) # b-by-d matrix\n",
    "    yxw = numpy.dot(yx, w) # b-by-1 matrix\n",
    "    \n",
    "    # calculate stochastic gradient\n",
    "    vec1 = numpy.exp(yxw) # b-by-1 matrix\n",
    "    vec2 = numpy.divide(yx, 1+vec1) # b-by-d matrix\n",
    "    vec3 = -numpy.mean(vec2, axis=0).reshape(d, 1) # d-by-1 matrix\n",
    "    g = vec3 + lam * w\n",
    "\n",
    "    vec1 = numpy.exp(-yxw) # b-by-1 matrix\n",
    "    vec2 = numpy.log(1 + vec1) # b-by-1 matrix\n",
    "    loss = numpy.mean(vec2) # scalar\n",
    "    reg = lam / 2 * numpy.sum(w * w) # scalar\n",
    "    obj = loss + reg\n",
    "    # calculate objective\n",
    "\n",
    "    \n",
    "    return obj, g"
   ]
  },
  {
   "cell_type": "markdown",
   "metadata": {},
   "source": [
    "## 6.2. Implement mini-batch SGD\n",
    "\n",
    "Hints:\n",
    "1. In every epoch, randomly permute the $n$ samples (just like SGD).\n",
    "2. Each epoch has $\\frac{n}{b}$ iterations. In every iteration, use $b$ samples, and compute the gradient and objective using the ``mb_stochastic_objective_gradient`` function. In the next iteration, use the next $b$ samples, and so on.\n"
   ]
  },
  {
   "cell_type": "code",
   "execution_count": 351,
   "metadata": {},
   "outputs": [],
   "source": [
    "# Mini-Batch SGD for solving logistic regression\n",
    "# Inputs:\n",
    "#     x: n-by-d matrix\n",
    "#     y: n-by-1 matrix\n",
    "#     lam: scalar, the regularization parameter\n",
    "#     b: integer, the batch size\n",
    "#     stepsize: scalar\n",
    "#     max_epoch: integer, the maximal epochs\n",
    "#     w: d-by-1 matrix, initialization of w\n",
    "# Return:\n",
    "#     w: the solution\n",
    "#     objvals: record of each iteration's objective value\n",
    "def mb_sgd(x, y, lam, b, stepsize, max_epoch=100, w=None):\n",
    "    # Fill the function\n",
    "    # Follow the implementation of sgd\n",
    "    # Record one objective value per epoch (not per iteration!)\n",
    "    n, d = x.shape\n",
    "    objvals = numpy.zeros(max_epoch) # store the objective values\n",
    "    if w is None:\n",
    "        w = numpy.zeros((d, 1)) # zero initialization\n",
    "    \n",
    "    for t in range(max_epoch):\n",
    "        # randomly shuffle the samples\n",
    "        rand_indices = numpy.random.permutation(n)\n",
    "        x_rand = x[rand_indices, :]\n",
    "        y_rand = y[rand_indices, :]\n",
    "        \n",
    "        objval = 0 # accumulate the objective values\n",
    "        for i in range(int(n/b)):\n",
    "            range_indices = numpy.arange(i*b, (i*b)+b, 1)\n",
    "            xi = x_rand[range_indices, :] # b-by-d matrix\n",
    "            yi = y_rand[range_indices, :] # b-by-1 matrix\n",
    "            \n",
    "            obj, g = mb_stochastic_objective_gradient(w, xi, yi, lam, b)\n",
    "            \n",
    "            objval += obj\n",
    "            w -= stepsize * g\n",
    "            \n",
    "        stepsize *= 0.9 # decrease step size\n",
    "        objval /= int(n/b)\n",
    "        objvals[t] = objval\n",
    "        print('Objective value at epoch t=' + str(t) + ' is ' + str(objval))   \n",
    "    return w, objvals"
   ]
  },
  {
   "cell_type": "markdown",
   "metadata": {},
   "source": [
    "## 6.3. Run MB-SGD"
   ]
  },
  {
   "cell_type": "code",
   "execution_count": 352,
   "metadata": {
    "tags": []
   },
   "outputs": [
    {
     "output_type": "stream",
     "name": "stdout",
     "text": [
      "Objective value at epoch t=0 is 0.5943599372650439\n",
      "Objective value at epoch t=1 is 0.5150585730201216\n",
      "Objective value at epoch t=2 is 0.4956716098828092\n",
      "Objective value at epoch t=3 is 0.48484873963666325\n",
      "Objective value at epoch t=4 is 0.47954170413810465\n",
      "Objective value at epoch t=5 is 0.4764307649382807\n",
      "Objective value at epoch t=6 is 0.4739253460943881\n",
      "Objective value at epoch t=7 is 0.472846617530993\n",
      "Objective value at epoch t=8 is 0.47182036920461395\n",
      "Objective value at epoch t=9 is 0.4709245554554841\n",
      "Objective value at epoch t=10 is 0.47023002004813996\n",
      "Objective value at epoch t=11 is 0.4699882243502726\n",
      "Objective value at epoch t=12 is 0.4696640466038845\n",
      "Objective value at epoch t=13 is 0.4695511620705289\n",
      "Objective value at epoch t=14 is 0.46901664535320153\n",
      "Objective value at epoch t=15 is 0.46890701178034255\n",
      "Objective value at epoch t=16 is 0.4688287101385199\n",
      "Objective value at epoch t=17 is 0.4686593343239632\n",
      "Objective value at epoch t=18 is 0.4686385937738666\n",
      "Objective value at epoch t=19 is 0.46847468335810605\n",
      "Objective value at epoch t=20 is 0.46822920066019574\n",
      "Objective value at epoch t=21 is 0.4682951478777645\n",
      "Objective value at epoch t=22 is 0.46808114763261194\n",
      "Objective value at epoch t=23 is 0.4680746373977942\n",
      "Objective value at epoch t=24 is 0.4679964022465238\n",
      "Objective value at epoch t=25 is 0.46792290013604027\n",
      "Objective value at epoch t=26 is 0.4679031001295589\n",
      "Objective value at epoch t=27 is 0.4678893045746559\n",
      "Objective value at epoch t=28 is 0.4678451411693697\n",
      "Objective value at epoch t=29 is 0.46785544242918037\n",
      "Objective value at epoch t=30 is 0.46777989919824636\n",
      "Objective value at epoch t=31 is 0.46775880143789356\n",
      "Objective value at epoch t=32 is 0.4677800882662691\n",
      "Objective value at epoch t=33 is 0.4677195920032278\n",
      "Objective value at epoch t=34 is 0.46770113600029833\n",
      "Objective value at epoch t=35 is 0.46769913595788914\n",
      "Objective value at epoch t=36 is 0.4676806869131923\n",
      "Objective value at epoch t=37 is 0.46767434982221917\n",
      "Objective value at epoch t=38 is 0.46766821567837347\n",
      "Objective value at epoch t=39 is 0.46765538596379874\n",
      "Objective value at epoch t=40 is 0.4676412236550937\n",
      "Objective value at epoch t=41 is 0.46763384608595127\n",
      "Objective value at epoch t=42 is 0.46762399670528393\n",
      "Objective value at epoch t=43 is 0.46760552249024123\n",
      "Objective value at epoch t=44 is 0.46761695917878177\n",
      "Objective value at epoch t=45 is 0.4676028328711461\n",
      "Objective value at epoch t=46 is 0.4675968237939033\n",
      "Objective value at epoch t=47 is 0.4675990123928429\n",
      "Objective value at epoch t=48 is 0.46759563197200416\n",
      "Objective value at epoch t=49 is 0.4675862727180637\n",
      "Objective value at epoch t=50 is 0.4675821153763445\n",
      "Objective value at epoch t=51 is 0.46757768300818514\n",
      "Objective value at epoch t=52 is 0.46757569770643465\n",
      "Objective value at epoch t=53 is 0.4675774091560406\n",
      "Objective value at epoch t=54 is 0.46757355793276434\n",
      "Objective value at epoch t=55 is 0.4675707787547159\n",
      "Objective value at epoch t=56 is 0.46756888603064234\n",
      "Objective value at epoch t=57 is 0.4675710393463227\n",
      "Objective value at epoch t=58 is 0.46757119737055064\n",
      "Objective value at epoch t=59 is 0.4675680080155521\n",
      "Objective value at epoch t=60 is 0.46756463411482346\n",
      "Objective value at epoch t=61 is 0.46756533327581035\n",
      "Objective value at epoch t=62 is 0.46756363075633633\n",
      "Objective value at epoch t=63 is 0.467563120819183\n",
      "Objective value at epoch t=64 is 0.46756101534243816\n",
      "Objective value at epoch t=65 is 0.46756176370012403\n",
      "Objective value at epoch t=66 is 0.4675612946792988\n",
      "Objective value at epoch t=67 is 0.46756019471094046\n",
      "Objective value at epoch t=68 is 0.46756052594927233\n",
      "Objective value at epoch t=69 is 0.4675598214705155\n",
      "Objective value at epoch t=70 is 0.46755963178770876\n",
      "Objective value at epoch t=71 is 0.4675586552981342\n",
      "Objective value at epoch t=72 is 0.467558921555003\n",
      "Objective value at epoch t=73 is 0.4675579650326144\n",
      "Objective value at epoch t=74 is 0.46755781429778737\n",
      "Objective value at epoch t=75 is 0.4675579477067854\n",
      "Objective value at epoch t=76 is 0.4675577953338962\n",
      "Objective value at epoch t=77 is 0.46755738439661065\n",
      "Objective value at epoch t=78 is 0.4675574534412208\n",
      "Objective value at epoch t=79 is 0.46755720244490756\n",
      "Objective value at epoch t=80 is 0.46755702981086306\n",
      "Objective value at epoch t=81 is 0.4675569555891458\n",
      "Objective value at epoch t=82 is 0.4675569309062566\n",
      "Objective value at epoch t=83 is 0.46755676384923994\n",
      "Objective value at epoch t=84 is 0.4675566737668976\n",
      "Objective value at epoch t=85 is 0.4675566552540544\n",
      "Objective value at epoch t=86 is 0.46755649037141633\n",
      "Objective value at epoch t=87 is 0.46755640176497487\n",
      "Objective value at epoch t=88 is 0.467556404974768\n",
      "Objective value at epoch t=89 is 0.46755641597183306\n",
      "Objective value at epoch t=90 is 0.46755632565426153\n",
      "Objective value at epoch t=91 is 0.46755625019413893\n",
      "Objective value at epoch t=92 is 0.4675562353596908\n",
      "Objective value at epoch t=93 is 0.46755625712631554\n",
      "Objective value at epoch t=94 is 0.46755615502904757\n",
      "Objective value at epoch t=95 is 0.46755617337123645\n",
      "Objective value at epoch t=96 is 0.4675561371890593\n",
      "Objective value at epoch t=97 is 0.46755614738838547\n",
      "Objective value at epoch t=98 is 0.46755609345896054\n",
      "Objective value at epoch t=99 is 0.46755607990746756\n"
     ]
    }
   ],
   "source": [
    "# MB-SGD with batch size b=64\n",
    "lam = 1E-6 # do not change\n",
    "b = 64 # do not change\n",
    "stepsize = 0.3 # you must tune this parameter\n",
    "\n",
    "w, objvals_mbsgd64 = mb_sgd(x_train, y_train, lam, b, stepsize)"
   ]
  },
  {
   "cell_type": "code",
   "execution_count": 353,
   "metadata": {},
   "outputs": [
    {
     "output_type": "stream",
     "name": "stdout",
     "text": [
      "Objective value at epoch t=0 is 0.5531171870278527\n",
      "Objective value at epoch t=1 is 0.4872626542659243\n",
      "Objective value at epoch t=2 is 0.47709729227967823\n",
      "Objective value at epoch t=3 is 0.47433683020522777\n",
      "Objective value at epoch t=4 is 0.47246956419014224\n",
      "Objective value at epoch t=5 is 0.47122575991309734\n",
      "Objective value at epoch t=6 is 0.4705873177870742\n",
      "Objective value at epoch t=7 is 0.47003387008060865\n",
      "Objective value at epoch t=8 is 0.4701383580645677\n",
      "Objective value at epoch t=9 is 0.4697704055286597\n",
      "Objective value at epoch t=10 is 0.469381458878163\n",
      "Objective value at epoch t=11 is 0.4692097457202764\n",
      "Objective value at epoch t=12 is 0.469222435549431\n",
      "Objective value at epoch t=13 is 0.468799281378272\n",
      "Objective value at epoch t=14 is 0.46872615063330036\n",
      "Objective value at epoch t=15 is 0.46847458248579377\n",
      "Objective value at epoch t=16 is 0.4683509265699713\n",
      "Objective value at epoch t=17 is 0.46822051975944623\n",
      "Objective value at epoch t=18 is 0.46802673692303953\n",
      "Objective value at epoch t=19 is 0.46799582558352704\n",
      "Objective value at epoch t=20 is 0.467845104711734\n",
      "Objective value at epoch t=21 is 0.4678143782831973\n",
      "Objective value at epoch t=22 is 0.4677395661933712\n",
      "Objective value at epoch t=23 is 0.46765345020029037\n",
      "Objective value at epoch t=24 is 0.46754826236303354\n",
      "Objective value at epoch t=25 is 0.46744000651132167\n",
      "Objective value at epoch t=26 is 0.4674294569678657\n",
      "Objective value at epoch t=27 is 0.46742087636679236\n",
      "Objective value at epoch t=28 is 0.4673919510069802\n",
      "Objective value at epoch t=29 is 0.46735457487900334\n",
      "Objective value at epoch t=30 is 0.46732084507489435\n",
      "Objective value at epoch t=31 is 0.46728045328209616\n",
      "Objective value at epoch t=32 is 0.4672374429572783\n",
      "Objective value at epoch t=33 is 0.4672313762891431\n",
      "Objective value at epoch t=34 is 0.46721177089811583\n",
      "Objective value at epoch t=35 is 0.46720228302605127\n",
      "Objective value at epoch t=36 is 0.4671657995934768\n",
      "Objective value at epoch t=37 is 0.467164686712473\n",
      "Objective value at epoch t=38 is 0.467158032598619\n",
      "Objective value at epoch t=39 is 0.4671360573152269\n",
      "Objective value at epoch t=40 is 0.46712254747608206\n",
      "Objective value at epoch t=41 is 0.4671043147456926\n",
      "Objective value at epoch t=42 is 0.46710425352664553\n",
      "Objective value at epoch t=43 is 0.46709798801049474\n",
      "Objective value at epoch t=44 is 0.4670893976433056\n",
      "Objective value at epoch t=45 is 0.46708156817185253\n",
      "Objective value at epoch t=46 is 0.46707335674493533\n",
      "Objective value at epoch t=47 is 0.46706875454117514\n",
      "Objective value at epoch t=48 is 0.4670661433774585\n",
      "Objective value at epoch t=49 is 0.4670587440082331\n",
      "Objective value at epoch t=50 is 0.46705461890092714\n",
      "Objective value at epoch t=51 is 0.46705177209497545\n",
      "Objective value at epoch t=52 is 0.4670479101338418\n",
      "Objective value at epoch t=53 is 0.46704228232829365\n",
      "Objective value at epoch t=54 is 0.4670406425524435\n",
      "Objective value at epoch t=55 is 0.46703888975955443\n",
      "Objective value at epoch t=56 is 0.4670373676997083\n",
      "Objective value at epoch t=57 is 0.4670349934869521\n",
      "Objective value at epoch t=58 is 0.4670346194364992\n",
      "Objective value at epoch t=59 is 0.46703091570682104\n",
      "Objective value at epoch t=60 is 0.46703055690050344\n",
      "Objective value at epoch t=61 is 0.46702829048447736\n",
      "Objective value at epoch t=62 is 0.4670285264695301\n",
      "Objective value at epoch t=63 is 0.4670263335258208\n",
      "Objective value at epoch t=64 is 0.4670252265574625\n",
      "Objective value at epoch t=65 is 0.46702524924656325\n",
      "Objective value at epoch t=66 is 0.46702395013841247\n",
      "Objective value at epoch t=67 is 0.467023429618323\n",
      "Objective value at epoch t=68 is 0.4670227403185107\n",
      "Objective value at epoch t=69 is 0.4670217236506601\n",
      "Objective value at epoch t=70 is 0.46702190507666586\n",
      "Objective value at epoch t=71 is 0.4670211056124554\n",
      "Objective value at epoch t=72 is 0.4670204176774111\n",
      "Objective value at epoch t=73 is 0.46702057580692474\n",
      "Objective value at epoch t=74 is 0.46701993801861014\n",
      "Objective value at epoch t=75 is 0.46701983456627527\n",
      "Objective value at epoch t=76 is 0.46701963262804513\n",
      "Objective value at epoch t=77 is 0.46701928752946953\n",
      "Objective value at epoch t=78 is 0.4670187998575378\n",
      "Objective value at epoch t=79 is 0.46701880527266076\n",
      "Objective value at epoch t=80 is 0.46701859448584193\n",
      "Objective value at epoch t=81 is 0.4670183176737807\n",
      "Objective value at epoch t=82 is 0.46701831938670013\n",
      "Objective value at epoch t=83 is 0.46701815932238133\n",
      "Objective value at epoch t=84 is 0.4670179332902474\n",
      "Objective value at epoch t=85 is 0.46701787076493034\n",
      "Objective value at epoch t=86 is 0.4670178731184498\n",
      "Objective value at epoch t=87 is 0.46701772699197663\n",
      "Objective value at epoch t=88 is 0.4670177355627819\n",
      "Objective value at epoch t=89 is 0.4670176296989311\n",
      "Objective value at epoch t=90 is 0.46701748710482843\n",
      "Objective value at epoch t=91 is 0.46701749058808817\n",
      "Objective value at epoch t=92 is 0.4670174484231776\n",
      "Objective value at epoch t=93 is 0.46701741892296067\n",
      "Objective value at epoch t=94 is 0.4670173662299379\n",
      "Objective value at epoch t=95 is 0.46701731395792523\n",
      "Objective value at epoch t=96 is 0.46701727198453663\n",
      "Objective value at epoch t=97 is 0.46701727170465784\n",
      "Objective value at epoch t=98 is 0.4670172063447914\n",
      "Objective value at epoch t=99 is 0.46701720330348123\n"
     ]
    }
   ],
   "source": [
    "# MB-SGD with batch size b=8\n",
    "lam = 1E-6 # do not change\n",
    "b = 8 # do not change\n",
    "stepsize = 0.08 # you must tune this parameter\n",
    "\n",
    "w, objvals_mbsgd8 = mb_sgd(x_train, y_train, lam, b, stepsize)"
   ]
  },
  {
   "source": [
    "# 7. Plot and compare GD, SGD, and MB-SGD"
   ],
   "cell_type": "code",
   "metadata": {},
   "execution_count": 354,
   "outputs": []
  },
  {
   "cell_type": "markdown",
   "metadata": {},
   "source": [
    "Hint: Logistic regression with $\\ell_2$-norm regularization is a strongly convex optimization problem. All the algorithms will converge to the same solution. **In the end, the ``objective function value`` of the 4 algorithms will be the same. If not the same, your implementation must be wrong. Do NOT submit wrong code and wrong result!**"
   ]
  },
  {
   "cell_type": "markdown",
   "metadata": {},
   "source": [
    "You are required to compare the following algorithms:\n",
    "\n",
    "- Gradient descent (GD)\n",
    "\n",
    "- SGD\n",
    "\n",
    "- MB-SGD with b=8\n",
    "\n",
    "- MB-SGD with b=64\n",
    "\n",
    "Follow the code in Section 4 to plot ```objective function value``` against ```epochs```. There should be four curves in the plot; each curve corresponds to one algorithm."
   ]
  },
  {
   "cell_type": "code",
   "execution_count": 355,
   "metadata": {},
   "outputs": [
    {
     "output_type": "stream",
     "name": "stderr",
     "text": [
      "<ipython-input-355-fea660b8950d>:12: MatplotlibDeprecationWarning: Case-insensitive properties were deprecated in 3.3 and support will be removed two minor releases later\n  line0, = plt.plot(epochs_gd, objvals_gd, '--b', LineWidth=4)\n<ipython-input-355-fea660b8950d>:13: MatplotlibDeprecationWarning: Case-insensitive properties were deprecated in 3.3 and support will be removed two minor releases later\n  line1, = plt.plot(epochs_sgd, objvals_sgd, '-r', LineWidth=2)\n<ipython-input-355-fea660b8950d>:14: MatplotlibDeprecationWarning: Case-insensitive properties were deprecated in 3.3 and support will be removed two minor releases later\n  line2, = plt.plot(epochs_mb8sgd, objvals_mbsgd8, '-g', LineWidth=2)\n<ipython-input-355-fea660b8950d>:15: MatplotlibDeprecationWarning: Case-insensitive properties were deprecated in 3.3 and support will be removed two minor releases later\n  line3, = plt.plot(epochs_mb64sgd, objvals_mbsgd64, '-y', LineWidth=2)\n<ipython-input-355-fea660b8950d>:18: MatplotlibDeprecationWarning: Case-insensitive properties were deprecated in 3.3 and support will be removed two minor releases later\n  plt.xlabel('Epochs', FontSize=20)\n<ipython-input-355-fea660b8950d>:19: MatplotlibDeprecationWarning: Case-insensitive properties were deprecated in 3.3 and support will be removed two minor releases later\n  plt.ylabel('Objective Value', FontSize=20)\n<ipython-input-355-fea660b8950d>:20: MatplotlibDeprecationWarning: Case-insensitive properties were deprecated in 3.3 and support will be removed two minor releases later\n  plt.xticks(FontSize=16)\n<ipython-input-355-fea660b8950d>:21: MatplotlibDeprecationWarning: Case-insensitive properties were deprecated in 3.3 and support will be removed two minor releases later\n  plt.yticks(FontSize=16)\n"
     ]
    },
    {
     "output_type": "display_data",
     "data": {
      "text/plain": "<Figure size 432x288 with 1 Axes>",
      "image/svg+xml": "<?xml version=\"1.0\" encoding=\"utf-8\" standalone=\"no\"?>\n<!DOCTYPE svg PUBLIC \"-//W3C//DTD SVG 1.1//EN\"\n  \"http://www.w3.org/Graphics/SVG/1.1/DTD/svg11.dtd\">\n<!-- Created with matplotlib (https://matplotlib.org/) -->\n<svg height=\"281.686814pt\" version=\"1.1\" viewBox=\"0 0 425.047572 281.686814\" width=\"425.047572pt\" xmlns=\"http://www.w3.org/2000/svg\" xmlns:xlink=\"http://www.w3.org/1999/xlink\">\n <metadata>\n  <rdf:RDF xmlns:cc=\"http://creativecommons.org/ns#\" xmlns:dc=\"http://purl.org/dc/elements/1.1/\" xmlns:rdf=\"http://www.w3.org/1999/02/22-rdf-syntax-ns#\">\n   <cc:Work>\n    <dc:type rdf:resource=\"http://purl.org/dc/dcmitype/StillImage\"/>\n    <dc:date>2021-03-07T14:17:52.692107</dc:date>\n    <dc:format>image/svg+xml</dc:format>\n    <dc:creator>\n     <cc:Agent>\n      <dc:title>Matplotlib v3.3.4, https://matplotlib.org/</dc:title>\n     </cc:Agent>\n    </dc:creator>\n   </cc:Work>\n  </rdf:RDF>\n </metadata>\n <defs>\n  <style type=\"text/css\">*{stroke-linecap:butt;stroke-linejoin:round;}</style>\n </defs>\n <g id=\"figure_1\">\n  <g id=\"patch_1\">\n   <path d=\"M 0 281.686814 \nL 425.047572 281.686814 \nL 425.047572 0 \nL 0 0 \nz\n\" style=\"fill:none;\"/>\n  </g>\n  <g id=\"axes_1\">\n   <g id=\"patch_2\">\n    <path d=\"M 73.18125 228.645564 \nL 414.975052 228.645564 \nL 414.975052 9.352175 \nL 73.18125 9.352175 \nz\n\" style=\"fill:#ffffff;\"/>\n   </g>\n   <g id=\"matplotlib.axis_1\">\n    <g id=\"xtick_1\">\n     <g id=\"line2d_1\">\n      <defs>\n       <path d=\"M 0 0 \nL 0 3.5 \n\" id=\"m8dee2b4602\" style=\"stroke:#000000;stroke-width:0.8;\"/>\n      </defs>\n      <g>\n       <use style=\"stroke:#000000;stroke-width:0.8;\" x=\"88.717332\" xlink:href=\"#m8dee2b4602\" y=\"228.645564\"/>\n      </g>\n     </g>\n     <g id=\"text_1\">\n      <!-- 0 -->\n      <g transform=\"translate(83.627332 247.803064)scale(0.16 -0.16)\">\n       <defs>\n        <path d=\"M 31.78125 66.40625 \nQ 24.171875 66.40625 20.328125 58.90625 \nQ 16.5 51.421875 16.5 36.375 \nQ 16.5 21.390625 20.328125 13.890625 \nQ 24.171875 6.390625 31.78125 6.390625 \nQ 39.453125 6.390625 43.28125 13.890625 \nQ 47.125 21.390625 47.125 36.375 \nQ 47.125 51.421875 43.28125 58.90625 \nQ 39.453125 66.40625 31.78125 66.40625 \nz\nM 31.78125 74.21875 \nQ 44.046875 74.21875 50.515625 64.515625 \nQ 56.984375 54.828125 56.984375 36.375 \nQ 56.984375 17.96875 50.515625 8.265625 \nQ 44.046875 -1.421875 31.78125 -1.421875 \nQ 19.53125 -1.421875 13.0625 8.265625 \nQ 6.59375 17.96875 6.59375 36.375 \nQ 6.59375 54.828125 13.0625 64.515625 \nQ 19.53125 74.21875 31.78125 74.21875 \nz\n\" id=\"DejaVuSans-48\"/>\n       </defs>\n       <use xlink:href=\"#DejaVuSans-48\"/>\n      </g>\n     </g>\n    </g>\n    <g id=\"xtick_2\">\n     <g id=\"line2d_2\">\n      <g>\n       <use style=\"stroke:#000000;stroke-width:0.8;\" x=\"151.48938\" xlink:href=\"#m8dee2b4602\" y=\"228.645564\"/>\n      </g>\n     </g>\n     <g id=\"text_2\">\n      <!-- 20 -->\n      <g transform=\"translate(141.30938 247.803064)scale(0.16 -0.16)\">\n       <defs>\n        <path d=\"M 19.1875 8.296875 \nL 53.609375 8.296875 \nL 53.609375 0 \nL 7.328125 0 \nL 7.328125 8.296875 \nQ 12.9375 14.109375 22.625 23.890625 \nQ 32.328125 33.6875 34.8125 36.53125 \nQ 39.546875 41.84375 41.421875 45.53125 \nQ 43.3125 49.21875 43.3125 52.78125 \nQ 43.3125 58.59375 39.234375 62.25 \nQ 35.15625 65.921875 28.609375 65.921875 \nQ 23.96875 65.921875 18.8125 64.3125 \nQ 13.671875 62.703125 7.8125 59.421875 \nL 7.8125 69.390625 \nQ 13.765625 71.78125 18.9375 73 \nQ 24.125 74.21875 28.421875 74.21875 \nQ 39.75 74.21875 46.484375 68.546875 \nQ 53.21875 62.890625 53.21875 53.421875 \nQ 53.21875 48.921875 51.53125 44.890625 \nQ 49.859375 40.875 45.40625 35.40625 \nQ 44.1875 33.984375 37.640625 27.21875 \nQ 31.109375 20.453125 19.1875 8.296875 \nz\n\" id=\"DejaVuSans-50\"/>\n       </defs>\n       <use xlink:href=\"#DejaVuSans-50\"/>\n       <use x=\"63.623047\" xlink:href=\"#DejaVuSans-48\"/>\n      </g>\n     </g>\n    </g>\n    <g id=\"xtick_3\">\n     <g id=\"line2d_3\">\n      <g>\n       <use style=\"stroke:#000000;stroke-width:0.8;\" x=\"214.261428\" xlink:href=\"#m8dee2b4602\" y=\"228.645564\"/>\n      </g>\n     </g>\n     <g id=\"text_3\">\n      <!-- 40 -->\n      <g transform=\"translate(204.081428 247.803064)scale(0.16 -0.16)\">\n       <defs>\n        <path d=\"M 37.796875 64.3125 \nL 12.890625 25.390625 \nL 37.796875 25.390625 \nz\nM 35.203125 72.90625 \nL 47.609375 72.90625 \nL 47.609375 25.390625 \nL 58.015625 25.390625 \nL 58.015625 17.1875 \nL 47.609375 17.1875 \nL 47.609375 0 \nL 37.796875 0 \nL 37.796875 17.1875 \nL 4.890625 17.1875 \nL 4.890625 26.703125 \nz\n\" id=\"DejaVuSans-52\"/>\n       </defs>\n       <use xlink:href=\"#DejaVuSans-52\"/>\n       <use x=\"63.623047\" xlink:href=\"#DejaVuSans-48\"/>\n      </g>\n     </g>\n    </g>\n    <g id=\"xtick_4\">\n     <g id=\"line2d_4\">\n      <g>\n       <use style=\"stroke:#000000;stroke-width:0.8;\" x=\"277.033476\" xlink:href=\"#m8dee2b4602\" y=\"228.645564\"/>\n      </g>\n     </g>\n     <g id=\"text_4\">\n      <!-- 60 -->\n      <g transform=\"translate(266.853476 247.803064)scale(0.16 -0.16)\">\n       <defs>\n        <path d=\"M 33.015625 40.375 \nQ 26.375 40.375 22.484375 35.828125 \nQ 18.609375 31.296875 18.609375 23.390625 \nQ 18.609375 15.53125 22.484375 10.953125 \nQ 26.375 6.390625 33.015625 6.390625 \nQ 39.65625 6.390625 43.53125 10.953125 \nQ 47.40625 15.53125 47.40625 23.390625 \nQ 47.40625 31.296875 43.53125 35.828125 \nQ 39.65625 40.375 33.015625 40.375 \nz\nM 52.59375 71.296875 \nL 52.59375 62.3125 \nQ 48.875 64.0625 45.09375 64.984375 \nQ 41.3125 65.921875 37.59375 65.921875 \nQ 27.828125 65.921875 22.671875 59.328125 \nQ 17.53125 52.734375 16.796875 39.40625 \nQ 19.671875 43.65625 24.015625 45.921875 \nQ 28.375 48.1875 33.59375 48.1875 \nQ 44.578125 48.1875 50.953125 41.515625 \nQ 57.328125 34.859375 57.328125 23.390625 \nQ 57.328125 12.15625 50.6875 5.359375 \nQ 44.046875 -1.421875 33.015625 -1.421875 \nQ 20.359375 -1.421875 13.671875 8.265625 \nQ 6.984375 17.96875 6.984375 36.375 \nQ 6.984375 53.65625 15.1875 63.9375 \nQ 23.390625 74.21875 37.203125 74.21875 \nQ 40.921875 74.21875 44.703125 73.484375 \nQ 48.484375 72.75 52.59375 71.296875 \nz\n\" id=\"DejaVuSans-54\"/>\n       </defs>\n       <use xlink:href=\"#DejaVuSans-54\"/>\n       <use x=\"63.623047\" xlink:href=\"#DejaVuSans-48\"/>\n      </g>\n     </g>\n    </g>\n    <g id=\"xtick_5\">\n     <g id=\"line2d_5\">\n      <g>\n       <use style=\"stroke:#000000;stroke-width:0.8;\" x=\"339.805524\" xlink:href=\"#m8dee2b4602\" y=\"228.645564\"/>\n      </g>\n     </g>\n     <g id=\"text_5\">\n      <!-- 80 -->\n      <g transform=\"translate(329.625524 247.803064)scale(0.16 -0.16)\">\n       <defs>\n        <path d=\"M 31.78125 34.625 \nQ 24.75 34.625 20.71875 30.859375 \nQ 16.703125 27.09375 16.703125 20.515625 \nQ 16.703125 13.921875 20.71875 10.15625 \nQ 24.75 6.390625 31.78125 6.390625 \nQ 38.8125 6.390625 42.859375 10.171875 \nQ 46.921875 13.96875 46.921875 20.515625 \nQ 46.921875 27.09375 42.890625 30.859375 \nQ 38.875 34.625 31.78125 34.625 \nz\nM 21.921875 38.8125 \nQ 15.578125 40.375 12.03125 44.71875 \nQ 8.5 49.078125 8.5 55.328125 \nQ 8.5 64.0625 14.71875 69.140625 \nQ 20.953125 74.21875 31.78125 74.21875 \nQ 42.671875 74.21875 48.875 69.140625 \nQ 55.078125 64.0625 55.078125 55.328125 \nQ 55.078125 49.078125 51.53125 44.71875 \nQ 48 40.375 41.703125 38.8125 \nQ 48.828125 37.15625 52.796875 32.3125 \nQ 56.78125 27.484375 56.78125 20.515625 \nQ 56.78125 9.90625 50.3125 4.234375 \nQ 43.84375 -1.421875 31.78125 -1.421875 \nQ 19.734375 -1.421875 13.25 4.234375 \nQ 6.78125 9.90625 6.78125 20.515625 \nQ 6.78125 27.484375 10.78125 32.3125 \nQ 14.796875 37.15625 21.921875 38.8125 \nz\nM 18.3125 54.390625 \nQ 18.3125 48.734375 21.84375 45.5625 \nQ 25.390625 42.390625 31.78125 42.390625 \nQ 38.140625 42.390625 41.71875 45.5625 \nQ 45.3125 48.734375 45.3125 54.390625 \nQ 45.3125 60.0625 41.71875 63.234375 \nQ 38.140625 66.40625 31.78125 66.40625 \nQ 25.390625 66.40625 21.84375 63.234375 \nQ 18.3125 60.0625 18.3125 54.390625 \nz\n\" id=\"DejaVuSans-56\"/>\n       </defs>\n       <use xlink:href=\"#DejaVuSans-56\"/>\n       <use x=\"63.623047\" xlink:href=\"#DejaVuSans-48\"/>\n      </g>\n     </g>\n    </g>\n    <g id=\"xtick_6\">\n     <g id=\"line2d_6\">\n      <g>\n       <use style=\"stroke:#000000;stroke-width:0.8;\" x=\"402.577572\" xlink:href=\"#m8dee2b4602\" y=\"228.645564\"/>\n      </g>\n     </g>\n     <g id=\"text_6\">\n      <!-- 100 -->\n      <g transform=\"translate(387.307572 247.803064)scale(0.16 -0.16)\">\n       <defs>\n        <path d=\"M 12.40625 8.296875 \nL 28.515625 8.296875 \nL 28.515625 63.921875 \nL 10.984375 60.40625 \nL 10.984375 69.390625 \nL 28.421875 72.90625 \nL 38.28125 72.90625 \nL 38.28125 8.296875 \nL 54.390625 8.296875 \nL 54.390625 0 \nL 12.40625 0 \nz\n\" id=\"DejaVuSans-49\"/>\n       </defs>\n       <use xlink:href=\"#DejaVuSans-49\"/>\n       <use x=\"63.623047\" xlink:href=\"#DejaVuSans-48\"/>\n       <use x=\"127.246094\" xlink:href=\"#DejaVuSans-48\"/>\n      </g>\n     </g>\n    </g>\n    <g id=\"text_7\">\n     <!-- Epochs -->\n     <g transform=\"translate(208.246901 270.327439)scale(0.2 -0.2)\">\n      <defs>\n       <path d=\"M 9.8125 72.90625 \nL 55.90625 72.90625 \nL 55.90625 64.59375 \nL 19.671875 64.59375 \nL 19.671875 43.015625 \nL 54.390625 43.015625 \nL 54.390625 34.71875 \nL 19.671875 34.71875 \nL 19.671875 8.296875 \nL 56.78125 8.296875 \nL 56.78125 0 \nL 9.8125 0 \nz\n\" id=\"DejaVuSans-69\"/>\n       <path d=\"M 18.109375 8.203125 \nL 18.109375 -20.796875 \nL 9.078125 -20.796875 \nL 9.078125 54.6875 \nL 18.109375 54.6875 \nL 18.109375 46.390625 \nQ 20.953125 51.265625 25.265625 53.625 \nQ 29.59375 56 35.59375 56 \nQ 45.5625 56 51.78125 48.09375 \nQ 58.015625 40.1875 58.015625 27.296875 \nQ 58.015625 14.40625 51.78125 6.484375 \nQ 45.5625 -1.421875 35.59375 -1.421875 \nQ 29.59375 -1.421875 25.265625 0.953125 \nQ 20.953125 3.328125 18.109375 8.203125 \nz\nM 48.6875 27.296875 \nQ 48.6875 37.203125 44.609375 42.84375 \nQ 40.53125 48.484375 33.40625 48.484375 \nQ 26.265625 48.484375 22.1875 42.84375 \nQ 18.109375 37.203125 18.109375 27.296875 \nQ 18.109375 17.390625 22.1875 11.75 \nQ 26.265625 6.109375 33.40625 6.109375 \nQ 40.53125 6.109375 44.609375 11.75 \nQ 48.6875 17.390625 48.6875 27.296875 \nz\n\" id=\"DejaVuSans-112\"/>\n       <path d=\"M 30.609375 48.390625 \nQ 23.390625 48.390625 19.1875 42.75 \nQ 14.984375 37.109375 14.984375 27.296875 \nQ 14.984375 17.484375 19.15625 11.84375 \nQ 23.34375 6.203125 30.609375 6.203125 \nQ 37.796875 6.203125 41.984375 11.859375 \nQ 46.1875 17.53125 46.1875 27.296875 \nQ 46.1875 37.015625 41.984375 42.703125 \nQ 37.796875 48.390625 30.609375 48.390625 \nz\nM 30.609375 56 \nQ 42.328125 56 49.015625 48.375 \nQ 55.71875 40.765625 55.71875 27.296875 \nQ 55.71875 13.875 49.015625 6.21875 \nQ 42.328125 -1.421875 30.609375 -1.421875 \nQ 18.84375 -1.421875 12.171875 6.21875 \nQ 5.515625 13.875 5.515625 27.296875 \nQ 5.515625 40.765625 12.171875 48.375 \nQ 18.84375 56 30.609375 56 \nz\n\" id=\"DejaVuSans-111\"/>\n       <path d=\"M 48.78125 52.59375 \nL 48.78125 44.1875 \nQ 44.96875 46.296875 41.140625 47.34375 \nQ 37.3125 48.390625 33.40625 48.390625 \nQ 24.65625 48.390625 19.8125 42.84375 \nQ 14.984375 37.3125 14.984375 27.296875 \nQ 14.984375 17.28125 19.8125 11.734375 \nQ 24.65625 6.203125 33.40625 6.203125 \nQ 37.3125 6.203125 41.140625 7.25 \nQ 44.96875 8.296875 48.78125 10.40625 \nL 48.78125 2.09375 \nQ 45.015625 0.34375 40.984375 -0.53125 \nQ 36.96875 -1.421875 32.421875 -1.421875 \nQ 20.0625 -1.421875 12.78125 6.34375 \nQ 5.515625 14.109375 5.515625 27.296875 \nQ 5.515625 40.671875 12.859375 48.328125 \nQ 20.21875 56 33.015625 56 \nQ 37.15625 56 41.109375 55.140625 \nQ 45.0625 54.296875 48.78125 52.59375 \nz\n\" id=\"DejaVuSans-99\"/>\n       <path d=\"M 54.890625 33.015625 \nL 54.890625 0 \nL 45.90625 0 \nL 45.90625 32.71875 \nQ 45.90625 40.484375 42.875 44.328125 \nQ 39.84375 48.1875 33.796875 48.1875 \nQ 26.515625 48.1875 22.3125 43.546875 \nQ 18.109375 38.921875 18.109375 30.90625 \nL 18.109375 0 \nL 9.078125 0 \nL 9.078125 75.984375 \nL 18.109375 75.984375 \nL 18.109375 46.1875 \nQ 21.34375 51.125 25.703125 53.5625 \nQ 30.078125 56 35.796875 56 \nQ 45.21875 56 50.046875 50.171875 \nQ 54.890625 44.34375 54.890625 33.015625 \nz\n\" id=\"DejaVuSans-104\"/>\n       <path d=\"M 44.28125 53.078125 \nL 44.28125 44.578125 \nQ 40.484375 46.53125 36.375 47.5 \nQ 32.28125 48.484375 27.875 48.484375 \nQ 21.1875 48.484375 17.84375 46.4375 \nQ 14.5 44.390625 14.5 40.28125 \nQ 14.5 37.15625 16.890625 35.375 \nQ 19.28125 33.59375 26.515625 31.984375 \nL 29.59375 31.296875 \nQ 39.15625 29.25 43.1875 25.515625 \nQ 47.21875 21.78125 47.21875 15.09375 \nQ 47.21875 7.46875 41.1875 3.015625 \nQ 35.15625 -1.421875 24.609375 -1.421875 \nQ 20.21875 -1.421875 15.453125 -0.5625 \nQ 10.6875 0.296875 5.421875 2 \nL 5.421875 11.28125 \nQ 10.40625 8.6875 15.234375 7.390625 \nQ 20.0625 6.109375 24.8125 6.109375 \nQ 31.15625 6.109375 34.5625 8.28125 \nQ 37.984375 10.453125 37.984375 14.40625 \nQ 37.984375 18.0625 35.515625 20.015625 \nQ 33.0625 21.96875 24.703125 23.78125 \nL 21.578125 24.515625 \nQ 13.234375 26.265625 9.515625 29.90625 \nQ 5.8125 33.546875 5.8125 39.890625 \nQ 5.8125 47.609375 11.28125 51.796875 \nQ 16.75 56 26.8125 56 \nQ 31.78125 56 36.171875 55.265625 \nQ 40.578125 54.546875 44.28125 53.078125 \nz\n\" id=\"DejaVuSans-115\"/>\n      </defs>\n      <use xlink:href=\"#DejaVuSans-69\"/>\n      <use x=\"63.183594\" xlink:href=\"#DejaVuSans-112\"/>\n      <use x=\"126.660156\" xlink:href=\"#DejaVuSans-111\"/>\n      <use x=\"187.841797\" xlink:href=\"#DejaVuSans-99\"/>\n      <use x=\"242.822266\" xlink:href=\"#DejaVuSans-104\"/>\n      <use x=\"306.201172\" xlink:href=\"#DejaVuSans-115\"/>\n     </g>\n    </g>\n   </g>\n   <g id=\"matplotlib.axis_2\">\n    <g id=\"ytick_1\">\n     <g id=\"line2d_7\">\n      <defs>\n       <path d=\"M 0 0 \nL -3.5 0 \n\" id=\"m8161c3905d\" style=\"stroke:#000000;stroke-width:0.8;\"/>\n      </defs>\n      <g>\n       <use style=\"stroke:#000000;stroke-width:0.8;\" x=\"73.18125\" xlink:href=\"#m8161c3905d\" y=\"189.594686\"/>\n      </g>\n     </g>\n     <g id=\"text_8\">\n      <!-- 0.50 -->\n      <g transform=\"translate(30.55625 195.673436)scale(0.16 -0.16)\">\n       <defs>\n        <path d=\"M 10.6875 12.40625 \nL 21 12.40625 \nL 21 0 \nL 10.6875 0 \nz\n\" id=\"DejaVuSans-46\"/>\n        <path d=\"M 10.796875 72.90625 \nL 49.515625 72.90625 \nL 49.515625 64.59375 \nL 19.828125 64.59375 \nL 19.828125 46.734375 \nQ 21.96875 47.46875 24.109375 47.828125 \nQ 26.265625 48.1875 28.421875 48.1875 \nQ 40.625 48.1875 47.75 41.5 \nQ 54.890625 34.8125 54.890625 23.390625 \nQ 54.890625 11.625 47.5625 5.09375 \nQ 40.234375 -1.421875 26.90625 -1.421875 \nQ 22.3125 -1.421875 17.546875 -0.640625 \nQ 12.796875 0.140625 7.71875 1.703125 \nL 7.71875 11.625 \nQ 12.109375 9.234375 16.796875 8.0625 \nQ 21.484375 6.890625 26.703125 6.890625 \nQ 35.15625 6.890625 40.078125 11.328125 \nQ 45.015625 15.765625 45.015625 23.390625 \nQ 45.015625 31 40.078125 35.4375 \nQ 35.15625 39.890625 26.703125 39.890625 \nQ 22.75 39.890625 18.8125 39.015625 \nQ 14.890625 38.140625 10.796875 36.28125 \nz\n\" id=\"DejaVuSans-53\"/>\n       </defs>\n       <use xlink:href=\"#DejaVuSans-48\"/>\n       <use x=\"63.623047\" xlink:href=\"#DejaVuSans-46\"/>\n       <use x=\"95.410156\" xlink:href=\"#DejaVuSans-53\"/>\n       <use x=\"159.033203\" xlink:href=\"#DejaVuSans-48\"/>\n      </g>\n     </g>\n    </g>\n    <g id=\"ytick_2\">\n     <g id=\"line2d_8\">\n      <g>\n       <use style=\"stroke:#000000;stroke-width:0.8;\" x=\"73.18125\" xlink:href=\"#m8161c3905d\" y=\"145.515702\"/>\n      </g>\n     </g>\n     <g id=\"text_9\">\n      <!-- 0.55 -->\n      <g transform=\"translate(30.55625 151.594452)scale(0.16 -0.16)\">\n       <use xlink:href=\"#DejaVuSans-48\"/>\n       <use x=\"63.623047\" xlink:href=\"#DejaVuSans-46\"/>\n       <use x=\"95.410156\" xlink:href=\"#DejaVuSans-53\"/>\n       <use x=\"159.033203\" xlink:href=\"#DejaVuSans-53\"/>\n      </g>\n     </g>\n    </g>\n    <g id=\"ytick_3\">\n     <g id=\"line2d_9\">\n      <g>\n       <use style=\"stroke:#000000;stroke-width:0.8;\" x=\"73.18125\" xlink:href=\"#m8161c3905d\" y=\"101.436718\"/>\n      </g>\n     </g>\n     <g id=\"text_10\">\n      <!-- 0.60 -->\n      <g transform=\"translate(30.55625 107.515468)scale(0.16 -0.16)\">\n       <use xlink:href=\"#DejaVuSans-48\"/>\n       <use x=\"63.623047\" xlink:href=\"#DejaVuSans-46\"/>\n       <use x=\"95.410156\" xlink:href=\"#DejaVuSans-54\"/>\n       <use x=\"159.033203\" xlink:href=\"#DejaVuSans-48\"/>\n      </g>\n     </g>\n    </g>\n    <g id=\"ytick_4\">\n     <g id=\"line2d_10\">\n      <g>\n       <use style=\"stroke:#000000;stroke-width:0.8;\" x=\"73.18125\" xlink:href=\"#m8161c3905d\" y=\"57.357734\"/>\n      </g>\n     </g>\n     <g id=\"text_11\">\n      <!-- 0.65 -->\n      <g transform=\"translate(30.55625 63.436484)scale(0.16 -0.16)\">\n       <use xlink:href=\"#DejaVuSans-48\"/>\n       <use x=\"63.623047\" xlink:href=\"#DejaVuSans-46\"/>\n       <use x=\"95.410156\" xlink:href=\"#DejaVuSans-54\"/>\n       <use x=\"159.033203\" xlink:href=\"#DejaVuSans-53\"/>\n      </g>\n     </g>\n    </g>\n    <g id=\"ytick_5\">\n     <g id=\"line2d_11\">\n      <g>\n       <use style=\"stroke:#000000;stroke-width:0.8;\" x=\"73.18125\" xlink:href=\"#m8161c3905d\" y=\"13.27875\"/>\n      </g>\n     </g>\n     <g id=\"text_12\">\n      <!-- 0.70 -->\n      <g transform=\"translate(30.55625 19.3575)scale(0.16 -0.16)\">\n       <defs>\n        <path d=\"M 8.203125 72.90625 \nL 55.078125 72.90625 \nL 55.078125 68.703125 \nL 28.609375 0 \nL 18.3125 0 \nL 43.21875 64.59375 \nL 8.203125 64.59375 \nz\n\" id=\"DejaVuSans-55\"/>\n       </defs>\n       <use xlink:href=\"#DejaVuSans-48\"/>\n       <use x=\"63.623047\" xlink:href=\"#DejaVuSans-46\"/>\n       <use x=\"95.410156\" xlink:href=\"#DejaVuSans-55\"/>\n       <use x=\"159.033203\" xlink:href=\"#DejaVuSans-48\"/>\n      </g>\n     </g>\n    </g>\n    <g id=\"text_13\">\n     <!-- Objective Value -->\n     <g transform=\"translate(22.396875 197.059807)rotate(-90)scale(0.2 -0.2)\">\n      <defs>\n       <path d=\"M 39.40625 66.21875 \nQ 28.65625 66.21875 22.328125 58.203125 \nQ 16.015625 50.203125 16.015625 36.375 \nQ 16.015625 22.609375 22.328125 14.59375 \nQ 28.65625 6.59375 39.40625 6.59375 \nQ 50.140625 6.59375 56.421875 14.59375 \nQ 62.703125 22.609375 62.703125 36.375 \nQ 62.703125 50.203125 56.421875 58.203125 \nQ 50.140625 66.21875 39.40625 66.21875 \nz\nM 39.40625 74.21875 \nQ 54.734375 74.21875 63.90625 63.9375 \nQ 73.09375 53.65625 73.09375 36.375 \nQ 73.09375 19.140625 63.90625 8.859375 \nQ 54.734375 -1.421875 39.40625 -1.421875 \nQ 24.03125 -1.421875 14.8125 8.828125 \nQ 5.609375 19.09375 5.609375 36.375 \nQ 5.609375 53.65625 14.8125 63.9375 \nQ 24.03125 74.21875 39.40625 74.21875 \nz\n\" id=\"DejaVuSans-79\"/>\n       <path d=\"M 48.6875 27.296875 \nQ 48.6875 37.203125 44.609375 42.84375 \nQ 40.53125 48.484375 33.40625 48.484375 \nQ 26.265625 48.484375 22.1875 42.84375 \nQ 18.109375 37.203125 18.109375 27.296875 \nQ 18.109375 17.390625 22.1875 11.75 \nQ 26.265625 6.109375 33.40625 6.109375 \nQ 40.53125 6.109375 44.609375 11.75 \nQ 48.6875 17.390625 48.6875 27.296875 \nz\nM 18.109375 46.390625 \nQ 20.953125 51.265625 25.265625 53.625 \nQ 29.59375 56 35.59375 56 \nQ 45.5625 56 51.78125 48.09375 \nQ 58.015625 40.1875 58.015625 27.296875 \nQ 58.015625 14.40625 51.78125 6.484375 \nQ 45.5625 -1.421875 35.59375 -1.421875 \nQ 29.59375 -1.421875 25.265625 0.953125 \nQ 20.953125 3.328125 18.109375 8.203125 \nL 18.109375 0 \nL 9.078125 0 \nL 9.078125 75.984375 \nL 18.109375 75.984375 \nz\n\" id=\"DejaVuSans-98\"/>\n       <path d=\"M 9.421875 54.6875 \nL 18.40625 54.6875 \nL 18.40625 -0.984375 \nQ 18.40625 -11.421875 14.421875 -16.109375 \nQ 10.453125 -20.796875 1.609375 -20.796875 \nL -1.8125 -20.796875 \nL -1.8125 -13.1875 \nL 0.59375 -13.1875 \nQ 5.71875 -13.1875 7.5625 -10.8125 \nQ 9.421875 -8.453125 9.421875 -0.984375 \nz\nM 9.421875 75.984375 \nL 18.40625 75.984375 \nL 18.40625 64.59375 \nL 9.421875 64.59375 \nz\n\" id=\"DejaVuSans-106\"/>\n       <path d=\"M 56.203125 29.59375 \nL 56.203125 25.203125 \nL 14.890625 25.203125 \nQ 15.484375 15.921875 20.484375 11.0625 \nQ 25.484375 6.203125 34.421875 6.203125 \nQ 39.59375 6.203125 44.453125 7.46875 \nQ 49.3125 8.734375 54.109375 11.28125 \nL 54.109375 2.78125 \nQ 49.265625 0.734375 44.1875 -0.34375 \nQ 39.109375 -1.421875 33.890625 -1.421875 \nQ 20.796875 -1.421875 13.15625 6.1875 \nQ 5.515625 13.8125 5.515625 26.8125 \nQ 5.515625 40.234375 12.765625 48.109375 \nQ 20.015625 56 32.328125 56 \nQ 43.359375 56 49.78125 48.890625 \nQ 56.203125 41.796875 56.203125 29.59375 \nz\nM 47.21875 32.234375 \nQ 47.125 39.59375 43.09375 43.984375 \nQ 39.0625 48.390625 32.421875 48.390625 \nQ 24.90625 48.390625 20.390625 44.140625 \nQ 15.875 39.890625 15.1875 32.171875 \nz\n\" id=\"DejaVuSans-101\"/>\n       <path d=\"M 18.3125 70.21875 \nL 18.3125 54.6875 \nL 36.8125 54.6875 \nL 36.8125 47.703125 \nL 18.3125 47.703125 \nL 18.3125 18.015625 \nQ 18.3125 11.328125 20.140625 9.421875 \nQ 21.96875 7.515625 27.59375 7.515625 \nL 36.8125 7.515625 \nL 36.8125 0 \nL 27.59375 0 \nQ 17.1875 0 13.234375 3.875 \nQ 9.28125 7.765625 9.28125 18.015625 \nL 9.28125 47.703125 \nL 2.6875 47.703125 \nL 2.6875 54.6875 \nL 9.28125 54.6875 \nL 9.28125 70.21875 \nz\n\" id=\"DejaVuSans-116\"/>\n       <path d=\"M 9.421875 54.6875 \nL 18.40625 54.6875 \nL 18.40625 0 \nL 9.421875 0 \nz\nM 9.421875 75.984375 \nL 18.40625 75.984375 \nL 18.40625 64.59375 \nL 9.421875 64.59375 \nz\n\" id=\"DejaVuSans-105\"/>\n       <path d=\"M 2.984375 54.6875 \nL 12.5 54.6875 \nL 29.59375 8.796875 \nL 46.6875 54.6875 \nL 56.203125 54.6875 \nL 35.6875 0 \nL 23.484375 0 \nz\n\" id=\"DejaVuSans-118\"/>\n       <path id=\"DejaVuSans-32\"/>\n       <path d=\"M 28.609375 0 \nL 0.78125 72.90625 \nL 11.078125 72.90625 \nL 34.1875 11.53125 \nL 57.328125 72.90625 \nL 67.578125 72.90625 \nL 39.796875 0 \nz\n\" id=\"DejaVuSans-86\"/>\n       <path d=\"M 34.28125 27.484375 \nQ 23.390625 27.484375 19.1875 25 \nQ 14.984375 22.515625 14.984375 16.5 \nQ 14.984375 11.71875 18.140625 8.90625 \nQ 21.296875 6.109375 26.703125 6.109375 \nQ 34.1875 6.109375 38.703125 11.40625 \nQ 43.21875 16.703125 43.21875 25.484375 \nL 43.21875 27.484375 \nz\nM 52.203125 31.203125 \nL 52.203125 0 \nL 43.21875 0 \nL 43.21875 8.296875 \nQ 40.140625 3.328125 35.546875 0.953125 \nQ 30.953125 -1.421875 24.3125 -1.421875 \nQ 15.921875 -1.421875 10.953125 3.296875 \nQ 6 8.015625 6 15.921875 \nQ 6 25.140625 12.171875 29.828125 \nQ 18.359375 34.515625 30.609375 34.515625 \nL 43.21875 34.515625 \nL 43.21875 35.40625 \nQ 43.21875 41.609375 39.140625 45 \nQ 35.0625 48.390625 27.6875 48.390625 \nQ 23 48.390625 18.546875 47.265625 \nQ 14.109375 46.140625 10.015625 43.890625 \nL 10.015625 52.203125 \nQ 14.9375 54.109375 19.578125 55.046875 \nQ 24.21875 56 28.609375 56 \nQ 40.484375 56 46.34375 49.84375 \nQ 52.203125 43.703125 52.203125 31.203125 \nz\n\" id=\"DejaVuSans-97\"/>\n       <path d=\"M 9.421875 75.984375 \nL 18.40625 75.984375 \nL 18.40625 0 \nL 9.421875 0 \nz\n\" id=\"DejaVuSans-108\"/>\n       <path d=\"M 8.5 21.578125 \nL 8.5 54.6875 \nL 17.484375 54.6875 \nL 17.484375 21.921875 \nQ 17.484375 14.15625 20.5 10.265625 \nQ 23.53125 6.390625 29.59375 6.390625 \nQ 36.859375 6.390625 41.078125 11.03125 \nQ 45.3125 15.671875 45.3125 23.6875 \nL 45.3125 54.6875 \nL 54.296875 54.6875 \nL 54.296875 0 \nL 45.3125 0 \nL 45.3125 8.40625 \nQ 42.046875 3.421875 37.71875 1 \nQ 33.40625 -1.421875 27.6875 -1.421875 \nQ 18.265625 -1.421875 13.375 4.4375 \nQ 8.5 10.296875 8.5 21.578125 \nz\nM 31.109375 56 \nz\n\" id=\"DejaVuSans-117\"/>\n      </defs>\n      <use xlink:href=\"#DejaVuSans-79\"/>\n      <use x=\"78.710938\" xlink:href=\"#DejaVuSans-98\"/>\n      <use x=\"142.1875\" xlink:href=\"#DejaVuSans-106\"/>\n      <use x=\"169.970703\" xlink:href=\"#DejaVuSans-101\"/>\n      <use x=\"231.494141\" xlink:href=\"#DejaVuSans-99\"/>\n      <use x=\"286.474609\" xlink:href=\"#DejaVuSans-116\"/>\n      <use x=\"325.683594\" xlink:href=\"#DejaVuSans-105\"/>\n      <use x=\"353.466797\" xlink:href=\"#DejaVuSans-118\"/>\n      <use x=\"412.646484\" xlink:href=\"#DejaVuSans-101\"/>\n      <use x=\"474.169922\" xlink:href=\"#DejaVuSans-32\"/>\n      <use x=\"505.957031\" xlink:href=\"#DejaVuSans-86\"/>\n      <use x=\"566.615234\" xlink:href=\"#DejaVuSans-97\"/>\n      <use x=\"627.894531\" xlink:href=\"#DejaVuSans-108\"/>\n      <use x=\"655.677734\" xlink:href=\"#DejaVuSans-117\"/>\n      <use x=\"719.056641\" xlink:href=\"#DejaVuSans-101\"/>\n     </g>\n    </g>\n   </g>\n   <g id=\"line2d_12\">\n    <path clip-path=\"url(#p075c26eca9)\" d=\"M 88.717332 19.320056 \nL 91.855934 111.496245 \nL 94.994537 148.344494 \nL 98.133139 168.271824 \nL 101.271742 180.844778 \nL 104.410344 189.461005 \nL 107.548946 195.667549 \nL 110.687549 200.289119 \nL 113.826151 203.813573 \nL 116.964754 206.550743 \nL 120.103356 208.707543 \nL 123.241958 210.427384 \nL 126.380561 211.812548 \nL 129.519163 212.937679 \nL 132.657766 213.8583 \nL 135.796368 214.616382 \nL 138.93497 215.244099 \nL 142.073573 215.766416 \nL 145.212175 216.202914 \nL 148.350778 216.569101 \nL 151.48938 216.877359 \nL 154.627982 217.137653 \nL 157.766585 217.358058 \nL 160.905187 217.545156 \nL 164.04379 217.704341 \nL 167.182392 217.840058 \nL 170.320994 217.955986 \nL 173.459597 218.055182 \nL 176.598199 218.140195 \nL 179.736802 218.21316 \nL 182.875404 218.275867 \nL 186.014006 218.329827 \nL 189.152609 218.376311 \nL 192.291211 218.4164 \nL 195.429814 218.451006 \nL 198.568416 218.480907 \nL 201.707018 218.506766 \nL 204.845621 218.529145 \nL 207.984223 218.548529 \nL 211.122826 218.565329 \nL 214.261428 218.5799 \nL 217.40003 218.592545 \nL 220.538633 218.603525 \nL 223.677235 218.613065 \nL 226.815838 218.621358 \nL 229.95444 218.62857 \nL 233.093042 218.634845 \nL 236.231645 218.640307 \nL 239.370247 218.645063 \nL 242.50885 218.649207 \nL 245.647452 218.652818 \nL 248.786054 218.655966 \nL 251.924657 218.658712 \nL 255.063259 218.661107 \nL 258.201862 218.663197 \nL 261.340464 218.665021 \nL 264.479066 218.666614 \nL 267.617669 218.668005 \nL 270.756271 218.66922 \nL 273.894874 218.670282 \nL 277.033476 218.67121 \nL 280.172078 218.672021 \nL 283.310681 218.672731 \nL 286.449283 218.673351 \nL 289.587886 218.673894 \nL 292.726488 218.674369 \nL 295.86509 218.674784 \nL 299.003693 218.675148 \nL 302.142295 218.675466 \nL 305.280898 218.675745 \nL 308.4195 218.675989 \nL 311.558102 218.676203 \nL 314.696705 218.67639 \nL 317.835307 218.676554 \nL 320.97391 218.676698 \nL 324.112512 218.676823 \nL 327.251114 218.676934 \nL 330.389717 218.677031 \nL 333.528319 218.677115 \nL 336.666922 218.67719 \nL 339.805524 218.677255 \nL 342.944127 218.677312 \nL 346.082729 218.677362 \nL 349.221331 218.677406 \nL 352.359934 218.677445 \nL 355.498536 218.677479 \nL 358.637139 218.677508 \nL 361.775741 218.677535 \nL 364.914343 218.677557 \nL 368.052946 218.677578 \nL 371.191548 218.677595 \nL 374.330151 218.677611 \nL 377.468753 218.677624 \nL 380.607355 218.677636 \nL 383.745958 218.677647 \nL 386.88456 218.677656 \nL 390.023163 218.677664 \nL 393.161765 218.677671 \nL 396.300367 218.677677 \nL 399.43897 218.677683 \n\" style=\"fill:none;stroke:#0000ff;stroke-dasharray:14.8,6.4;stroke-dashoffset:0;stroke-width:4;\"/>\n   </g>\n   <g id=\"line2d_13\">\n    <path clip-path=\"url(#p075c26eca9)\" d=\"M 88.717332 172.456536 \nL 91.855934 174.96451 \nL 94.994537 193.09525 \nL 98.133139 185.006363 \nL 101.271742 189.283553 \nL 104.410344 189.90906 \nL 107.548946 192.822357 \nL 110.687549 196.781691 \nL 113.826151 198.108188 \nL 116.964754 200.118542 \nL 120.103356 198.627429 \nL 123.241958 204.868212 \nL 126.380561 202.696998 \nL 129.519163 205.479126 \nL 132.657766 205.117359 \nL 135.796368 208.960896 \nL 138.93497 208.247735 \nL 142.073573 211.243237 \nL 145.212175 210.184627 \nL 148.350778 211.125654 \nL 151.48938 211.71406 \nL 154.627982 212.873047 \nL 157.766585 213.356771 \nL 160.905187 213.129457 \nL 164.04379 213.795754 \nL 167.182392 215.117016 \nL 170.320994 214.95442 \nL 173.459597 215.263142 \nL 176.598199 215.679283 \nL 179.736802 215.866087 \nL 182.875404 215.992489 \nL 186.014006 216.470435 \nL 189.152609 216.94478 \nL 192.291211 216.671296 \nL 195.429814 216.910171 \nL 198.568416 217.129798 \nL 201.707018 217.279004 \nL 204.845621 217.405645 \nL 207.984223 217.522561 \nL 211.122826 217.647952 \nL 214.261428 217.764965 \nL 217.40003 217.857896 \nL 220.538633 217.915647 \nL 223.677235 217.998914 \nL 226.815838 218.078495 \nL 229.95444 218.125461 \nL 233.093042 218.181168 \nL 236.231645 218.230737 \nL 239.370247 218.27242 \nL 242.50885 218.315211 \nL 245.647452 218.350049 \nL 248.786054 218.382469 \nL 251.924657 218.411809 \nL 255.063259 218.437755 \nL 258.201862 218.461678 \nL 261.340464 218.483828 \nL 264.479066 218.503166 \nL 267.617669 218.520735 \nL 270.756271 218.536239 \nL 273.894874 218.550385 \nL 277.033476 218.562898 \nL 280.172078 218.574372 \nL 283.310681 218.584635 \nL 286.449283 218.593825 \nL 289.587886 218.602202 \nL 292.726488 218.609773 \nL 295.86509 218.616596 \nL 299.003693 218.622644 \nL 302.142295 218.628197 \nL 305.280898 218.633134 \nL 308.4195 218.63761 \nL 311.558102 218.641549 \nL 314.696705 218.645174 \nL 317.835307 218.64841 \nL 320.97391 218.651334 \nL 324.112512 218.653969 \nL 327.251114 218.656343 \nL 330.389717 218.658471 \nL 333.528319 218.660392 \nL 336.666922 218.662116 \nL 339.805524 218.663667 \nL 342.944127 218.665063 \nL 346.082729 218.666324 \nL 349.221331 218.66746 \nL 352.359934 218.668478 \nL 355.498536 218.669397 \nL 358.637139 218.670222 \nL 361.775741 218.670965 \nL 364.914343 218.671635 \nL 368.052946 218.672237 \nL 371.191548 218.67278 \nL 374.330151 218.673268 \nL 377.468753 218.673707 \nL 380.607355 218.674102 \nL 383.745958 218.674458 \nL 386.88456 218.674778 \nL 390.023163 218.675066 \nL 393.161765 218.675325 \nL 396.300367 218.675559 \nL 399.43897 218.675769 \n\" style=\"fill:none;stroke:#ff0000;stroke-linecap:square;stroke-width:2;\"/>\n   </g>\n   <g id=\"line2d_14\">\n    <path clip-path=\"url(#p075c26eca9)\" d=\"M 88.717332 142.767653 \nL 91.855934 200.823671 \nL 94.994537 209.785247 \nL 98.133139 212.218814 \nL 101.271742 213.864958 \nL 104.410344 214.961471 \nL 107.548946 215.524308 \nL 110.687549 216.012217 \nL 113.826151 215.920102 \nL 116.964754 216.244482 \nL 120.103356 216.587369 \nL 123.241958 216.738748 \nL 126.380561 216.727561 \nL 129.519163 217.100605 \nL 132.657766 217.165076 \nL 135.796368 217.386853 \nL 138.93497 217.495865 \nL 142.073573 217.610829 \nL 145.212175 217.781664 \nL 148.350778 217.808915 \nL 151.48938 217.941788 \nL 154.627982 217.968876 \nL 157.766585 218.034828 \nL 160.905187 218.110746 \nL 164.04379 218.203478 \nL 167.182392 218.298914 \nL 170.320994 218.308214 \nL 173.459597 218.315779 \nL 176.598199 218.341279 \nL 179.736802 218.374229 \nL 182.875404 218.403964 \nL 186.014006 218.439573 \nL 189.152609 218.47749 \nL 192.291211 218.482838 \nL 195.429814 218.500122 \nL 198.568416 218.508486 \nL 201.707018 218.540649 \nL 204.845621 218.54163 \nL 207.984223 218.547497 \nL 211.122826 218.56687 \nL 214.261428 218.57878 \nL 217.40003 218.594853 \nL 220.538633 218.594907 \nL 223.677235 218.600431 \nL 226.815838 218.608004 \nL 229.95444 218.614906 \nL 233.093042 218.622145 \nL 236.231645 218.626202 \nL 239.370247 218.628504 \nL 242.50885 218.635027 \nL 245.647452 218.638664 \nL 248.786054 218.641174 \nL 251.924657 218.644578 \nL 255.063259 218.64954 \nL 258.201862 218.650985 \nL 261.340464 218.65253 \nL 264.479066 218.653872 \nL 267.617669 218.655965 \nL 270.756271 218.656295 \nL 273.894874 218.65956 \nL 277.033476 218.659877 \nL 280.172078 218.661875 \nL 283.310681 218.661667 \nL 286.449283 218.6636 \nL 289.587886 218.664576 \nL 292.726488 218.664556 \nL 295.86509 218.665701 \nL 299.003693 218.66616 \nL 302.142295 218.666767 \nL 305.280898 218.667664 \nL 308.4195 218.667504 \nL 311.558102 218.668209 \nL 314.696705 218.668815 \nL 317.835307 218.668676 \nL 320.97391 218.669238 \nL 324.112512 218.669329 \nL 327.251114 218.669507 \nL 330.389717 218.669811 \nL 333.528319 218.670241 \nL 336.666922 218.670237 \nL 339.805524 218.670422 \nL 342.944127 218.670666 \nL 346.082729 218.670665 \nL 349.221331 218.670806 \nL 352.359934 218.671005 \nL 355.498536 218.67106 \nL 358.637139 218.671058 \nL 361.775741 218.671187 \nL 364.914343 218.67118 \nL 368.052946 218.671273 \nL 371.191548 218.671399 \nL 374.330151 218.671396 \nL 377.468753 218.671433 \nL 380.607355 218.671459 \nL 383.745958 218.671505 \nL 386.88456 218.671551 \nL 390.023163 218.671588 \nL 393.161765 218.671589 \nL 396.300367 218.671646 \nL 399.43897 218.671649 \n\" style=\"fill:none;stroke:#008000;stroke-linecap:square;stroke-width:2;\"/>\n   </g>\n   <g id=\"line2d_15\">\n    <path clip-path=\"url(#p075c26eca9)\" d=\"M 88.717332 106.408882 \nL 91.855934 176.319354 \nL 94.994537 193.410506 \nL 98.133139 202.951729 \nL 101.271742 207.630303 \nL 104.410344 210.372844 \nL 107.548946 212.581571 \nL 110.687549 213.532556 \nL 113.826151 214.437275 \nL 116.964754 215.227007 \nL 120.103356 215.839295 \nL 123.241958 216.052457 \nL 126.380561 216.338246 \nL 129.519163 216.437762 \nL 132.657766 216.908981 \nL 135.796368 217.005632 \nL 138.93497 217.074661 \nL 142.073573 217.223979 \nL 145.212175 217.242264 \nL 148.350778 217.386764 \nL 151.48938 217.603177 \nL 154.627982 217.545039 \nL 157.766585 217.733697 \nL 160.905187 217.739436 \nL 164.04379 217.808407 \nL 167.182392 217.873205 \nL 170.320994 217.89066 \nL 173.459597 217.902822 \nL 176.598199 217.941756 \nL 179.736802 217.932674 \nL 182.875404 217.999272 \nL 186.014006 218.017871 \nL 189.152609 217.999105 \nL 192.291211 218.052437 \nL 195.429814 218.068708 \nL 198.568416 218.070471 \nL 201.707018 218.086735 \nL 204.845621 218.092322 \nL 207.984223 218.09773 \nL 211.122826 218.10904 \nL 214.261428 218.121525 \nL 217.40003 218.128029 \nL 220.538633 218.136712 \nL 223.677235 218.152999 \nL 226.815838 218.142916 \nL 229.95444 218.15537 \nL 233.093042 218.160667 \nL 236.231645 218.158738 \nL 239.370247 218.161718 \nL 242.50885 218.169969 \nL 245.647452 218.173634 \nL 248.786054 218.177541 \nL 251.924657 218.179291 \nL 255.063259 218.177783 \nL 258.201862 218.181178 \nL 261.340464 218.183628 \nL 264.479066 218.185297 \nL 267.617669 218.183398 \nL 270.756271 218.183259 \nL 273.894874 218.186071 \nL 277.033476 218.189045 \nL 280.172078 218.188429 \nL 283.310681 218.189929 \nL 286.449283 218.190379 \nL 289.587886 218.192235 \nL 292.726488 218.191575 \nL 295.86509 218.191989 \nL 299.003693 218.192959 \nL 302.142295 218.192667 \nL 305.280898 218.193288 \nL 308.4195 218.193455 \nL 311.558102 218.194316 \nL 314.696705 218.194081 \nL 317.835307 218.194924 \nL 320.97391 218.195057 \nL 324.112512 218.19494 \nL 327.251114 218.195074 \nL 330.389717 218.195436 \nL 333.528319 218.195375 \nL 336.666922 218.195597 \nL 339.805524 218.195749 \nL 342.944127 218.195814 \nL 346.082729 218.195836 \nL 349.221331 218.195983 \nL 352.359934 218.196063 \nL 355.498536 218.196079 \nL 358.637139 218.196224 \nL 361.775741 218.196302 \nL 364.914343 218.1963 \nL 368.052946 218.19629 \nL 371.191548 218.196369 \nL 374.330151 218.196436 \nL 377.468753 218.196449 \nL 380.607355 218.19643 \nL 383.745958 218.19652 \nL 386.88456 218.196504 \nL 390.023163 218.196536 \nL 393.161765 218.196527 \nL 396.300367 218.196574 \nL 399.43897 218.196586 \n\" style=\"fill:none;stroke:#bfbf00;stroke-linecap:square;stroke-width:2;\"/>\n   </g>\n   <g id=\"patch_3\">\n    <path d=\"M 73.18125 228.645564 \nL 73.18125 9.352175 \n\" style=\"fill:none;stroke:#000000;stroke-linecap:square;stroke-linejoin:miter;stroke-width:0.8;\"/>\n   </g>\n   <g id=\"patch_4\">\n    <path d=\"M 414.975052 228.645564 \nL 414.975052 9.352175 \n\" style=\"fill:none;stroke:#000000;stroke-linecap:square;stroke-linejoin:miter;stroke-width:0.8;\"/>\n   </g>\n   <g id=\"patch_5\">\n    <path d=\"M 73.18125 228.645564 \nL 414.975052 228.645564 \n\" style=\"fill:none;stroke:#000000;stroke-linecap:square;stroke-linejoin:miter;stroke-width:0.8;\"/>\n   </g>\n   <g id=\"patch_6\">\n    <path d=\"M 73.18125 9.352175 \nL 414.975052 9.352175 \n\" style=\"fill:none;stroke:#000000;stroke-linecap:square;stroke-linejoin:miter;stroke-width:0.8;\"/>\n   </g>\n   <g id=\"legend_1\">\n    <g id=\"patch_7\">\n     <path d=\"M 243.534427 142.777175 \nL 400.975052 142.777175 \nQ 404.975052 142.777175 404.975052 138.777175 \nL 404.975052 23.352175 \nQ 404.975052 19.352175 400.975052 19.352175 \nL 243.534427 19.352175 \nQ 239.534427 19.352175 239.534427 23.352175 \nL 239.534427 138.777175 \nQ 239.534427 142.777175 243.534427 142.777175 \nz\n\" style=\"fill:#ffffff;opacity:0.8;stroke:#cccccc;stroke-linejoin:miter;\"/>\n    </g>\n    <g id=\"line2d_16\">\n     <path d=\"M 247.534427 35.54905 \nL 287.534427 35.54905 \n\" style=\"fill:none;stroke:#0000ff;stroke-dasharray:14.8,6.4;stroke-dashoffset:0;stroke-width:4;\"/>\n    </g>\n    <g id=\"line2d_17\"/>\n    <g id=\"text_14\">\n     <!-- GD -->\n     <g transform=\"translate(303.534427 42.54905)scale(0.2 -0.2)\">\n      <defs>\n       <path d=\"M 59.515625 10.40625 \nL 59.515625 29.984375 \nL 43.40625 29.984375 \nL 43.40625 38.09375 \nL 69.28125 38.09375 \nL 69.28125 6.78125 \nQ 63.578125 2.734375 56.6875 0.65625 \nQ 49.8125 -1.421875 42 -1.421875 \nQ 24.90625 -1.421875 15.25 8.5625 \nQ 5.609375 18.5625 5.609375 36.375 \nQ 5.609375 54.25 15.25 64.234375 \nQ 24.90625 74.21875 42 74.21875 \nQ 49.125 74.21875 55.546875 72.453125 \nQ 61.96875 70.703125 67.390625 67.28125 \nL 67.390625 56.78125 \nQ 61.921875 61.421875 55.765625 63.765625 \nQ 49.609375 66.109375 42.828125 66.109375 \nQ 29.4375 66.109375 22.71875 58.640625 \nQ 16.015625 51.171875 16.015625 36.375 \nQ 16.015625 21.625 22.71875 14.15625 \nQ 29.4375 6.6875 42.828125 6.6875 \nQ 48.046875 6.6875 52.140625 7.59375 \nQ 56.25 8.5 59.515625 10.40625 \nz\n\" id=\"DejaVuSans-71\"/>\n       <path d=\"M 19.671875 64.796875 \nL 19.671875 8.109375 \nL 31.59375 8.109375 \nQ 46.6875 8.109375 53.6875 14.9375 \nQ 60.6875 21.78125 60.6875 36.53125 \nQ 60.6875 51.171875 53.6875 57.984375 \nQ 46.6875 64.796875 31.59375 64.796875 \nz\nM 9.8125 72.90625 \nL 30.078125 72.90625 \nQ 51.265625 72.90625 61.171875 64.09375 \nQ 71.09375 55.28125 71.09375 36.53125 \nQ 71.09375 17.671875 61.125 8.828125 \nQ 51.171875 0 30.078125 0 \nL 9.8125 0 \nz\n\" id=\"DejaVuSans-68\"/>\n      </defs>\n      <use xlink:href=\"#DejaVuSans-71\"/>\n      <use x=\"77.490234\" xlink:href=\"#DejaVuSans-68\"/>\n     </g>\n    </g>\n    <g id=\"line2d_18\">\n     <path d=\"M 247.534427 64.9053 \nL 287.534427 64.9053 \n\" style=\"fill:none;stroke:#ff0000;stroke-linecap:square;stroke-width:2;\"/>\n    </g>\n    <g id=\"line2d_19\"/>\n    <g id=\"text_15\">\n     <!-- SGD -->\n     <g transform=\"translate(303.534427 71.9053)scale(0.2 -0.2)\">\n      <defs>\n       <path d=\"M 53.515625 70.515625 \nL 53.515625 60.890625 \nQ 47.90625 63.578125 42.921875 64.890625 \nQ 37.9375 66.21875 33.296875 66.21875 \nQ 25.25 66.21875 20.875 63.09375 \nQ 16.5 59.96875 16.5 54.203125 \nQ 16.5 49.359375 19.40625 46.890625 \nQ 22.3125 44.4375 30.421875 42.921875 \nL 36.375 41.703125 \nQ 47.40625 39.59375 52.65625 34.296875 \nQ 57.90625 29 57.90625 20.125 \nQ 57.90625 9.515625 50.796875 4.046875 \nQ 43.703125 -1.421875 29.984375 -1.421875 \nQ 24.8125 -1.421875 18.96875 -0.25 \nQ 13.140625 0.921875 6.890625 3.21875 \nL 6.890625 13.375 \nQ 12.890625 10.015625 18.65625 8.296875 \nQ 24.421875 6.59375 29.984375 6.59375 \nQ 38.421875 6.59375 43.015625 9.90625 \nQ 47.609375 13.234375 47.609375 19.390625 \nQ 47.609375 24.75 44.3125 27.78125 \nQ 41.015625 30.8125 33.5 32.328125 \nL 27.484375 33.5 \nQ 16.453125 35.6875 11.515625 40.375 \nQ 6.59375 45.0625 6.59375 53.421875 \nQ 6.59375 63.09375 13.40625 68.65625 \nQ 20.21875 74.21875 32.171875 74.21875 \nQ 37.3125 74.21875 42.625 73.28125 \nQ 47.953125 72.359375 53.515625 70.515625 \nz\n\" id=\"DejaVuSans-83\"/>\n      </defs>\n      <use xlink:href=\"#DejaVuSans-83\"/>\n      <use x=\"63.476562\" xlink:href=\"#DejaVuSans-71\"/>\n      <use x=\"140.966797\" xlink:href=\"#DejaVuSans-68\"/>\n     </g>\n    </g>\n    <g id=\"line2d_20\">\n     <path d=\"M 247.534427 94.26155 \nL 287.534427 94.26155 \n\" style=\"fill:none;stroke:#008000;stroke-linecap:square;stroke-width:2;\"/>\n    </g>\n    <g id=\"line2d_21\"/>\n    <g id=\"text_16\">\n     <!-- mbsgd8 -->\n     <g transform=\"translate(303.534427 101.26155)scale(0.2 -0.2)\">\n      <defs>\n       <path d=\"M 52 44.1875 \nQ 55.375 50.25 60.0625 53.125 \nQ 64.75 56 71.09375 56 \nQ 79.640625 56 84.28125 50.015625 \nQ 88.921875 44.046875 88.921875 33.015625 \nL 88.921875 0 \nL 79.890625 0 \nL 79.890625 32.71875 \nQ 79.890625 40.578125 77.09375 44.375 \nQ 74.3125 48.1875 68.609375 48.1875 \nQ 61.625 48.1875 57.5625 43.546875 \nQ 53.515625 38.921875 53.515625 30.90625 \nL 53.515625 0 \nL 44.484375 0 \nL 44.484375 32.71875 \nQ 44.484375 40.625 41.703125 44.40625 \nQ 38.921875 48.1875 33.109375 48.1875 \nQ 26.21875 48.1875 22.15625 43.53125 \nQ 18.109375 38.875 18.109375 30.90625 \nL 18.109375 0 \nL 9.078125 0 \nL 9.078125 54.6875 \nL 18.109375 54.6875 \nL 18.109375 46.1875 \nQ 21.1875 51.21875 25.484375 53.609375 \nQ 29.78125 56 35.6875 56 \nQ 41.65625 56 45.828125 52.96875 \nQ 50 49.953125 52 44.1875 \nz\n\" id=\"DejaVuSans-109\"/>\n       <path d=\"M 45.40625 27.984375 \nQ 45.40625 37.75 41.375 43.109375 \nQ 37.359375 48.484375 30.078125 48.484375 \nQ 22.859375 48.484375 18.828125 43.109375 \nQ 14.796875 37.75 14.796875 27.984375 \nQ 14.796875 18.265625 18.828125 12.890625 \nQ 22.859375 7.515625 30.078125 7.515625 \nQ 37.359375 7.515625 41.375 12.890625 \nQ 45.40625 18.265625 45.40625 27.984375 \nz\nM 54.390625 6.78125 \nQ 54.390625 -7.171875 48.1875 -13.984375 \nQ 42 -20.796875 29.203125 -20.796875 \nQ 24.46875 -20.796875 20.265625 -20.09375 \nQ 16.0625 -19.390625 12.109375 -17.921875 \nL 12.109375 -9.1875 \nQ 16.0625 -11.328125 19.921875 -12.34375 \nQ 23.78125 -13.375 27.78125 -13.375 \nQ 36.625 -13.375 41.015625 -8.765625 \nQ 45.40625 -4.15625 45.40625 5.171875 \nL 45.40625 9.625 \nQ 42.625 4.78125 38.28125 2.390625 \nQ 33.9375 0 27.875 0 \nQ 17.828125 0 11.671875 7.65625 \nQ 5.515625 15.328125 5.515625 27.984375 \nQ 5.515625 40.671875 11.671875 48.328125 \nQ 17.828125 56 27.875 56 \nQ 33.9375 56 38.28125 53.609375 \nQ 42.625 51.21875 45.40625 46.390625 \nL 45.40625 54.6875 \nL 54.390625 54.6875 \nz\n\" id=\"DejaVuSans-103\"/>\n       <path d=\"M 45.40625 46.390625 \nL 45.40625 75.984375 \nL 54.390625 75.984375 \nL 54.390625 0 \nL 45.40625 0 \nL 45.40625 8.203125 \nQ 42.578125 3.328125 38.25 0.953125 \nQ 33.9375 -1.421875 27.875 -1.421875 \nQ 17.96875 -1.421875 11.734375 6.484375 \nQ 5.515625 14.40625 5.515625 27.296875 \nQ 5.515625 40.1875 11.734375 48.09375 \nQ 17.96875 56 27.875 56 \nQ 33.9375 56 38.25 53.625 \nQ 42.578125 51.265625 45.40625 46.390625 \nz\nM 14.796875 27.296875 \nQ 14.796875 17.390625 18.875 11.75 \nQ 22.953125 6.109375 30.078125 6.109375 \nQ 37.203125 6.109375 41.296875 11.75 \nQ 45.40625 17.390625 45.40625 27.296875 \nQ 45.40625 37.203125 41.296875 42.84375 \nQ 37.203125 48.484375 30.078125 48.484375 \nQ 22.953125 48.484375 18.875 42.84375 \nQ 14.796875 37.203125 14.796875 27.296875 \nz\n\" id=\"DejaVuSans-100\"/>\n      </defs>\n      <use xlink:href=\"#DejaVuSans-109\"/>\n      <use x=\"97.412109\" xlink:href=\"#DejaVuSans-98\"/>\n      <use x=\"160.888672\" xlink:href=\"#DejaVuSans-115\"/>\n      <use x=\"212.988281\" xlink:href=\"#DejaVuSans-103\"/>\n      <use x=\"276.464844\" xlink:href=\"#DejaVuSans-100\"/>\n      <use x=\"339.941406\" xlink:href=\"#DejaVuSans-56\"/>\n     </g>\n    </g>\n    <g id=\"line2d_22\">\n     <path d=\"M 247.534427 123.6178 \nL 287.534427 123.6178 \n\" style=\"fill:none;stroke:#bfbf00;stroke-linecap:square;stroke-width:2;\"/>\n    </g>\n    <g id=\"line2d_23\"/>\n    <g id=\"text_17\">\n     <!-- mbsgd64 -->\n     <g transform=\"translate(303.534427 130.6178)scale(0.2 -0.2)\">\n      <use xlink:href=\"#DejaVuSans-109\"/>\n      <use x=\"97.412109\" xlink:href=\"#DejaVuSans-98\"/>\n      <use x=\"160.888672\" xlink:href=\"#DejaVuSans-115\"/>\n      <use x=\"212.988281\" xlink:href=\"#DejaVuSans-103\"/>\n      <use x=\"276.464844\" xlink:href=\"#DejaVuSans-100\"/>\n      <use x=\"339.941406\" xlink:href=\"#DejaVuSans-54\"/>\n      <use x=\"403.564453\" xlink:href=\"#DejaVuSans-52\"/>\n     </g>\n    </g>\n   </g>\n  </g>\n </g>\n <defs>\n  <clipPath id=\"p075c26eca9\">\n   <rect height=\"219.293389\" width=\"341.793802\" x=\"73.18125\" y=\"9.352175\"/>\n  </clipPath>\n </defs>\n</svg>\n",
      "image/png": "[encoded data removed]"
     },
     "metadata": {
      "needs_background": "light"
     }
    }
   ],
   "source": [
    "# plot the 4 curves:\n",
    "import matplotlib.pyplot as plt\n",
    "%matplotlib inline\n",
    "\n",
    "fig = plt.figure(figsize=(6, 4))\n",
    "\n",
    "epochs_gd = range(len(objvals_gd))\n",
    "epochs_sgd = range(len(objvals_sgd))\n",
    "epochs_mb8sgd = range(len(objvals_mbsgd8))\n",
    "epochs_mb64sgd = range(len(objvals_mbsgd64))\n",
    "\n",
    "line0, = plt.plot(epochs_gd, objvals_gd, '--b', LineWidth=4)\n",
    "line1, = plt.plot(epochs_sgd, objvals_sgd, '-r', LineWidth=2)\n",
    "line2, = plt.plot(epochs_mb8sgd, objvals_mbsgd8, '-g', LineWidth=2)\n",
    "line3, = plt.plot(epochs_mb64sgd, objvals_mbsgd64, '-y', LineWidth=2)\n",
    "\n",
    "\n",
    "plt.xlabel('Epochs', FontSize=20)\n",
    "plt.ylabel('Objective Value', FontSize=20)\n",
    "plt.xticks(FontSize=16)\n",
    "plt.yticks(FontSize=16)\n",
    "plt.legend([line0, line1, line2, line3], ['GD', 'SGD', 'mbsgd8', 'mbsgd64'], fontsize=20)\n",
    "plt.tight_layout()\n",
    "plt.show()\n",
    "fig.savefig('compare_all.pdf', format='pdf', dpi=1200)"
   ]
  },
  {
   "source": [],
   "cell_type": "markdown",
   "metadata": {}
  }
 ],
 "metadata": {
  "kernelspec": {
   "display_name": "Python 3",
   "language": "python",
   "name": "python3"
  },
  "language_info": {
   "codemirror_mode": {
    "name": "ipython",
    "version": 3
   },
   "file_extension": ".py",
   "mimetype": "text/x-python",
   "name": "python",
   "nbconvert_exporter": "python",
   "pygments_lexer": "ipython3",
   "version": "3.8.5-final"
  }
 },
 "nbformat": 4,
 "nbformat_minor": 2
}